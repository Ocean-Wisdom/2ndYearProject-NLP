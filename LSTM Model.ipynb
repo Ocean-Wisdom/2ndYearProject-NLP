{
 "cells": [
  {
   "cell_type": "markdown",
   "id": "0f027718",
   "metadata": {},
   "source": [
    "### Training LSTM model"
   ]
  },
  {
   "cell_type": "markdown",
   "id": "e7bf4a2c",
   "metadata": {},
   "source": [
    "The following code is designed to train 32 different models by combination of different pre-processing methods. The order of the below processes reflects the order of the preprocessing methods.\n",
    "<list>\n",
    "- Expansion of contractions\n",
    "- Basic preprocessing\n",
    "- Grammar correction\n",
    "- Simplification of negations\n",
    "- Lemmatization\n",
    "- Removal of stop words"
   ]
  },
  {
   "cell_type": "code",
   "execution_count": null,
   "id": "49a06b85",
   "metadata": {},
   "outputs": [],
   "source": [
    "import imports as ii\n",
    "import functions as f\n",
    "import preprocessing as pp\n",
    "import neuralnetworks as nn\n",
    "import trainRNN as trainRNN"
   ]
  },
  {
   "cell_type": "code",
   "execution_count": 4,
   "id": "81a4d86b",
   "metadata": {},
   "outputs": [
    {
     "name": "stdout",
     "output_type": "stream",
     "text": [
      "Number of data:  100000\n",
      "Number of data:  10000\n"
     ]
    }
   ],
   "source": [
    "PATH = {}\n",
    "PATH[\"dataset_classification\"] = \"dataset/classification/\"\n",
    "PATH[\"dataset_labeling\"] = \"dataset/seq_labeling/\"\n",
    "PATH[\"music_reviews_train\"] = PATH[\"dataset_classification\"] + \"music_reviews_train.json.gz\"\n",
    "PATH[\"music_reviews_dev\"] = PATH[\"dataset_classification\"] + \"music_reviews_dev.json.gz\"\n",
    "PATH[\"music_reviews_test\"] = PATH[\"dataset_classification\"] + \"music_reviews_test.json.gz\"\n",
    "train = f.readJson(PATH[\"music_reviews_train\"])\n",
    "test = f.readJson(PATH[\"music_reviews_dev\"])"
   ]
  },
  {
   "cell_type": "code",
   "execution_count": 20,
   "id": "03fcbedc",
   "metadata": {},
   "outputs": [],
   "source": [
    "X_train, y_train, train_idx, train_missing_idx = f.json_divide(train)\n",
    "X_test, y_test, test_idx, test_missing_idx = f.json_divide(test)\n",
    "\n",
    "# convert labels\n",
    "sent_dict = {\"positive\": 1, \"negative\": 0}\n",
    "y_train = pp.sentiment_converter(y_train, sent_dict)\n",
    "y_test = pp.sentiment_converter(y_test, sent_dict)\n",
    "\n",
    "##############################################################\n",
    "leng = 5000 # train set size (how many samples are used for training)\n",
    "start = 6666\n",
    "maxlen = 50 # length of sentences\n",
    "\n",
    "##############################################################\n",
    "X_train = X_train[start:start+leng]\n",
    "y_train = y_train[start:start+leng]\n",
    "#X_test = X_test[start:start+leng]\n",
    "#y_test = y_test[start:start+leng]"
   ]
  },
  {
   "cell_type": "markdown",
   "id": "1c6d8f5b",
   "metadata": {},
   "source": [
    "# Grid search & Training"
   ]
  },
  {
   "cell_type": "markdown",
   "id": "823b5c12",
   "metadata": {},
   "source": [
    "# Below line is running for a while"
   ]
  },
  {
   "cell_type": "code",
   "execution_count": null,
   "id": "c7a72e8a",
   "metadata": {},
   "outputs": [],
   "source": [
    "data_sets, y_train, y_test = f.grid_search(X_train, X_test, y_train, y_test)"
   ]
  },
  {
   "cell_type": "code",
   "execution_count": null,
   "id": "073119f8",
   "metadata": {},
   "outputs": [],
   "source": [
    "# ii.reload(f)\n",
    "# to be merged into the training, now seperated\n",
    "# basic statistics about the sets\n",
    "f.statistics_sets_sizes(data_sets, max_len=maxlen)"
   ]
  },
  {
   "cell_type": "code",
   "execution_count": null,
   "id": "e2846878",
   "metadata": {
    "scrolled": false
   },
   "outputs": [],
   "source": [
    "trainRNN.trainRNN(data_sets, y_train, y_test, early_stop_patience=2, filename=\"dummy\", maxlen=maxlen)"
   ]
  },
  {
   "cell_type": "code",
   "execution_count": 60,
   "id": "d10d0ace",
   "metadata": {},
   "outputs": [],
   "source": [
    "# For retraining"
   ]
  },
  {
   "cell_type": "code",
   "execution_count": 65,
   "id": "a4124394",
   "metadata": {},
   "outputs": [],
   "source": [
    "p3 = [1,1,1,1,0,1]\n",
    "#p3 = [0,1,0,0,0,1]\n",
    "p3 = [0,1,1,0,0,1]\n",
    "\n",
    "data_sets, y_train, y_test = f.grid_search_retrain(X_train, X_test, y_train, y_test, p3)"
   ]
  },
  {
   "cell_type": "code",
   "execution_count": 66,
   "id": "491cce2e",
   "metadata": {},
   "outputs": [
    {
     "name": "stdout",
     "output_type": "stream",
     "text": [
      "Combinations:  [0, 1, 1, 0, 0, 1]\n",
      "Epoch 1/10\n",
      "200/200 [==============================] - 34s 95ms/step - loss: 0.8153 - accuracy: 0.6858 - val_loss: 0.5098 - val_accuracy: 0.7986 - lr: 0.0010\n",
      "Epoch 2/10\n",
      "200/200 [==============================] - ETA: 0s - loss: 0.2705 - accuracy: 0.9062\n",
      "Epoch 2: ReduceLROnPlateau reducing learning rate to 0.00020000000949949026.\n",
      "200/200 [==============================] - 20s 100ms/step - loss: 0.2705 - accuracy: 0.9062 - val_loss: 0.5389 - val_accuracy: 0.8232 - lr: 0.0010\n",
      "Epoch 3/10\n",
      "200/200 [==============================] - ETA: 0s - loss: 0.1684 - accuracy: 0.9582\n",
      "Epoch 3: ReduceLROnPlateau reducing learning rate to 4.0000001899898055e-05.\n",
      "200/200 [==============================] - 20s 98ms/step - loss: 0.1684 - accuracy: 0.9582 - val_loss: 0.7030 - val_accuracy: 0.8198 - lr: 2.0000e-04\n",
      "Epoch 4/10\n",
      "200/200 [==============================] - ETA: 0s - loss: 0.1455 - accuracy: 0.9684\n",
      "Epoch 4: ReduceLROnPlateau reducing learning rate to 8.000000525498762e-06.\n",
      "200/200 [==============================] - 20s 98ms/step - loss: 0.1455 - accuracy: 0.9684 - val_loss: 0.6533 - val_accuracy: 0.8206 - lr: 4.0000e-05\n",
      "Epoch 5/10\n",
      "200/200 [==============================] - ETA: 0s - loss: 0.1391 - accuracy: 0.9694\n",
      "Epoch 5: ReduceLROnPlateau reducing learning rate to 1.6000001778593287e-06.\n",
      "200/200 [==============================] - 20s 101ms/step - loss: 0.1391 - accuracy: 0.9694 - val_loss: 0.6514 - val_accuracy: 0.8213 - lr: 8.0000e-06\n",
      "Epoch 6/10\n",
      "200/200 [==============================] - ETA: 0s - loss: 0.1382 - accuracy: 0.9700\n",
      "Epoch 6: ReduceLROnPlateau reducing learning rate to 3.200000264769187e-07.\n",
      "200/200 [==============================] - 22s 110ms/step - loss: 0.1382 - accuracy: 0.9700 - val_loss: 0.6527 - val_accuracy: 0.8212 - lr: 1.6000e-06\n",
      "Epoch 7/10\n",
      "200/200 [==============================] - ETA: 0s - loss: 0.1381 - accuracy: 0.9700\n",
      "Epoch 7: ReduceLROnPlateau reducing learning rate to 6.400000529538374e-08.\n",
      "200/200 [==============================] - 20s 100ms/step - loss: 0.1381 - accuracy: 0.9700 - val_loss: 0.6538 - val_accuracy: 0.8211 - lr: 3.2000e-07\n",
      "Epoch 8/10\n",
      "200/200 [==============================] - ETA: 0s - loss: 0.1381 - accuracy: 0.9700\n",
      "Epoch 8: ReduceLROnPlateau reducing learning rate to 1.2800001059076749e-08.\n",
      "200/200 [==============================] - 21s 104ms/step - loss: 0.1381 - accuracy: 0.9700 - val_loss: 0.6541 - val_accuracy: 0.8211 - lr: 6.4000e-08\n",
      "Epoch 9/10\n",
      "200/200 [==============================] - ETA: 0s - loss: 0.1381 - accuracy: 0.9700\n",
      "Epoch 9: ReduceLROnPlateau reducing learning rate to 2.5600002118153498e-09.\n",
      "200/200 [==============================] - 22s 110ms/step - loss: 0.1381 - accuracy: 0.9700 - val_loss: 0.6541 - val_accuracy: 0.8211 - lr: 1.2800e-08\n",
      "Epoch 10/10\n",
      "200/200 [==============================] - ETA: 0s - loss: 0.1381 - accuracy: 0.9700\n",
      "Epoch 10: ReduceLROnPlateau reducing learning rate to 5.1200004236307e-10.\n",
      "200/200 [==============================] - 21s 107ms/step - loss: 0.1381 - accuracy: 0.9700 - val_loss: 0.6541 - val_accuracy: 0.8211 - lr: 2.5600e-09\n"
     ]
    },
    {
     "data": {
      "image/png": "[encoded data removed]",
      "text/plain": [
       "<Figure size 432x288 with 1 Axes>"
      ]
     },
     "metadata": {
      "needs_background": "light"
     },
     "output_type": "display_data"
    },
    {
     "name": "stdout",
     "output_type": "stream",
     "text": [
      "Combinations were checked\n"
     ]
    }
   ],
   "source": [
    "trainRNN.trainRNN(data_sets, y_train, y_test, early_stop_patience=10, filename=\"5000_retrain_new_stop_words\")"
   ]
  }
 ],
 "metadata": {
  "kernelspec": {
   "display_name": "Python 3 (ipykernel)",
   "language": "python",
   "name": "python3"
  },
  "language_info": {
   "codemirror_mode": {
    "name": "ipython",
    "version": 3
   },
   "file_extension": ".py",
   "mimetype": "text/x-python",
   "name": "python",
   "nbconvert_exporter": "python",
   "pygments_lexer": "ipython3",
   "version": "3.9.6"
  }
 },
 "nbformat": 4,
 "nbformat_minor": 5
}
