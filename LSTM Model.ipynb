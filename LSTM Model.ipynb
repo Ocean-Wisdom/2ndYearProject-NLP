{
 "cells": [
  {
   "cell_type": "markdown",
   "id": "0f027718",
   "metadata": {},
   "source": [
    "### Training LSTM model"
   ]
  },
  {
   "cell_type": "markdown",
   "id": "e7bf4a2c",
   "metadata": {},
   "source": [
    "The following code is designed to train 32 different models by combination of different pre-processing methods. The order of the below processes reflects the order of the preprocessing methods.\n",
    "<list>\n",
    "- Expansion of contractions\n",
    "- Basic preprocessing\n",
    "- Grammar correction\n",
    "- Simplification of negations\n",
    "- Lemmatization\n",
    "- Removal of stop words"
   ]
  },
  {
   "cell_type": "markdown",
   "id": "bf8db1ee",
   "metadata": {},
   "source": [
    "#### Imports"
   ]
  },
  {
   "cell_type": "code",
   "execution_count": 3,
   "id": "49a06b85",
   "metadata": {},
   "outputs": [
    {
     "name": "stderr",
     "output_type": "stream",
     "text": [
      "[nltk_data] Downloading package wordnet to\n",
      "[nltk_data]     C:\\Users\\MUSIC\\AppData\\Roaming\\nltk_data...\n",
      "[nltk_data]   Package wordnet is already up-to-date!\n",
      "[nltk_data] Downloading package averaged_perceptron_tagger to\n",
      "[nltk_data]     C:\\Users\\MUSIC\\AppData\\Roaming\\nltk_data...\n",
      "[nltk_data]   Package averaged_perceptron_tagger is already up-to-\n",
      "[nltk_data]       date!\n"
     ]
    }
   ],
   "source": [
    "import imports as ii\n",
    "import functions as f\n",
    "import preprocessing as pp\n",
    "import neuralnetworks as nn\n",
    "import trainRNN as trainRNN"
   ]
  },
  {
   "cell_type": "markdown",
   "id": "37fd07f8",
   "metadata": {},
   "source": [
    "#### Read-in the datasets"
   ]
  },
  {
   "cell_type": "code",
   "execution_count": 4,
   "id": "81a4d86b",
   "metadata": {},
   "outputs": [
    {
     "name": "stdout",
     "output_type": "stream",
     "text": [
      "Number of data:  100000\n",
      "Number of data:  10000\n"
     ]
    }
   ],
   "source": [
    "PATH = {}\n",
    "PATH[\"dataset_classification\"] = \"dataset/classification/\"\n",
    "PATH[\"dataset_labeling\"] = \"dataset/seq_labeling/\"\n",
    "PATH[\"music_reviews_train\"] = PATH[\"dataset_classification\"] + \"music_reviews_train.json.gz\"\n",
    "PATH[\"music_reviews_dev\"] = PATH[\"dataset_classification\"] + \"music_reviews_dev.json.gz\"\n",
    "PATH[\"music_reviews_test\"] = PATH[\"dataset_classification\"] + \"music_reviews_test.json.gz\"\n",
    "train = f.readJson(PATH[\"music_reviews_train\"])\n",
    "test = f.readJson(PATH[\"music_reviews_dev\"])"
   ]
  },
  {
   "cell_type": "markdown",
   "id": "951860c3",
   "metadata": {},
   "source": [
    "#### Define features of training"
   ]
  },
  {
   "cell_type": "markdown",
   "id": "df88a9c2",
   "metadata": {},
   "source": [
    "Below variables defining:\n",
    "<list>\n",
    "- leng = how many sentence will be used for the training\n",
    "- maxlen = maximum length of words in each sentences both in the training and test data"
   ]
  },
  {
   "cell_type": "code",
   "execution_count": 6,
   "id": "fe92bda1",
   "metadata": {},
   "outputs": [],
   "source": [
    "leng = 5000\n",
    "maxlen = 40"
   ]
  },
  {
   "cell_type": "code",
   "execution_count": 7,
   "id": "03fcbedc",
   "metadata": {},
   "outputs": [],
   "source": [
    "# read in train and test data\n",
    "\n",
    "X_train, y_train, train_idx, train_missing_idx = f.json_divide(train)\n",
    "X_test, y_test, test_idx, test_missing_idx = f.json_divide(test)\n",
    "\n",
    "# convert labels\n",
    "\n",
    "sent_dict = {\"positive\": 1, \"negative\": 0}\n",
    "y_train = pp.sentiment_converter(y_train, sent_dict)\n",
    "y_test = pp.sentiment_converter(y_test, sent_dict)\n",
    "\n",
    "# sampling\n",
    "\n",
    "start = 6666 # just a number\n",
    "\n",
    "X_train = X_train[start:start+leng]\n",
    "y_train = y_train[start:start+leng]\n"
   ]
  },
  {
   "cell_type": "markdown",
   "id": "1c6d8f5b",
   "metadata": {},
   "source": [
    "#### Grid search & Training\n",
    "Below code generating 32 combinations of each preprocessing methods on the train and test set. The structure of the generated datasets is:\n",
    "<list> \n",
    "- data_sets[0] - First preprocessing combination\n",
    "- data_set[0][0] - Labels array of the combinations. For instance:  [0,1,0,0,0,0] meaning only the basic pre-processing was applied, the rest was not\n",
    "- data_sets[0][1] - Preprocessed Train set\n",
    "- datasets[0][2] - Preprocessed Dev set\n",
    "    \n",
    "</list>\n",
    "\n",
    "It's running for a while since it is generating a relatively huge set"
   ]
  },
  {
   "cell_type": "code",
   "execution_count": 10,
   "id": "c7a72e8a",
   "metadata": {},
   "outputs": [],
   "source": [
    "data_sets, y_train, y_test = f.grid_search(X_train, X_test, y_train, y_test)"
   ]
  },
  {
   "cell_type": "markdown",
   "id": "c158b5d2",
   "metadata": {},
   "source": [
    "#### Ratio of fully catched sentences\n",
    "Basic statistics about the ratio of sentencies which were fully catched with the given maximum sentence length variable"
   ]
  },
  {
   "cell_type": "code",
   "execution_count": null,
   "id": "073119f8",
   "metadata": {},
   "outputs": [],
   "source": [
    "f.statistics_sets_sizes(data_sets, max_len=maxlen)"
   ]
  },
  {
   "cell_type": "markdown",
   "id": "d5ff777f",
   "metadata": {},
   "source": [
    "### Training the LSTM model\n",
    "Training and evaulation takes around one hour with 5000 sentences"
   ]
  },
  {
   "cell_type": "code",
   "execution_count": null,
   "id": "e2846878",
   "metadata": {
    "scrolled": false
   },
   "outputs": [],
   "source": [
    "trainRNN.trainRNN(data_sets, y_train, y_test, early_stop_patience=2, filename=\"dummy\", maxlen=maxlen)"
   ]
  },
  {
   "cell_type": "markdown",
   "id": "bdb37fff",
   "metadata": {},
   "source": [
    "### Re-training an LSTM model\n",
    "The code below is written for train a model with a given pre-process combination or combinations. Note: Early stopping criteria set to 10, meaning model is able to overfit."
   ]
  },
  {
   "cell_type": "code",
   "execution_count": 17,
   "id": "a4124394",
   "metadata": {},
   "outputs": [
    {
     "name": "stdout",
     "output_type": "stream",
     "text": [
      "Combinations:  [1, 1, 1, 1, 1, 1]\n",
      "Epoch 1/10\n",
      "200/200 [==============================] - 14s 58ms/step - loss: 0.6170 - accuracy: 0.7070 - val_loss: 0.5396 - val_accuracy: 0.7141 - lr: 0.0010\n",
      "Epoch 2/10\n",
      "199/200 [============================>.] - ETA: 0s - loss: 0.4213 - accuracy: 0.8410\n",
      "Epoch 2: ReduceLROnPlateau reducing learning rate to 0.00020000000949949026.\n",
      "200/200 [==============================] - 11s 55ms/step - loss: 0.4217 - accuracy: 0.8406 - val_loss: 0.5351 - val_accuracy: 0.7881 - lr: 0.0010\n",
      "Epoch 3/10\n",
      "199/200 [============================>.] - ETA: 0s - loss: 0.1852 - accuracy: 0.9399\n",
      "Epoch 3: ReduceLROnPlateau reducing learning rate to 4.0000001899898055e-05.\n",
      "200/200 [==============================] - 11s 55ms/step - loss: 0.1851 - accuracy: 0.9400 - val_loss: 0.5232 - val_accuracy: 0.8145 - lr: 2.0000e-04\n",
      "Epoch 4/10\n",
      "199/200 [============================>.] - ETA: 0s - loss: 0.1510 - accuracy: 0.9532\n",
      "Epoch 4: ReduceLROnPlateau reducing learning rate to 8.000000525498762e-06.\n",
      "200/200 [==============================] - 11s 56ms/step - loss: 0.1507 - accuracy: 0.9532 - val_loss: 0.5130 - val_accuracy: 0.8178 - lr: 4.0000e-05\n",
      "Epoch 5/10\n",
      "200/200 [==============================] - ETA: 0s - loss: 0.1450 - accuracy: 0.9548\n",
      "Epoch 5: ReduceLROnPlateau reducing learning rate to 1.6000001778593287e-06.\n",
      "200/200 [==============================] - 15s 77ms/step - loss: 0.1450 - accuracy: 0.9548 - val_loss: 0.5251 - val_accuracy: 0.8177 - lr: 8.0000e-06\n",
      "Epoch 6/10\n",
      "200/200 [==============================] - ETA: 0s - loss: 0.1439 - accuracy: 0.9560\n",
      "Epoch 6: ReduceLROnPlateau reducing learning rate to 3.200000264769187e-07.\n",
      "200/200 [==============================] - 17s 87ms/step - loss: 0.1439 - accuracy: 0.9560 - val_loss: 0.5268 - val_accuracy: 0.8172 - lr: 1.6000e-06\n",
      "Epoch 7/10\n",
      "200/200 [==============================] - ETA: 0s - loss: 0.1437 - accuracy: 0.9558\n",
      "Epoch 7: ReduceLROnPlateau reducing learning rate to 6.400000529538374e-08.\n",
      "200/200 [==============================] - 15s 77ms/step - loss: 0.1437 - accuracy: 0.9558 - val_loss: 0.5271 - val_accuracy: 0.8172 - lr: 3.2000e-07\n",
      "Epoch 8/10\n",
      "200/200 [==============================] - ETA: 0s - loss: 0.1436 - accuracy: 0.9558\n",
      "Epoch 8: ReduceLROnPlateau reducing learning rate to 1.2800001059076749e-08.\n",
      "200/200 [==============================] - 13s 65ms/step - loss: 0.1436 - accuracy: 0.9558 - val_loss: 0.5273 - val_accuracy: 0.8172 - lr: 6.4000e-08\n",
      "Epoch 9/10\n",
      "199/200 [============================>.] - ETA: 0s - loss: 0.1440 - accuracy: 0.9556\n",
      "Epoch 9: ReduceLROnPlateau reducing learning rate to 2.5600002118153498e-09.\n",
      "200/200 [==============================] - 13s 65ms/step - loss: 0.1436 - accuracy: 0.9558 - val_loss: 0.5273 - val_accuracy: 0.8172 - lr: 1.2800e-08\n",
      "Epoch 10/10\n",
      "199/200 [============================>.] - ETA: 0s - loss: 0.1434 - accuracy: 0.9562\n",
      "Epoch 10: ReduceLROnPlateau reducing learning rate to 5.1200004236307e-10.\n",
      "200/200 [==============================] - 13s 67ms/step - loss: 0.1436 - accuracy: 0.9558 - val_loss: 0.5273 - val_accuracy: 0.8172 - lr: 2.5600e-09\n"
     ]
    },
    {
     "data": {
      "image/png": "[encoded data removed]",
      "text/plain": [
       "<Figure size 432x288 with 1 Axes>"
      ]
     },
     "metadata": {
      "needs_background": "light"
     },
     "output_type": "display_data"
    },
    {
     "name": "stdout",
     "output_type": "stream",
     "text": [
      "Combinations were checked\n",
      "Combinations:  [0, 1, 0, 0, 0, 0]\n",
      "Epoch 1/10\n",
      "200/200 [==============================] - 17s 79ms/step - loss: 0.6078 - accuracy: 0.7328 - val_loss: 0.4737 - val_accuracy: 0.8437 - lr: 0.0010\n",
      "Epoch 2/10\n",
      "200/200 [==============================] - 15s 74ms/step - loss: 0.2702 - accuracy: 0.8980 - val_loss: 0.4497 - val_accuracy: 0.7987 - lr: 0.0010\n",
      "Epoch 3/10\n",
      "199/200 [============================>.] - ETA: 0s - loss: 0.1573 - accuracy: 0.9495\n",
      "Epoch 3: ReduceLROnPlateau reducing learning rate to 0.00020000000949949026.\n",
      "200/200 [==============================] - 14s 70ms/step - loss: 0.1567 - accuracy: 0.9496 - val_loss: 0.6304 - val_accuracy: 0.8293 - lr: 0.0010\n",
      "Epoch 4/10\n",
      "199/200 [============================>.] - ETA: 0s - loss: 0.0854 - accuracy: 0.9795\n",
      "Epoch 4: ReduceLROnPlateau reducing learning rate to 4.0000001899898055e-05.\n",
      "200/200 [==============================] - 14s 72ms/step - loss: 0.0854 - accuracy: 0.9794 - val_loss: 0.6254 - val_accuracy: 0.8390 - lr: 2.0000e-04\n",
      "Epoch 5/10\n",
      "200/200 [==============================] - ETA: 0s - loss: 0.0696 - accuracy: 0.9850\n",
      "Epoch 5: ReduceLROnPlateau reducing learning rate to 8.000000525498762e-06.\n",
      "200/200 [==============================] - 14s 71ms/step - loss: 0.0696 - accuracy: 0.9850 - val_loss: 0.6688 - val_accuracy: 0.8409 - lr: 4.0000e-05\n",
      "Epoch 6/10\n",
      "199/200 [============================>.] - ETA: 0s - loss: 0.0678 - accuracy: 0.9859\n",
      "Epoch 6: ReduceLROnPlateau reducing learning rate to 1.6000001778593287e-06.\n",
      "200/200 [==============================] - 15s 74ms/step - loss: 0.0675 - accuracy: 0.9860 - val_loss: 0.6701 - val_accuracy: 0.8398 - lr: 8.0000e-06\n",
      "Epoch 7/10\n",
      "200/200 [==============================] - ETA: 0s - loss: 0.0670 - accuracy: 0.9862\n",
      "Epoch 7: ReduceLROnPlateau reducing learning rate to 3.200000264769187e-07.\n",
      "200/200 [==============================] - 14s 71ms/step - loss: 0.0670 - accuracy: 0.9862 - val_loss: 0.6706 - val_accuracy: 0.8396 - lr: 1.6000e-06\n",
      "Epoch 8/10\n",
      "199/200 [============================>.] - ETA: 0s - loss: 0.0669 - accuracy: 0.9863\n",
      "Epoch 8: ReduceLROnPlateau reducing learning rate to 6.400000529538374e-08.\n",
      "200/200 [==============================] - 14s 71ms/step - loss: 0.0669 - accuracy: 0.9862 - val_loss: 0.6707 - val_accuracy: 0.8397 - lr: 3.2000e-07\n",
      "Epoch 9/10\n",
      "200/200 [==============================] - ETA: 0s - loss: 0.0669 - accuracy: 0.9862\n",
      "Epoch 9: ReduceLROnPlateau reducing learning rate to 1.2800001059076749e-08.\n",
      "200/200 [==============================] - 14s 69ms/step - loss: 0.0669 - accuracy: 0.9862 - val_loss: 0.6707 - val_accuracy: 0.8397 - lr: 6.4000e-08\n",
      "Epoch 10/10\n",
      "200/200 [==============================] - ETA: 0s - loss: 0.0669 - accuracy: 0.9862\n",
      "Epoch 10: ReduceLROnPlateau reducing learning rate to 2.5600002118153498e-09.\n",
      "200/200 [==============================] - 14s 69ms/step - loss: 0.0669 - accuracy: 0.9862 - val_loss: 0.6707 - val_accuracy: 0.8397 - lr: 1.2800e-08\n"
     ]
    },
    {
     "data": {
      "image/png": "[encoded data removed]",
      "text/plain": [
       "<Figure size 432x288 with 1 Axes>"
      ]
     },
     "metadata": {
      "needs_background": "light"
     },
     "output_type": "display_data"
    },
    {
     "name": "stdout",
     "output_type": "stream",
     "text": [
      "Combinations were checked\n"
     ]
    }
   ],
   "source": [
    "# define combinations\n",
    "combination = [[1,1,1,1,1,1], [0,1,0,0,0,0]]\n",
    "\n",
    "# name of the file which will contain the LOGS\n",
    "filename = \"retraining\"\n",
    "\n",
    "# early stopping criteria - max 10! \n",
    "early_stop_patience = 10\n",
    "\n",
    "for comb in combination:\n",
    "    data_sets, y_train, y_test = f.grid_search_retrain(X_train, X_test, y_train, y_test, comb)\n",
    "    trainRNN.trainRNN(data_sets, y_train, y_test, early_stop_patience=early_stop_patience, filename=filename, maxlen=maxlen)"
   ]
  },
  {
   "cell_type": "code",
   "execution_count": null,
   "id": "84c7048b",
   "metadata": {},
   "outputs": [],
   "source": []
  }
 ],
 "metadata": {
  "kernelspec": {
   "display_name": "Python 3 (ipykernel)",
   "language": "python",
   "name": "python3"
  },
  "language_info": {
   "codemirror_mode": {
    "name": "ipython",
    "version": 3
   },
   "file_extension": ".py",
   "mimetype": "text/x-python",
   "name": "python",
   "nbconvert_exporter": "python",
   "pygments_lexer": "ipython3",
   "version": "3.9.6"
  }
 },
 "nbformat": 4,
 "nbformat_minor": 5
}
