{
 "cells": [
  {
   "cell_type": "code",
   "execution_count": 5,
   "id": "1061d422",
   "metadata": {},
   "outputs": [],
   "source": [
    "PATH = {}\n",
    "PATH[\"sent\"] = 'dataset/phase2/release_data/sentiment/sentiment_suite.pkl'"
   ]
  },
  {
   "cell_type": "markdown",
   "id": "c83a0c45",
   "metadata": {},
   "source": [
    "1 load our model <br>\n",
    "2 Load the word to idx saved object <br>\n",
    "3 Find 100 sentencies, or write them. Also with tags ( positive-negative) <br>\n",
    "4 Try to fuck it up ( swap the meaning, like \"good\" turn into \"not good\" and check the result <br>\n",
    "5 Check accuracy, report hard cases "
   ]
  },
  {
   "cell_type": "markdown",
   "id": "51596031",
   "metadata": {},
   "source": [
    "Examples from checklist repo"
   ]
  },
  {
   "cell_type": "code",
   "execution_count": null,
   "id": "e190ca99",
   "metadata": {},
   "outputs": [],
   "source": []
  }
 ],
 "metadata": {
  "kernelspec": {
   "display_name": "Python 3 (ipykernel)",
   "language": "python",
   "name": "python3"
  },
  "language_info": {
   "codemirror_mode": {
    "name": "ipython",
    "version": 3
   },
   "file_extension": ".py",
   "mimetype": "text/x-python",
   "name": "python",
   "nbconvert_exporter": "python",
   "pygments_lexer": "ipython3",
   "version": "3.9.6"
  }
 },
 "nbformat": 4,
 "nbformat_minor": 5
}
