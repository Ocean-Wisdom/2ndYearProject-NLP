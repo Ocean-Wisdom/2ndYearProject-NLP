{
 "cells": [
  {
   "cell_type": "code",
   "execution_count": 2,
   "id": "0577d5d0",
   "metadata": {},
   "outputs": [],
   "source": [
    "# imports\n",
    "import tensorflow as tf\n",
    "import keras\n",
    "import pandas as pd\n",
    "\n",
    "# word to idx\n",
    "import pickle\n",
    "\n",
    "# our functions\n",
    "import functions as f"
   ]
  },
  {
   "cell_type": "code",
   "execution_count": 2,
   "id": "60685594",
   "metadata": {},
   "outputs": [],
   "source": [
    "PATH = {}\n",
    "PATH[\"dataset_classification\"] = \"dataset/classification/\"\n",
    "PATH[\"dataset_labeling\"] = \"dataset/seq_labeling/\"\n",
    "PATH[\"music_reviews_train\"] = PATH[\"dataset_classification\"] + \"music_reviews_train.json.gz\"\n",
    "PATH[\"music_reviews_dev\"] = PATH[\"dataset_classification\"] + \"music_reviews_dev.json.gz\"\n",
    "PATH[\"music_reviews_test\"] = PATH[\"dataset_classification\"] + \"music_reviews_test_masked.json.gz\"\n"
   ]
  },
  {
   "cell_type": "code",
   "execution_count": 31,
   "id": "cb371e6e",
   "metadata": {},
   "outputs": [
    {
     "name": "stderr",
     "output_type": "stream",
     "text": [
      "c:\\users\\music\\appdata\\local\\programs\\python\\python39\\lib\\site-packages\\IPython\\core\\interactiveshell.py:3441: FutureWarning: The error_bad_lines argument has been deprecated and will be removed in a future version.\n",
      "\n",
      "\n",
      "  exec(code_obj, self.user_global_ns, self.user_ns)\n"
     ]
    },
    {
     "data": {
      "text/html": [
       "<div>\n",
       "<style scoped>\n",
       "    .dataframe tbody tr th:only-of-type {\n",
       "        vertical-align: middle;\n",
       "    }\n",
       "\n",
       "    .dataframe tbody tr th {\n",
       "        vertical-align: top;\n",
       "    }\n",
       "\n",
       "    .dataframe thead th {\n",
       "        text-align: right;\n",
       "    }\n",
       "</style>\n",
       "<table border=\"1\" class=\"dataframe\">\n",
       "  <thead>\n",
       "    <tr style=\"text-align: right;\">\n",
       "      <th></th>\n",
       "      <th>Sentence</th>\n",
       "      <th>annotation</th>\n",
       "      <th>category</th>\n",
       "    </tr>\n",
       "    <tr>\n",
       "      <th>index</th>\n",
       "      <th></th>\n",
       "      <th></th>\n",
       "      <th></th>\n",
       "    </tr>\n",
       "  </thead>\n",
       "  <tbody>\n",
       "    <tr>\n",
       "      <th>0</th>\n",
       "      <td>NaN</td>\n",
       "      <td>1.0</td>\n",
       "      <td>NaN</td>\n",
       "    </tr>\n",
       "    <tr>\n",
       "      <th>1</th>\n",
       "      <td>This is sad</td>\n",
       "      <td>0.0</td>\n",
       "      <td>NaN</td>\n",
       "    </tr>\n",
       "    <tr>\n",
       "      <th>2</th>\n",
       "      <td>I am not happy to see her</td>\n",
       "      <td>0.0</td>\n",
       "      <td>NaN</td>\n",
       "    </tr>\n",
       "    <tr>\n",
       "      <th>3</th>\n",
       "      <td>This album is a riot to listen to</td>\n",
       "      <td>1.0</td>\n",
       "      <td>rare words</td>\n",
       "    </tr>\n",
       "    <tr>\n",
       "      <th>4</th>\n",
       "      <td>This CD will enchant anyone</td>\n",
       "      <td>1.0</td>\n",
       "      <td>rare words</td>\n",
       "    </tr>\n",
       "  </tbody>\n",
       "</table>\n",
       "</div>"
      ],
      "text/plain": [
       "                                Sentence  annotation    category\n",
       "index                                                           \n",
       "0                                    NaN         1.0         NaN\n",
       "1                            This is sad         0.0         NaN\n",
       "2              I am not happy to see her         0.0         NaN\n",
       "3      This album is a riot to listen to         1.0  rare words\n",
       "4            This CD will enchant anyone         1.0  rare words"
      ]
     },
     "execution_count": 31,
     "metadata": {},
     "output_type": "execute_result"
    }
   ],
   "source": [
    "# Read in google drives\n",
    "test = pd.read_csv('https://docs.google.com/spreadsheets/d/e/2PACX-1vQK7Cyu8BP41ZXqoS74SSHvoBRijNmIwU5p5PrB0RgnDbyWn0DdanuLxaaHTi1J5Fdw71IfsjoYhwJY/pub?gid=0&single=true&output=csv',\n",
    "                   # Set first column as rownames in data frame\n",
    "                   index_col=0, error_bad_lines=False\n",
    "                  )\n",
    "  # Same result as @TomAugspurger\n",
    "raw = test.rename(columns={\"Annotation (0: negative, 1: positive)\": \"annotation\"})\n",
    "raw.head(5)"
   ]
  },
  {
   "cell_type": "markdown",
   "id": "3a0a9d45",
   "metadata": {},
   "source": [
    "1 load our model <br>\n",
    "2 Load the word to idx saved object <br>\n",
    "3 Find 100 sentencies, or write them. Also with tags ( positive-negative) <br>\n",
    "4 Try to fuck it up ( swap the meaning, like \"good\" turn into \"not good\" and check the result <br>\n",
    "5 Check accuracy, report hard cases "
   ]
  },
  {
   "cell_type": "code",
   "execution_count": 66,
   "id": "eb112748",
   "metadata": {},
   "outputs": [],
   "source": [
    "test_x = []\n",
    "test_y = []\n",
    "test_com = []\n",
    "for i in range(len(raw)):\n",
    "    try: \n",
    "        len(raw['Sentence'][i])\n",
    "        test_x.append(raw['Sentence'][i])\n",
    "        test_y.append(raw['annotation'][i])\n",
    "        test_com.append(raw['category'][i])\n",
    "    except:\n",
    "        continue"
   ]
  },
  {
   "cell_type": "markdown",
   "id": "51596031",
   "metadata": {},
   "source": [
    "Examples from checklist repo"
   ]
  },
  {
   "cell_type": "code",
   "execution_count": 91,
   "id": "e190ca99",
   "metadata": {},
   "outputs": [
    {
     "name": "stdout",
     "output_type": "stream",
     "text": [
      "29\n"
     ]
    }
   ],
   "source": [
    "# Sentencies\n",
    "Train = ['This is a good day', 'what a hell is going on with the sound of the guitar? I never ever heard this shit before, unbeliveable!']\n",
    "#Train = ['This is bullshit, it sound like an old creppy dog']\n",
    "Labels = ['positive','negative']\n",
    "#Labels = ['negative']\n",
    "\n",
    "# labels to idx\n",
    "labels = []\n",
    "for i in Labels:\n",
    "    if i == \"positive\":\n",
    "        labels.append(1)\n",
    "    else:\n",
    "        labels.append(0)\n",
    "\n",
    "\n",
    "# load our model\n",
    "model = keras.models.load_model('model/2022-3-28-10-35-36')\n",
    "\n",
    "# load our word to idx\n",
    "sequencer = pickle.load( open( \"model/text_to_seq.p\", \"rb\" ) )\n",
    "sequencer = pickle.loads(sequencer)\n",
    "\n",
    "# Transform the example sentencies for idx\n",
    "Train = sequencer.transform(test_x)\n",
    "\n",
    "# padding apply\n",
    "def sequence_pad(sequence, padding='pre', maxlen=50):\n",
    "    res = tf.keras.preprocessing.sequence.pad_sequences(\n",
    "        sequence,\n",
    "        maxlen=maxlen,\n",
    "        dtype='int32',\n",
    "        padding=padding,\n",
    "        truncating='pre',\n",
    "        value=0.0)\n",
    "    return res\n",
    "padding = \"post\"\n",
    "maxlen = 50\n",
    "X_train_p = sequence_pad(Train, padding=padding, maxlen=maxlen)\n",
    "\n",
    "# prediction\n",
    "result = model.predict(X_train_p)\n",
    "#print(result)\n",
    "print(len(result))"
   ]
  },
  {
   "cell_type": "markdown",
   "id": "fd98a2c0",
   "metadata": {},
   "source": [
    "## Correct or wrong ?"
   ]
  },
  {
   "cell_type": "code",
   "execution_count": 90,
   "id": "6667c8d1",
   "metadata": {},
   "outputs": [
    {
     "name": "stdout",
     "output_type": "stream",
     "text": [
      "--- wrong, sentence: \n",
      "  I used to love everything composed by this artist, but these latest songs have just been bad overall \n",
      "---- original sentiment  0.0 \n",
      " result raw:  [0.51934355]\n",
      "--- wrong, sentence: \n",
      "  I hated this album when I bought it, but it's actually managed to win me over after listening to it a couple of times \n",
      "---- original sentiment  1.0 \n",
      " result raw:  [0.1203514]\n",
      "--- wrong, sentence: \n",
      "  This album is so ominous that i've been too afraid to go shopping or even turn off the lights for the past 3 days. You absolutely have to listen to this if you are a fan of horror \n",
      "---- original sentiment  1.0 \n",
      " result raw:  [0.10521677]\n",
      "--- wrong, sentence: \n",
      "  I simply can't understand this album. I hate the choice of instruments, the song genres are all over the place, yet the songs are still repetitve, but i just can't stop listening to this and i don't know why \n",
      "---- original sentiment  1.0 \n",
      " result raw:  [0.27166283]\n",
      "--- wrong, sentence: \n",
      "  I love the first song however that's it, and as such I can't recommend it\", \"sentiment \n",
      "---- original sentiment  0.0 \n",
      " result raw:  [0.9950634]\n",
      "--- wrong, sentence: \n",
      "  The first song is simply amazing, and though the rest are simply terrible that first song is simply so good that it makes up for the price on its own \n",
      "---- original sentiment  1.0 \n",
      " result raw:  [0.02872938]\n",
      "--- wrong, sentence: \n",
      "  I usually don't like the piano but this cd simply blew me away \n",
      "---- original sentiment  1.0 \n",
      " result raw:  [0.14805478]\n",
      "--- wrong, sentence: \n",
      "  I dislike everything about this situation  \n",
      "---- original sentiment  0.0 \n",
      " result raw:  [0.88206863]\n",
      "8\n"
     ]
    }
   ],
   "source": [
    "threshold = 0.5\n",
    "acc = 0\n",
    "acc_count = 0\n",
    "res_final = []\n",
    "wrongly_classified_text = []\n",
    "wrongly_classified_original_sentiment = []\n",
    "for r in result:\n",
    "    acc_count+=1\n",
    "    if r<threshold:\n",
    "        r = 0\n",
    "        #res_final.append(\"negative\")\n",
    "        res_final.append(0)\n",
    "    if r>threshold:\n",
    "        #res_final.append(\"positive\")\n",
    "        res_final.append(1)\n",
    "        \n",
    "fault_counter = 0\n",
    "for i in range(len(result)):\n",
    "    #print(\"index\", i)\n",
    "    #print(\"####\", res_final[i], \"---\", hard_sen_sent[i])\n",
    "    if test_y[i] == res_final[i]:\n",
    "        #print(\" test\", test_y[i], \"----- res\", res_final[i])\n",
    "        #print(\"correct\")\n",
    "        continue\n",
    "    else:\n",
    "        print(\"--- wrong, sentence: \\n \",test_x[i], \"\\n---- original sentiment \", test_y[i], \"\\n result raw: \", result[i])\n",
    "        fault_counter += 1\n",
    "        wrongly_classified_text.append(test_x[i])\n",
    "        wrongly_classified_original_sentiment.append(test_y[i])\n",
    "print(fault_counter)"
   ]
  },
  {
   "cell_type": "code",
   "execution_count": null,
   "id": "6ecb1c72",
   "metadata": {},
   "outputs": [],
   "source": []
  }
 ],
 "metadata": {
  "kernelspec": {
   "display_name": "Python 3 (ipykernel)",
   "language": "python",
   "name": "python3"
  },
  "language_info": {
   "codemirror_mode": {
    "name": "ipython",
    "version": 3
   },
   "file_extension": ".py",
   "mimetype": "text/x-python",
   "name": "python",
   "nbconvert_exporter": "python",
   "pygments_lexer": "ipython3",
   "version": "3.9.6"
  }
 },
 "nbformat": 4,
 "nbformat_minor": 5
}
