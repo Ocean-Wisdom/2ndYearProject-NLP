{
 "cells": [
  {
   "cell_type": "markdown",
   "id": "d37445fb",
   "metadata": {},
   "source": [
    "# 1. Imports"
   ]
  },
  {
   "cell_type": "code",
   "execution_count": 1,
   "id": "9acc6a5a",
   "metadata": {},
   "outputs": [],
   "source": [
    "# our functions\n",
    "import functions as f\n",
    "# readers\n",
    "\n",
    "import gzip\n",
    "import json\n",
    "\n",
    "import codecs\n",
    "\n",
    "import numpy as np\n",
    "\n",
    "import random\n",
    "\n",
    "# plot\n",
    "import matplotlib.pyplot as plt\n",
    "import scipy.stats as stats\n",
    "\n",
    "# NN\n",
    "## early stopping\n",
    "import h5py\n",
    "from keras.callbacks import EarlyStopping\n",
    "from keras.callbacks import ModelCheckpoint\n",
    "\n",
    "# time\n",
    "from datetime import datetime"
   ]
  },
  {
   "cell_type": "code",
   "execution_count": 7,
   "id": "13e1af48",
   "metadata": {},
   "outputs": [],
   "source": [
    "PATH = {}\n",
    "PATH[\"dataset_classification\"] = \"dataset/classification/\"\n",
    "PATH[\"dataset_labeling\"] = \"dataset/seq_labeling/\"\n",
    "PATH[\"music_reviews_train\"] = PATH[\"dataset_classification\"] + \"music_reviews_train.json.gz\"\n",
    "PATH[\"music_reviews_dev\"] = PATH[\"dataset_classification\"] + \"music_reviews_dev.json.gz\"\n",
    "PATH[\"music_reviews_test\"] = PATH[\"dataset_classification\"] + \"music_reviews_test_masked.json.gz\"\n",
    "\n",
    "# sent dict\n",
    "sent_dict = {\"positive\": 1, \"negative\": 0}"
   ]
  },
  {
   "cell_type": "markdown",
   "id": "46b6a4e9",
   "metadata": {},
   "source": [
    "# 2. Read in the files"
   ]
  },
  {
   "cell_type": "code",
   "execution_count": 492,
   "id": "9bae5b53",
   "metadata": {
    "scrolled": false
   },
   "outputs": [
    {
     "name": "stdout",
     "output_type": "stream",
     "text": [
      "Number of data:  100000\n",
      "Number of data:  10000\n",
      "Number of data:  10000\n"
     ]
    }
   ],
   "source": [
    "train = f.readJson(PATH[\"music_reviews_train\"])\n",
    "dev = f.readJson(PATH[\"music_reviews_dev\"])\n",
    "test = f.readJson(PATH[\"music_reviews_test\"])\n",
    "length_of_sentencies_counter = []"
   ]
  },
  {
   "cell_type": "markdown",
   "id": "3b7339b8",
   "metadata": {},
   "source": [
    "## DELETE STOP WORDS"
   ]
  },
  {
   "cell_type": "code",
   "execution_count": 498,
   "id": "ddb2660a",
   "metadata": {},
   "outputs": [],
   "source": [
    "# we need to delete punctuations and some stop words\n",
    "import string\n",
    "\n",
    "def remove_stop_words(text):\n",
    "    my_stop_words = ['$',\"'\",\"``\",\"''\",\"'s\"]\n",
    "    whitespace = [' ', '\\t', '\\n', '\\r', '\\x0b', '\\x0c']\n",
    "    punct = ['\"',\n",
    " '#',\n",
    " '$',\n",
    " '%',\n",
    " '&',\n",
    " \"'\",\n",
    " '(',\n",
    " ')',\n",
    " '*',\n",
    " '+',\n",
    " ',',\n",
    " '-',\n",
    " '/',\n",
    " ':',\n",
    " ';',\n",
    " '<',\n",
    " '=',\n",
    " '>',\n",
    " '@',\n",
    " '[',\n",
    " '\\\\',\n",
    " ']',\n",
    " '^',\n",
    " '_',\n",
    " '`',\n",
    " '{',\n",
    " '|',\n",
    " '}',\n",
    " '~'] # ? ! . are deleted \n",
    "\n",
    "    stop_words = set(['heee','i', 'me', 'my', 'myself', 'we', 'our', 'ours', 'ourselves', 'you', 'your', 'yours',\n",
    "    'yourself', 'yourselves', 'he', 'him', 'his', 'himself', 'she', 'her', 'hers',\n",
    "    'herself', 'it', 'its', 'itself', 'they', 'them', 'their', 'theirs', 'themselves',\n",
    "    'what', 'which', 'who', 'whom', 'this', 'that', 'these', 'those', 'am', 'is', 'are',\n",
    "    'was', 'were', 'be', 'been', 'being', 'have', 'has', 'had', 'having', 'do', 'does',\n",
    "    'did', 'doing', 'a', 'an', 'the', 'and', 'but', 'if', 'or', 'because', 'as', 'until',\n",
    "    'while', 'of', 'at', 'by', 'for', 'with', 'about', 'against', 'between', 'into',\n",
    "    'through', 'during', 'before', 'after', 'above', 'below', 'to', 'from', 'up', 'down',\n",
    "    'in', 'out', 'on', 'off', 'over', 'under', 'again', 'further', 'then', 'once', 'here',\n",
    "    'there', 'when', 'where', 'why', 'how', 'all', 'any', 'both', 'each', 'few', 'more',\n",
    "    'most', 'other', 'some', 'such', 'no', 'nor', 'not', 'only', 'own', 'same', 'so',\n",
    "    'than', 'too', 'very', 's', 't', 'can', 'will', 'just', 'don', 'should', 'now', '\\n', 'the', '\\x1bthis'] + list(my_stop_words) + list(string.digits) + punct)\n",
    "    clean_text = []\n",
    "    length_of_sentencies_counter = []\n",
    "    for sent in text:\n",
    "        # add whitespaces between punctuations, etc to be able to remove them\n",
    "        #print(sent)\n",
    "        #sent = re.sub('(?<! )(?=[.,!?()])|(?<=[.,!?()])(?! )', r' ', sent)\n",
    "        sent = re.sub('(?<! )(?=[.,!?()~${}\"|#&%*@\\'^+-/_0123456789:>`<;=\\[\\]])|(?<=[.,!?()~${}\"|#&%*@\\'^+-/_0123456789:>`<;=\\[\\]])(?! )', r' ', sent)\n",
    "        #sent = re.sub('([.,!?()])', r' \\1 ', sent)\n",
    "        d_sent = []\n",
    "        for c in sent.split():\n",
    "            if c in stop_words:\n",
    "                None\n",
    "            else:\n",
    "                d_sent.append(c)\n",
    "        clean_text.append(list(d_sent))\n",
    "        length_of_sentencies_counter.append(len(d_sent))\n",
    "        #print(d_sent)\n",
    "    return clean_text,length_of_sentencies_counter #length_of_sentencies_counter"
   ]
  },
  {
   "cell_type": "code",
   "execution_count": 507,
   "id": "2d7020b9",
   "metadata": {},
   "outputs": [
    {
     "name": "stdout",
     "output_type": "stream",
     "text": [
      "[4603, 4838, 16019, 18229, 19785, 23315, 28397, 28834, 33359, 43138, 43539, 43690, 44008, 44477, 44972, 48811, 49317, 50106, 51717, 52286, 55555, 56171, 57223, 58328, 58799, 58866, 59525, 59739, 61046, 61914, 61916, 62831, 63208, 72268, 78944, 79067, 80093, 80637, 80658, 81640, 81900, 82510, 83138, 83145, 83615, 84761, 87112, 88895, 88984, 89132, 91949, 94301, 94727, 99641]\n",
      "##### \n"
     ]
    }
   ],
   "source": [
    "# read the train data\n",
    "data = train\n",
    "train_sent = []\n",
    "train_sentiment = []\n",
    "train_idx = []\n",
    "missing_indexies = []\n",
    "y_train = []\n",
    "length_of_sentencies_counter = []\n",
    "for i in range(len(data)):\n",
    "    try:\n",
    "        train_sent.append(data[i][\"reviewText\"])\n",
    "        train_sentiment.append(data[i][\"sentiment\"])\n",
    "        train_idx.append(i)\n",
    "        y_train.append(sent_dict[data[i][\"sentiment\"]])\n",
    "        #length_of_sentencies_counter.append(len(data[i][\"reviewText\"].split()))\n",
    "    except KeyError:\n",
    "        missing_indexies.append(i)\n",
    "        continue\n",
    "print(missing_indexies)\n",
    "\n",
    "########################## remove stop words delet missing shit \n",
    "##### ------------- remove stop words\n",
    "train_sent,length_of_sentencies_counter = remove_stop_words(train_sent)\n",
    "print(\"##### \")\n",
    "empties = []\n",
    "for i in range(len(train_sent)):\n",
    "    if len(train_sent[i]) == 0:\n",
    "        empties.append(i)\n",
    "c = 0\n",
    "for i in empties:\n",
    "    #print(train_sent[i-c])\n",
    "    del train_sent[i-c]\n",
    "    del train_sentiment[i-c]\n",
    "    del y_train[i-c]\n",
    "    c += 1\n",
    "    #print(c)"
   ]
  },
  {
   "cell_type": "code",
   "execution_count": 502,
   "id": "8f695589",
   "metadata": {},
   "outputs": [
    {
     "name": "stdout",
     "output_type": "stream",
     "text": [
      "3239\n",
      "0\n",
      "average number of words in the sentence\n",
      "32.08572629219778\n"
     ]
    },
    {
     "data": {
      "image/png": "[encoded data removed]",
      "text/plain": [
       "<Figure size 432x288 with 1 Axes>"
      ]
     },
     "metadata": {
      "needs_background": "light"
     },
     "output_type": "display_data"
    }
   ],
   "source": [
    "# train data reviews length simple statistic\n",
    "import matplotlib.pyplot as plt\n",
    "print(max(length_of_sentencies_counter))\n",
    "print(min(length_of_sentencies_counter))\n",
    "bins = [10, 20, 30,40,50,70,80,90,100,150,200,300,400,500,600]\n",
    "plt.hist(length_of_sentencies_counter, bins = range(0, 200, 10))\n",
    "print(\"average number of words in the sentence\")\n",
    "print(np.average(length_of_sentencies_counter))"
   ]
  },
  {
   "cell_type": "code",
   "execution_count": 531,
   "id": "47903531",
   "metadata": {},
   "outputs": [
    {
     "name": "stdout",
     "output_type": "stream",
     "text": [
      "10000\n",
      "[2900, 4294, 5135, 8540]\n",
      "##### \n",
      "9984\n",
      "9984\n",
      "9984\n"
     ]
    }
   ],
   "source": [
    "data = dev\n",
    "print(len(dev))\n",
    "dev_sent = []\n",
    "dev_sentiment = []\n",
    "dev_idx = []\n",
    "missing_indexies = []\n",
    "dev_y_train = []\n",
    "for i in range(len(data)):\n",
    "    try:\n",
    "        dev_sent.append(data[i][\"reviewText\"])\n",
    "        dev_sentiment.append(data[i][\"sentiment\"])\n",
    "        dev_idx.append(i)\n",
    "        dev_y_train.append(sent_dict[data[i][\"sentiment\"]]) \n",
    "    except KeyError:\n",
    "        missing_indexies.append(i)\n",
    "        continue\n",
    "print(missing_indexies)\n",
    "\n",
    "# remove stop words\n",
    "dev_sent, l = remove_stop_words(dev_sent)\n",
    "\n",
    "########################## remove stop words delet missing shit \n",
    "##### ------------- remove stop words\n",
    "\n",
    "print(\"##### \")\n",
    "empties = []\n",
    "for i in range(len(dev_sent)):\n",
    "    if len(dev_sent[i]) == 0:\n",
    "        empties.append(i)\n",
    "c = 0\n",
    "for i in empties:\n",
    "    #print(train_sent[i-c])\n",
    "    del dev_sent[i-c]\n",
    "    del dev_sentiment[i-c]\n",
    "    del dev_y_train[i-c]\n",
    "    c += 1\n",
    "    #print(c)\n",
    "print(len(dev_sent))\n",
    "print(len(dev_sentiment))\n",
    "print(len(dev_y_train))"
   ]
  },
  {
   "cell_type": "code",
   "execution_count": 543,
   "id": "d15972ec",
   "metadata": {},
   "outputs": [
    {
     "name": "stdout",
     "output_type": "stream",
     "text": [
      "index of reviews which are empty:  [90, 117, 439, 2138, 4112, 5364, 8210]\n"
     ]
    }
   ],
   "source": [
    "data = test\n",
    "test_sent = []\n",
    "test_sentiment = []\n",
    "test_idx = []\n",
    "test_missing_indexies = []\n",
    "#print(test)\n",
    "for i in range(len(data)):\n",
    "    try:\n",
    "        test_sent.append(data[i][\"reviewText\"])\n",
    "        test_sentiment.append(data[i][\"sentiment\"])\n",
    "        #print(data[i][\"sentiment\"])\n",
    "        test_idx.append(i)\n",
    "        #y_train.append(sent_dict[data[i][\"sentiment\"]]) \n",
    "    except KeyError:\n",
    "        test_missing_indexies.append(i)\n",
    "        continue\n",
    "print(\"index of reviews which are empty: \",test_missing_indexies)\n",
    "\n",
    "# remove stop words\n",
    "test_sent,l = remove_stop_words(test_sent)"
   ]
  },
  {
   "cell_type": "code",
   "execution_count": 532,
   "id": "9014e924",
   "metadata": {},
   "outputs": [],
   "source": [
    "# it needs to be replaced since it doesnt handle the lower/upper cases and the mess\n",
    "###################################################################################\n",
    "from zeugma import TextsToSequences\n",
    "sequencer = TextsToSequences()\n",
    "\n",
    "sequencer.fit_transform(train_sent)\n",
    "# save the sequencer  than load it again\n",
    "max(sequencer.index_word)\n",
    "import pickle\n",
    "b = pickle.dumps(sequencer)\n",
    "#pickle.dump( b, open( \"model/text_to_seq.p\", \"wb\" ) )\n",
    "pickle.dump( b, open( \"model/text_to_seq_without_stop_words.p\", \"wb\" ) )\n",
    "# load \n",
    "#sequencer = pickle.load( open( \"model/text_to_seq.p\", \"rb\" ) )\n",
    "sequencer = pickle.load( open( \"model/text_to_seq_without_stop_words.p\", \"rb\" ) )\n",
    "sequencer = pickle.loads(sequencer)\n",
    "\n",
    "#print(sequencer.index_word)\n",
    "# fit new data \n",
    "Train = sequencer.transform(train_sent)\n",
    "Dev = sequencer.transform(dev_sent)\n",
    "#Test = sequencer.transform(test_sent)"
   ]
  },
  {
   "cell_type": "code",
   "execution_count": 394,
   "id": "d28e1b93",
   "metadata": {},
   "outputs": [],
   "source": [
    "import tensorflow as tf\n",
    "from tensorflow import keras\n",
    "from tensorflow.keras import layers"
   ]
  },
  {
   "cell_type": "code",
   "execution_count": 517,
   "id": "083495a0",
   "metadata": {},
   "outputs": [],
   "source": [
    "def sequence_pad(sequence, padding='pre', maxlen=50):\n",
    "    res = tf.keras.preprocessing.sequence.pad_sequences(\n",
    "        sequence,\n",
    "        maxlen=maxlen,\n",
    "        dtype='int32',\n",
    "        padding=padding,\n",
    "        truncating='pre',\n",
    "        value=0.0)\n",
    "    return res"
   ]
  },
  {
   "cell_type": "markdown",
   "id": "436426ae",
   "metadata": {},
   "source": [
    "## Padding the dataset, POST padding works better a little bit"
   ]
  },
  {
   "cell_type": "code",
   "execution_count": 550,
   "id": "e851026c",
   "metadata": {},
   "outputs": [
    {
     "data": {
      "text/plain": [
       "99800"
      ]
     },
     "execution_count": 550,
     "metadata": {},
     "output_type": "execute_result"
    }
   ],
   "source": [
    "padding = \"post\"\n",
    "maxlen = 60 # how many words from the review\n",
    "X_train_p = sequence_pad(Train, padding=padding, maxlen=maxlen)\n",
    "X_dev_p = sequence_pad(Dev, padding=padding, maxlen=maxlen)\n",
    "X_test_p = sequence_pad(Test, padding=padding, maxlen=maxlen)\n",
    "len(X_train_p)"
   ]
  },
  {
   "cell_type": "code",
   "execution_count": 552,
   "id": "83330e48",
   "metadata": {},
   "outputs": [
    {
     "name": "stdout",
     "output_type": "stream",
     "text": [
      "99800\n",
      "99800\n",
      "9984\n",
      "9984\n",
      "99800\n",
      "99800\n"
     ]
    }
   ],
   "source": [
    "X_train_m = np.array(X_train_p)\n",
    "y_train_m = np.array(y_train)\n",
    "print(len(y_train_m))\n",
    "print(len(X_train_m))\n",
    "X_valid_m = np.array(X_dev_p)\n",
    "y_valid_m = np.array(dev_y_train)\n",
    "print(len(X_valid_m))\n",
    "print(len(y_valid_m))\n",
    "X_test_m = np.array(X_test_p)\n",
    "#y_test_m = np.array(y_test)\n",
    "#print(len(X_test_m))\n",
    "#print(len(y_test_m))\n",
    "\n",
    "'''# sampling some random data for tran and DEV\n",
    "random.seed(40)\n",
    "bias = 50000\n",
    "\n",
    "ran = random.randint(0, len(X_train_m)-bias)\n",
    "ran_val = random.randint(0, len(X_valid_m)-(bias/10))\n",
    "s_tr = ran\n",
    "e = ran+bias\n",
    "s_test = ran_val\n",
    "e_test = ran_val+(bias/10)\n",
    "\n",
    "X_train_m = X_train_m[s_tr:e]\n",
    "y_train_m = y_train_m[s_tr:e]\n",
    "X_valid_m = X_valid_m[s_test:int(e_test)]\n",
    "y_valid_m = y_valid_m[s_test:int(e_test)]\n",
    "#X_valid_m = X_valid_m[s:e]\n",
    "#y_valid_m = y_valid_m[s:e]'''\n",
    "print(len(y_train_m))\n",
    "print(len(X_train_m))"
   ]
  },
  {
   "cell_type": "markdown",
   "id": "0b8b5259",
   "metadata": {},
   "source": [
    "# Early stopping"
   ]
  },
  {
   "cell_type": "code",
   "execution_count": 553,
   "id": "840c36ef",
   "metadata": {},
   "outputs": [
    {
     "data": {
      "text/plain": [
       "\"# callback\\n# https://machinelearningmastery.com/how-to-stop-training-deep-neural-networks-at-the-right-time-using-early-stopping/\\n#cb = Callback(...)\\n#cb_list = [cb, ...] # add the callback to a list\\nes = EarlyStopping(monitor='val_loss',\\n                  mode='min',\\n                  verbose=1,\\n                  patience=1) # to continue since maybe we get a local min somewhere'\\n                   \\n# es = EarlyStopping(monitor='val_accuracy', mode='max', min_delta=1) # other possibility\\n# es = EarlyStopping(monitor='val_loss', mode='min', baseline=0.4) # based on threshold\\n# save best models\\n#mc = ModelCheckpoint('best_model.h5', monitor='val_loss', mode='min', save_best_only=True)\\n#mc = ModelCheckpoint('best_model.h5', monitor='val_loss', mode='min', verbose=1)\\ncheckpoint_filepath = 'model/checkpoint'\\nmodel_checkpoint_callback = tf.keras.callbacks.EarlyStopping(monitor='loss',\\n                                                             patience=3,\\n                                                             mode='min')\\n\\n# checkpoint\\n\\nmodel_checkpoint_callback = tf.keras.callbacks.ModelCheckpoint(\\n    filepath=checkpoint_filepath,\\n    save_weights_only=True,\\n    monitor='val_accuracy',\\n    mode='min',\\n    save_best_only=True)\""
      ]
     },
     "execution_count": 553,
     "metadata": {},
     "output_type": "execute_result"
    }
   ],
   "source": [
    "'''# callback\n",
    "# https://machinelearningmastery.com/how-to-stop-training-deep-neural-networks-at-the-right-time-using-early-stopping/\n",
    "#cb = Callback(...)\n",
    "#cb_list = [cb, ...] # add the callback to a list\n",
    "es = EarlyStopping(monitor='val_loss',\n",
    "                  mode='min',\n",
    "                  verbose=1,\n",
    "                  patience=1) # to continue since maybe we get a local min somewhere'\n",
    "                   \n",
    "# es = EarlyStopping(monitor='val_accuracy', mode='max', min_delta=1) # other possibility\n",
    "# es = EarlyStopping(monitor='val_loss', mode='min', baseline=0.4) # based on threshold\n",
    "# save best models\n",
    "#mc = ModelCheckpoint('best_model.h5', monitor='val_loss', mode='min', save_best_only=True)\n",
    "#mc = ModelCheckpoint('best_model.h5', monitor='val_loss', mode='min', verbose=1)\n",
    "checkpoint_filepath = 'model/checkpoint'\n",
    "model_checkpoint_callback = tf.keras.callbacks.EarlyStopping(monitor='loss',\n",
    "                                                             patience=3,\n",
    "                                                             mode='min')\n",
    "\n",
    "# checkpoint\n",
    "\n",
    "model_checkpoint_callback = tf.keras.callbacks.ModelCheckpoint(\n",
    "    filepath=checkpoint_filepath,\n",
    "    save_weights_only=True,\n",
    "    monitor='val_accuracy',\n",
    "    mode='min',\n",
    "    save_best_only=True)'''"
   ]
  },
  {
   "cell_type": "code",
   "execution_count": 568,
   "id": "59c6c1bf",
   "metadata": {
    "scrolled": true
   },
   "outputs": [
    {
     "name": "stdout",
     "output_type": "stream",
     "text": [
      "Model: \"sequential_15\"\n",
      "_________________________________________________________________\n",
      " Layer (type)                Output Shape              Param #   \n",
      "=================================================================\n",
      " embedding_15 (Embedding)    (None, 60, 100)           6852700   \n",
      "                                                                 \n",
      " lstm_15 (LSTM)              (None, 100)               80400     \n",
      "                                                                 \n",
      " dense_15 (Dense)            (None, 1)                 101       \n",
      "                                                                 \n",
      "=================================================================\n",
      "Total params: 6,933,201\n",
      "Trainable params: 6,933,201\n",
      "Non-trainable params: 0\n",
      "_________________________________________________________________\n",
      "None\n",
      "200/200 [==============================] - 132s 652ms/step - loss: 0.4008 - accuracy: 0.8111 - val_loss: 0.2714 - val_accuracy: 0.8919\n"
     ]
    },
    {
     "data": {
      "image/png": "[encoded data removed]",
      "text/plain": [
       "<Figure size 432x288 with 1 Axes>"
      ]
     },
     "metadata": {
      "needs_background": "light"
     },
     "output_type": "display_data"
    }
   ],
   "source": [
    "vocabulary_size = max(sequencer.index_word)\n",
    "\n",
    "from keras import Sequential\n",
    "from keras.layers import Embedding, LSTM, Dense, Dropout\n",
    "\n",
    "# get time for saving the model\n",
    "\n",
    "dateTimeObj = datetime.now()\n",
    "save_time = str(dateTimeObj.year)+'-'+str(dateTimeObj.month)+'-'+str(dateTimeObj.day)+'-'+str(dateTimeObj.hour)+'-'+str(dateTimeObj.minute)+'-'+str(dateTimeObj.second)\n",
    "\n",
    "# define the model\n",
    "\n",
    "embedding_size=64\n",
    "embedding_size=100\n",
    "model=Sequential()\n",
    "model.add(Embedding(vocabulary_size+1, embedding_size, input_length=maxlen))\n",
    "model.add(LSTM(100))\n",
    "model.add(Dense(1, activation='sigmoid'))\n",
    "\n",
    "model.compile(loss='binary_crossentropy', \n",
    "             optimizer='adam', \n",
    "             metrics=['accuracy'])\n",
    "\n",
    "print(model.summary())\n",
    "\n",
    "batch_size = 500\n",
    "num_epochs = 1\n",
    "\n",
    "#X_valid, y_valid = X_train_k[batch_size:], y_train[batch_size:]\n",
    "history = model.fit(X_train_m, y_train_m, validation_data=(X_valid_m, y_valid_m), \n",
    "                    batch_size=batch_size, \n",
    "                    epochs=num_epochs)  # for regularization)\n",
    "#history = model.fit(X_train_m, y_train_m, batch_size=batch_size, epochs=num_epochs)\n",
    "#model.fit(X_trainn, y_trainn, batch_size=batch_size, epochs=num_epochs)\n",
    "#model.fit(X_train_m, y_train_m, batch_size=batch_size, epochs=num_epochs)\n",
    "#mc = ModelCheckpoint('best_model.h5', monitor='val_accuracy', mode='max', verbose=1, save_best_only=True)\n",
    "plt.plot(history.history[\"accuracy\"], label='train accuracy')\n",
    "plt.plot(history.history[\"loss\"], label='train loss')\n",
    "plt.plot(history.history[\"val_loss\"], label='validation loss')\n",
    "plt.plot(history.history[\"val_accuracy\"], label='validation accuracy')\n",
    "plt.legend()\n",
    "plt.show()\n",
    "######### ------------------------- ################### save the model\n",
    "#model.save('model/'+save_time)"
   ]
  },
  {
   "cell_type": "code",
   "execution_count": 578,
   "id": "59957797",
   "metadata": {},
   "outputs": [
    {
     "name": "stderr",
     "output_type": "stream",
     "text": [
      "WARNING:absl:Found untraced functions such as lstm_cell_15_layer_call_fn, lstm_cell_15_layer_call_and_return_conditional_losses while saving (showing 2 of 2). These functions will not be directly callable after loading.\n"
     ]
    },
    {
     "name": "stdout",
     "output_type": "stream",
     "text": [
      "INFO:tensorflow:Assets written to: model/2022-4-1-0-42-57_500_b_size_2_epochs-embed100\\assets\n"
     ]
    },
    {
     "name": "stderr",
     "output_type": "stream",
     "text": [
      "INFO:tensorflow:Assets written to: model/2022-4-1-0-42-57_500_b_size_2_epochs-embed100\\assets\n",
      "WARNING:absl:<keras.layers.recurrent.LSTMCell object at 0x0000013F9E9BBFA0> has the same name 'LSTMCell' as a built-in Keras object. Consider renaming <class 'keras.layers.recurrent.LSTMCell'> to avoid naming conflicts when loading with `tf.keras.models.load_model`. If renaming is not possible, pass the object in the `custom_objects` parameter of the load function.\n"
     ]
    }
   ],
   "source": [
    "model.save('model/'+save_time+\"_500_b_size_2_epochs-embed100\")"
   ]
  },
  {
   "cell_type": "markdown",
   "id": "22641a24",
   "metadata": {},
   "source": [
    "### Prediction"
   ]
  },
  {
   "cell_type": "code",
   "execution_count": 569,
   "id": "d1fb1eb5",
   "metadata": {},
   "outputs": [],
   "source": [
    "result = model.predict(X_test_m)"
   ]
  },
  {
   "cell_type": "markdown",
   "id": "8e53b244",
   "metadata": {},
   "source": [
    "## Sentiment results, Sampling some guess"
   ]
  },
  {
   "cell_type": "code",
   "execution_count": 576,
   "id": "5583e069",
   "metadata": {},
   "outputs": [
    {
     "name": "stdout",
     "output_type": "stream",
     "text": [
      "index 9385\n",
      "#### positive --- ['It', 'Wonderful']\n",
      "index 4047\n",
      "#### positive --- ['Great', '!', '!']\n",
      "index 1144\n",
      "#### positive --- ['Rollerball', 'one', 'top', 'one', 'hundred', 'movies', 'due', 'soundtrack', '.', 'No', 'recording', 'Bach', 'Tocatta', 'Fugue', 'sounds', 'good', 'one', '.']\n",
      "index 608\n",
      "#### positive --- ['If', 'looking', 'original', 'slow', 'build', 'middle', 'song', 'right', 'one', '.', 'The', 'song', 'close', 'original', 'build', '.']\n",
      "index 2435\n",
      "#### positive --- ['I', 'like', 'upbeat', 'tune', 'isn', 'repetetive', '.', 'I', 'enjoy', 'saxaphone', 'background', 'music', '.', 'Wish', 'I', 'could', 'give', 'stars', 'write', '.']\n"
     ]
    }
   ],
   "source": [
    "threshold = 0.5\n",
    "acc = 0\n",
    "acc_count = 0\n",
    "res_final = []\n",
    "for r in result:\n",
    "    acc_count+=1\n",
    "    if r<threshold:\n",
    "        r = 0\n",
    "        res_final.append(\"negative\")\n",
    "    if r>threshold:\n",
    "        res_final.append(\"positive\")\n",
    "        \n",
    "for i in random.sample(range(0, 9993), 5):\n",
    "    print(\"index\", i)\n",
    "    print(\"####\", res_final[i], \"---\", test_sent[i])"
   ]
  },
  {
   "cell_type": "code",
   "execution_count": 577,
   "id": "4c2ed8ed",
   "metadata": {},
   "outputs": [
    {
     "name": "stdout",
     "output_type": "stream",
     "text": [
      "keep original\n",
      "90\n",
      "{'verified': False, 'reviewTime': '11 16, 2015', 'reviewerID': 'A1O7C6DFZ15E43', 'asin': 'B007Z2OQB0', 'summary': 'Five Stars', 'unixReviewTime': 1447632000, 'sentiment': '_', 'id': 90}\n",
      "keep original\n",
      "117\n",
      "{'verified': True, 'reviewTime': '07 31, 2017', 'reviewerID': 'AWGJYHMXOYCVI', 'asin': 'B007ZCH8R4', 'unixReviewTime': 1501459200, 'sentiment': '_', 'id': 117}\n",
      "keep original\n",
      "439\n",
      "{'verified': True, 'reviewTime': '08 16, 2016', 'reviewerID': 'A24YYQXR82CKHJ', 'asin': 'B008591TBW', 'style': {'Format:': ' MP3 Music'}, 'summary': 'Five Stars', 'unixReviewTime': 1471305600, 'sentiment': '_', 'id': 439}\n",
      "keep original\n",
      "2138\n",
      "{'verified': True, 'reviewTime': '09 13, 2016', 'reviewerID': 'A1ZBIIZLWE8NRE', 'asin': 'B00940XFTK', 'style': {'Format:': ' MP3 Music'}, 'summary': 'Five Stars', 'unixReviewTime': 1473724800, 'sentiment': '_', 'id': 2138}\n",
      "keep original\n",
      "4112\n",
      "{'verified': True, 'reviewTime': '07 4, 2018', 'reviewerID': 'A1K51YDXUGEEBG', 'asin': 'B000YIWSK8', 'unixReviewTime': 1530662400, 'sentiment': '_', 'id': 4112}\n",
      "keep original\n",
      "5364\n",
      "{'verified': True, 'reviewTime': '03 30, 2016', 'reviewerID': 'AD3XXTYLOEW4U', 'asin': 'B00AI3L45O', 'summary': 'Five Stars', 'unixReviewTime': 1459296000, 'sentiment': '_', 'id': 5364}\n",
      "keep original\n",
      "8210\n",
      "{'verified': True, 'reviewTime': '01 31, 2016', 'reviewerID': 'A2DGN8K8MUTAY2', 'asin': 'B000QMZUMU', 'summary': 'Four Stars', 'unixReviewTime': 1454198400, 'sentiment': '_', 'id': 8210}\n"
     ]
    }
   ],
   "source": [
    "from collections import defaultdict\n",
    "\n",
    "json_raw_data = []\n",
    "jsonfilename = 'dataset/classification/tt.gz'\n",
    "counter = 0\n",
    "list_of_skip_indexies = [90, 117, 439, 2138, 4112, 5364, 8210]\n",
    "res_count = 0\n",
    "for line in gzip.open('dataset/classification/t_masked.gz'):\n",
    "    review_data = json.loads(line)\n",
    "    tempdata = []\n",
    "    if counter in list_of_skip_indexies: # keep origine\n",
    "        print(\"keep original\")\n",
    "        print(counter)\n",
    "        print(review_data)\n",
    "        res_count -=1\n",
    "        for key in review_data:\n",
    "            #print(\"keep original\")\n",
    "            tempdata.append({\n",
    "            key: str(review_data[key])})\n",
    "    else:\n",
    "        def_dict = defaultdict(list)\n",
    "        def_dict = dict()\n",
    "        for key in review_data:\n",
    "            #print(key)\n",
    "            if key == \"sentiment\":\n",
    "                def_dict[key] = res_final[res_count]\n",
    "            else:\n",
    "                tempdata.append({\n",
    "                key: str(review_data[key])})\n",
    "                def_dict[key] = str(review_data[key])\n",
    "    counter += 1\n",
    "    res_count +=1\n",
    "    #print(counter)\n",
    "\n",
    "    #json_raw_data.append(def_dict)\n",
    "    json_raw_data.append(def_dict) # ok this is very good, itsa opening with json.load\n",
    "    \n",
    "outFile = open('music_reviews_test.json', 'w')\n",
    "for instance in json_raw_data:\n",
    "      outFile.write(json.dumps(instance) + '\\n')\n",
    "outFile.close()"
   ]
  },
  {
   "cell_type": "code",
   "execution_count": 20,
   "id": "b7b9f6b1",
   "metadata": {},
   "outputs": [
    {
     "name": "stdout",
     "output_type": "stream",
     "text": [
      "\"verified\": True\n",
      "\"reviewTime\": 10 24, 2017\n",
      "\"reviewerID\": A2HAJB8L9NVYTZ\n",
      "\"asin\": B007Y1AMHE\n",
      "\"reviewText\": ok\n",
      "\"summary\": ok\n",
      "\"unixReviewTime\": 1508803200\n",
      "\"sentiment\": negative\n",
      "\"id\": 0\n"
     ]
    }
   ],
   "source": [
    "for line in gzip.open('group16.json.gz'):\n",
    "    review_data = json.loads(line)\n",
    "    for key in review_data:\n",
    "        print('\"' + key +'\": ' + str(review_data[key]))\n",
    "    break"
   ]
  },
  {
   "cell_type": "code",
   "execution_count": null,
   "id": "5283f4c7",
   "metadata": {},
   "outputs": [],
   "source": []
  }
 ],
 "metadata": {
  "kernelspec": {
   "display_name": "Python 3 (ipykernel)",
   "language": "python",
   "name": "python3"
  },
  "language_info": {
   "codemirror_mode": {
    "name": "ipython",
    "version": 3
   },
   "file_extension": ".py",
   "mimetype": "text/x-python",
   "name": "python",
   "nbconvert_exporter": "python",
   "pygments_lexer": "ipython3",
   "version": "3.9.6"
  }
 },
 "nbformat": 4,
 "nbformat_minor": 5
}
