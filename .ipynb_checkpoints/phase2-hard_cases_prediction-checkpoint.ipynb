{
 "cells": [
  {
   "cell_type": "code",
   "execution_count": 32,
   "id": "0577d5d0",
   "metadata": {},
   "outputs": [],
   "source": [
    "# imports\n",
    "import tensorflow as tf\n",
    "import keras\n",
    "import pandas as pd\n",
    "import json\n",
    "import gzip\n",
    "\n",
    "# word to idx\n",
    "import pickle\n",
    "\n",
    "# our functions\n",
    "import functions as f\n",
    "\n",
    "import random\n"
   ]
  },
  {
   "cell_type": "code",
   "execution_count": 4,
   "id": "60685594",
   "metadata": {},
   "outputs": [],
   "source": [
    "PATH = {}\n",
    "PATH[\"dataset_classification\"] = \"dataset/classification/\"\n",
    "PATH[\"dataset_phase2\"] = \"dataset/phase2/\"\n",
    "PATH[\"dataset_labeling\"] = \"dataset/seq_labeling/\"\n",
    "PATH[\"music_reviews_train\"] = PATH[\"dataset_classification\"] + \"music_reviews_train.json.gz\"\n",
    "PATH[\"music_reviews_dev\"] = PATH[\"dataset_classification\"] + \"music_reviews_dev.json.gz\"\n",
    "PATH[\"music_reviews_test\"] = PATH[\"dataset_classification\"] + \"music_reviews_test_masked.json.gz\"\n",
    "PATH[\"hard_cases\"] = PATH[\"dataset_phase2\"] + \"phase2_testData-masked.json.gz\"\n",
    "#PATH[\"news\"] = PATH[\"dataset_phase2\"] + \"review_polarity.tar.gz\"\n",
    "cat_dict = {0: \"negative\", 1:\"positive\"}"
   ]
  },
  {
   "cell_type": "code",
   "execution_count": 7,
   "id": "307bfc53",
   "metadata": {},
   "outputs": [],
   "source": [
    "# load our model\n",
    "model = keras.models.load_model('model/2022-3-28-10-35-36')\n",
    "\n",
    "# load our word to idx\n",
    "#### Thios is the original sequencer without stop words\n",
    "sequencer = pickle.load( open( \"model/text_to_seq.p\", \"rb\" ) )\n",
    "sequencer = pickle.loads(sequencer)"
   ]
  },
  {
   "cell_type": "code",
   "execution_count": 9,
   "id": "815d0fbf",
   "metadata": {},
   "outputs": [
    {
     "name": "stdout",
     "output_type": "stream",
     "text": [
      "Number of data:  3591\n"
     ]
    }
   ],
   "source": [
    "# read in files\n",
    "raw = f.readJson(PATH[\"hard_cases\"])"
   ]
  },
  {
   "cell_type": "code",
   "execution_count": 67,
   "id": "5a317d83",
   "metadata": {},
   "outputs": [
    {
     "name": "stdout",
     "output_type": "stream",
     "text": [
      "1176\n",
      "0\n",
      "average number of words in the sentence\n",
      "74.71317181843497\n"
     ]
    },
    {
     "data": {
      "image/png": "[encoded data removed]",
      "text/plain": [
       "<Figure size 432x288 with 1 Axes>"
      ]
     },
     "metadata": {
      "needs_background": "light"
     },
     "output_type": "display_data"
    }
   ],
   "source": [
    "# some stat about the cases\n",
    "length_of_sentencies_counter = []\n",
    "for i in range(len(raw)):\n",
    "    length_of_sentencies_counter.append(len(raw[i][\"reviewText\"].split()))\n",
    "raw[0][\"reviewText\"]\n",
    "import matplotlib.pyplot as plt\n",
    "import numpy as np\n",
    "print(max(length_of_sentencies_counter))\n",
    "print(min(length_of_sentencies_counter))\n",
    "bins = [10, 20, 30,40,50,70,80,90,100,150,200,300,400,500,600,700,800,1000]\n",
    "plt.hist(length_of_sentencies_counter, bins = range(0, 200, 10))\n",
    "print(\"average number of words in the sentence\")\n",
    "print(np.average(length_of_sentencies_counter))"
   ]
  },
  {
   "cell_type": "code",
   "execution_count": 24,
   "id": "43d839ea",
   "metadata": {},
   "outputs": [],
   "source": [
    "test_x = []\n",
    "test_y = []\n",
    "test_com = []\n",
    "test_group = []\n",
    "for i in range(len(raw)):  \n",
    "    test_x.append(raw[i]['reviewText'])\n",
    "    test_com.append(raw[i]['category'])\n",
    "    test_group.append(raw[i]['group'])"
   ]
  },
  {
   "cell_type": "code",
   "execution_count": 28,
   "id": "71ab0342",
   "metadata": {},
   "outputs": [],
   "source": [
    "# original sequencer with mess\n",
    "test_x_idx = Train = sequencer.transform(test_x)"
   ]
  },
  {
   "cell_type": "code",
   "execution_count": 73,
   "id": "e190ca99",
   "metadata": {
    "scrolled": true
   },
   "outputs": [
    {
     "name": "stdout",
     "output_type": "stream",
     "text": [
      "[[0.6383826 ]\n",
      " [0.59699124]\n",
      " [0.01006836]\n",
      " ...\n",
      " [0.9747094 ]\n",
      " [0.01377875]\n",
      " [0.45912254]]\n"
     ]
    }
   ],
   "source": [
    "# padding apply\n",
    "def sequence_pad(sequence, padding='pre', maxlen=50):\n",
    "    res = tf.keras.preprocessing.sequence.pad_sequences(\n",
    "        sequence,\n",
    "        maxlen=maxlen,\n",
    "        dtype='int32',\n",
    "        padding=padding,\n",
    "        truncating='pre',\n",
    "        value=0.0)\n",
    "    return res\n",
    "padding = \"post\"\n",
    "maxlen = 50\n",
    "\n",
    "X_train_p = sequence_pad(test_x_idx, padding=padding, maxlen=maxlen)\n",
    "\n",
    "# prediction\n",
    "result = model.predict(X_train_p)\n",
    "print(result)"
   ]
  },
  {
   "cell_type": "code",
   "execution_count": 47,
   "id": "0913bd5d",
   "metadata": {},
   "outputs": [],
   "source": [
    "def sent_result_converter(number):\n",
    "    threshold = 0.5\n",
    "    if number<threshold:\n",
    "        return \"negative\"\n",
    "    if number>threshold:\n",
    "        return \"positive\""
   ]
  },
  {
   "cell_type": "markdown",
   "id": "1c0a96ba",
   "metadata": {},
   "source": [
    "## Random samples\n"
   ]
  },
  {
   "cell_type": "code",
   "execution_count": 37,
   "id": "b378f4a7",
   "metadata": {},
   "outputs": [
    {
     "name": "stdout",
     "output_type": "stream",
     "text": [
      "#### [0.99592555] --- I saw eric live in George Washington last year she is really good at performing. would rate him up there with Toby Kieth.\n",
      "#### [0.09731662] --- sometimes you should leave well enough alone if there was one thing that soilwork had shown during its first few albums , was the bands ability to mix so many forms of metal into one , and make it work . when i heard the first few works by this band , i had thought they were the most unique band since `` hypocrisy '' . even though i am not die hard fan of soilwork , i still enjoyed what they had to offer , and found myself sneaking in a listen every now and then . as the albums and time went on , it was apparent that soilwork was starting to change over their musical style . they had seemed to abando some of their death and thrash metal sound , and were almost crossing into a more nu metal sound . that is fine . even though some metal heads critize nu metal as being generic and poppy , that is a really broad statement . there are some nu metal bands that are fantastic . true , some are generic and sound like every other , but some try their best to create that sound , while still creating thier own `` bells and whistles '' to stand out from the rest . so on to `` stabbing the drama '' when i first heard it , i was ashamed that soilwork would even be dabbling around with this generic sound . gone was everything they had built , only to be torn down my genric pop nu metal core , almost like the band was releasing something for the masses of pop radio , and not for the fans who so dug the sounds that made them stand out from the rest . true , there are fans and people that will love this album , but i tend to be really critical of bands that have a ton of talent , and then release an album of this calibur . Louis Top Boy , metallica , machine head , pantera and coal chamber are all bands that i had either loved the debuts , or some of the bands early works . then it seemed that they crossed over in sound , and in my opinion , this was done not because of a want to make something different ( most of us know that as we get older , we all seem to have changes or long for something different musically ) but they did it to sell more albums and appeal to the masses . some of those bands recovered , some didnt , but the damage was still done . so the conclusion is , what will you think of `` stabbing the drama '' it depends on what you are looking for . new to soilwork ? like a more generic sound or simple metal ? yes , you might like it . even fans of soilwork might appricate the change here . i look at this as strictly a marketing gimmic . i also found myself not liking one single track . not a one ! change can be good , but here , change is n't good . sometimes it is just better to leave well enough alone .\n",
      "#### [0.0274865] --- BelieveM e, I Triedt o \"get it\"   Please understand that I love tehse guys, but this album\n",
      "\n",
      "The 5 reviews on the re-realease are all raves, but take the time to go back further to the dissenting voices on the reviews of the earlier versions of this album!!!  I found the great majority of the arrangements boring adn the tongue-in-cheek,w ink-and-a-nudge weird humor is missing I saw the guys live a couple of years fatert his came out and don't recall them playing any of these songs  Taht should tlel you something\n",
      "\n",
      "It's not a BAD album, it's just not good --- much less their best  There's at least a half dozen albums better than this one  If you are a BOC newbie, then skip this one and get (in vaguely chronological oredr)\n",
      "  - Blue Oyster Cult (self-titled first album)\n",
      "  - Secret Treaties*\n",
      "  - Spectres\n",
      "  - Some Enchanted Evening** (Live)\n",
      "  - Cultosaurus Erectus\n",
      "  - Fire of Unknown Origin\n",
      "  - Revolution by Night\n",
      "Note(*)!!! Features the original and far-superiro version of Astronomy, which is re-done on Imagions\n",
      "Note(**) Features live version of Astronomy which is also better than Imaginos version\n",
      "\n",
      "IF you love all those AND are a completist, THEN you might consider picking this one up\n",
      "#### [0.01330185] --- A poor excuse for an albmu\n",
      "#### [0.10263604] --- eally likeZoe's voic but I gues it's jus not my kid of music  Found myelf eventully removig it from y playlistafter skiping over i the last ew times. Sorry Zoe,you're stil and awesme singer;keep up th good work  I'm sureplenty of ther peopl are stillfans.  Worh a listen\n"
     ]
    }
   ],
   "source": [
    "for i in random.sample(range(0, len(result)), 5):\n",
    "    print(\"####\", result[i], \"---\", test_x[i])"
   ]
  },
  {
   "cell_type": "markdown",
   "id": "5f5be161",
   "metadata": {},
   "source": [
    "# Write to JSON, save and check it"
   ]
  },
  {
   "cell_type": "code",
   "execution_count": 41,
   "id": "10c199d1",
   "metadata": {},
   "outputs": [],
   "source": [
    "keys = [\"reviewText\",\"sentiment\",\"category\"]"
   ]
  },
  {
   "cell_type": "code",
   "execution_count": 58,
   "id": "aab2f831",
   "metadata": {},
   "outputs": [],
   "source": [
    "json_raw_data = []\n",
    "for i in range(len(raw)):\n",
    "    temp_data = []\n",
    "    def_dict = dict()\n",
    "    for c in keys:\n",
    "        if c ==  \"reviewText\":\n",
    "            def_dict[c] = str(test_x[i])\n",
    "        if c ==  \"sentiment\":\n",
    "            def_dict[c] = str(sent_result_converter(result[i]))\n",
    "        if c ==  \"category\":\n",
    "            def_dict[c] = str(test_com[i])   \n",
    "    json_raw_data.append(def_dict) # ok this is very good, itsa opening with json.load\n",
    "    \n",
    "outFile = open('group16_hard_cases_raw.json', 'w')\n",
    "for instance in json_raw_data:\n",
    "      outFile.write(json.dumps(instance) + '\\n')\n",
    "outFile.close()"
   ]
  },
  {
   "cell_type": "code",
   "execution_count": 60,
   "id": "892ac74f",
   "metadata": {},
   "outputs": [
    {
     "name": "stdout",
     "output_type": "stream",
     "text": [
      "\"reviewText\": It's the shit\n",
      "\"sentiment\": positive\n",
      "\"category\": slang\n"
     ]
    }
   ],
   "source": [
    "for line in gzip.open('group16_hard_cases_raw.json.gz'):\n",
    "    review_data = json.loads(line)\n",
    "    for key in review_data:\n",
    "        print('\"' + key +'\": ' + str(review_data[key]))\n",
    "    break"
   ]
  }
 ],
 "metadata": {
  "kernelspec": {
   "display_name": "Python 3 (ipykernel)",
   "language": "python",
   "name": "python3"
  },
  "language_info": {
   "codemirror_mode": {
    "name": "ipython",
    "version": 3
   },
   "file_extension": ".py",
   "mimetype": "text/x-python",
   "name": "python",
   "nbconvert_exporter": "python",
   "pygments_lexer": "ipython3",
   "version": "3.9.6"
  }
 },
 "nbformat": 4,
 "nbformat_minor": 5
}
