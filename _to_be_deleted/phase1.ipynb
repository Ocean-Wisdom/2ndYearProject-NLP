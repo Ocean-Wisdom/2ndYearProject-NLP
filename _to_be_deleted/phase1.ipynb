{
 "cells": [
  {
   "cell_type": "markdown",
   "metadata": {},
   "source": [
    "# Project phase 1: Baseline\n",
    "\n",
    "The goal of this phase is to create a baseline model. Note that the word baseline can mean different things. In the course we distinguished three different types of baselines:\n",
    "* 1. The simplest possible approach (majority baseline, i.e. everything is positive or noun)\n",
    "* 2. A simple machine learning classifier (logistic regression with words as features)\n",
    "* 3. The ``state-of-the-art'' approach on which you want to improve (your starting point)\n",
    "\n",
    "For this phase you need to make a number 2 or 3 baseline. \n",
    "\n",
    "If you plan to have a research question like: can we improve sentiment detection systems by doing X, the answer to the question is the most relevant if you have a competetive baseline (3). In this case we would suggest to use a BiLSTM or even a transformer based model, so that you can re-use the baseline for the final research question (phase 3).\n",
    "\n",
    "You should pick one of the following tasks to create your baseline for."
   ]
  },
  {
   "cell_type": "markdown",
   "metadata": {},
   "source": [
    "## Task 1: Sentiment classification\n",
    "* The data can be found in the `classification` folder.\n",
    "* The goal is to predict the label in the `sentiment` field.\n",
    "* **You have to upload the predictions of `music_reviews_test_masked.json` to CodaLab: https://competitions.codalab.org/competitions/34307?secret_key=af4dce64-f2ab-47c2-bc3c-a04abe2a2725 Note that the format should match the json files in the repository, and the file should be zipped.**\n",
    "* **Make sure to add your group number (can be found on learnit), or the ITU username of at least one member to the submission.**\n",
    "* **Also fill out the Method description in the submission page of the codalab**\n",
    "\n",
    "*Hint: if you do not get a score in CodaLab, you can click on ``Download output from scoring step'' to see the error*\n",
    "\n",
    "The data can be read like:"
   ]
  },
  {
   "cell_type": "code",
   "execution_count": 3,
   "metadata": {},
   "outputs": [],
   "source": [
    "# our functions\n",
    "import functions as f\n",
    "# readers\n",
    "\n",
    "import gzip\n",
    "import json\n",
    "\n",
    "import codecs"
   ]
  },
  {
   "cell_type": "code",
   "execution_count": 4,
   "metadata": {},
   "outputs": [],
   "source": [
    "PATH = {}\n",
    "PATH[\"dataset_classification\"] = \"dataset/classification/\"\n",
    "PATH[\"music_reviews_train\"] = PATH[\"dataset_classification\"] + \"music_reviews_train.json.gz\"\n",
    "PATH[\"music_reviews_test\"] = PATH[\"dataset_classification\"] + \"music_reviews_test_masked.json.gz\"\n",
    "PATH[\"music_reviews_dev\"] = PATH[\"dataset_classification\"] + \"music_reviews_dev.json.gz\""
   ]
  },
  {
   "cell_type": "code",
   "execution_count": 5,
   "metadata": {},
   "outputs": [
    {
     "name": "stdout",
     "output_type": "stream",
     "text": [
      "Number of data:  100000\n",
      "Number of data:  10000\n",
      "Number of data:  10000\n"
     ]
    }
   ],
   "source": [
    "trainM = f.readJson(PATH[\"music_reviews_train\"])\n",
    "devM = f.readJson(PATH[\"music_reviews_dev\"])\n",
    "testM = f.readJson(PATH[\"music_reviews_test\"])"
   ]
  },
  {
   "cell_type": "markdown",
   "metadata": {},
   "source": [
    "## Task2: Sentiment Expression Labeling\n",
    "* The data can be found in the `seq_labeling` folder\n",
    "* The goal is to predict the BIO-labels in the third column\n",
    "* Note that the evaluation metric is Span-F1, which means that you will only get \"points\" if you get the whole span correct! We provide an evaluation script in `seq_labeling/eval.py`.\n",
    "* **You have to upload the predictions of `opener_en-test-masked.conll` to CodaLab: https://competitions.codalab.org/competitions/34307?secret_key=af4dce64-f2ab-47c2-bc3c-a04abe2a2725 Note that the format should match the json files in the repository, and the file should be zipped.**\n",
    "* **Make sure to add your group number (can be found on learnit), or the ITU username of at least one member to the submission.**\n",
    "* **Also fill out the Method description in the submission page of the codalab**\n",
    "\n",
    "* Note that if you use BERT-based embeddings, you need to make sure that the number of labels matches the number of tokens. This is commonly done by only using the embedding of the first subword of each token.\n",
    "\n",
    "\n",
    "*Hint: if you do not get a score in CodaLab, you can click on ``Download output from scoring step'' to see the error*\n",
    "\n",
    "The data looks as follows:"
   ]
  },
  {
   "cell_type": "code",
   "execution_count": 6,
   "metadata": {},
   "outputs": [],
   "source": [
    "PATH[\"dataset_labeling\"] = \"dataset/seq_labeling/\"\n",
    "PATH[\"labeling_train\"] = PATH[\"dataset_labeling\"] + \"opener_en-train.conll\"\n",
    "PATH[\"labeling_test\"] = PATH[\"dataset_labeling\"] + \"opener_en-test-masked.conll\"\n",
    "PATH[\"labeling_dev\"] = PATH[\"dataset_labeling\"] + \"opener_en-dev.conll\""
   ]
  },
  {
   "cell_type": "code",
   "execution_count": 66,
   "metadata": {},
   "outputs": [],
   "source": [
    "import read_arto as r"
   ]
  },
  {
   "cell_type": "code",
   "execution_count": 67,
   "metadata": {},
   "outputs": [],
   "source": [
    "t = r.read_arto(PATH[\"labeling_dev\"])"
   ]
  },
  {
   "cell_type": "code",
   "execution_count": 70,
   "metadata": {},
   "outputs": [
    {
     "data": {
      "text/plain": [
       "['very',\n",
       " 'warm',\n",
       " 'welcome',\n",
       " 'at',\n",
       " 'the',\n",
       " 'reception',\n",
       " ',',\n",
       " 'very',\n",
       " 'friendly',\n",
       " 'and',\n",
       " 'helpful',\n",
       " 'personnel',\n",
       " ',',\n",
       " 'especially',\n",
       " 'at',\n",
       " 'the',\n",
       " 'bar',\n",
       " 'and',\n",
       " 'during',\n",
       " 'breakfast',\n",
       " ',',\n",
       " 'a',\n",
       " 'really',\n",
       " 'good',\n",
       " 'experience',\n",
       " 'overall',\n",
       " ',',\n",
       " 'had',\n",
       " 'a',\n",
       " 'relaxing',\n",
       " 'drink',\n",
       " 'at',\n",
       " 'the',\n",
       " 'bar',\n",
       " ',',\n",
       " 'visited',\n",
       " 'the',\n",
       " 'cigarrum',\n",
       " 'smokers',\n",
       " 'lounge',\n",
       " 'and',\n",
       " 'had',\n",
       " 'a',\n",
       " 'great',\n",
       " 'start',\n",
       " 'into',\n",
       " 'the',\n",
       " 'day',\n",
       " 'at',\n",
       " 'the',\n",
       " 'very',\n",
       " 'nicely',\n",
       " 'assorted',\n",
       " 'breakfast',\n",
       " 'buffet',\n",
       " '.']"
      ]
     },
     "execution_count": 70,
     "metadata": {},
     "output_type": "execute_result"
    }
   ],
   "source": [
    "t[0][0]"
   ]
  },
  {
   "cell_type": "code",
   "execution_count": 69,
   "metadata": {},
   "outputs": [
    {
     "data": {
      "text/plain": [
       "['B-Positive',\n",
       " 'I-Positive',\n",
       " 'O',\n",
       " 'O',\n",
       " 'O',\n",
       " 'O',\n",
       " 'O',\n",
       " 'B-Positive',\n",
       " 'I-Positive',\n",
       " 'O',\n",
       " 'B-Positive',\n",
       " 'O',\n",
       " 'O',\n",
       " 'O',\n",
       " 'O',\n",
       " 'O',\n",
       " 'O',\n",
       " 'O',\n",
       " 'O',\n",
       " 'O',\n",
       " 'O',\n",
       " 'O',\n",
       " 'B-Positive',\n",
       " 'I-Positive',\n",
       " 'O',\n",
       " 'O',\n",
       " 'O',\n",
       " 'O',\n",
       " 'O',\n",
       " 'O',\n",
       " 'O',\n",
       " 'O',\n",
       " 'O',\n",
       " 'O',\n",
       " 'O',\n",
       " 'O',\n",
       " 'O',\n",
       " 'O',\n",
       " 'O',\n",
       " 'O',\n",
       " 'O',\n",
       " 'O',\n",
       " 'O',\n",
       " 'O',\n",
       " 'O',\n",
       " 'O',\n",
       " 'O',\n",
       " 'O',\n",
       " 'O',\n",
       " 'O',\n",
       " 'B-Positive',\n",
       " 'I-Positive',\n",
       " 'I-Positive',\n",
       " 'O',\n",
       " 'O',\n",
       " 'O']"
      ]
     },
     "execution_count": 69,
     "metadata": {},
     "output_type": "execute_result"
    }
   ],
   "source": [
    "t[0][1]"
   ]
  },
  {
   "cell_type": "code",
   "execution_count": null,
   "metadata": {},
   "outputs": [],
   "source": []
  }
 ],
 "metadata": {
  "kernelspec": {
   "display_name": "Python 3 (ipykernel)",
   "language": "python",
   "name": "python3"
  },
  "language_info": {
   "codemirror_mode": {
    "name": "ipython",
    "version": 3
   },
   "file_extension": ".py",
   "mimetype": "text/x-python",
   "name": "python",
   "nbconvert_exporter": "python",
   "pygments_lexer": "ipython3",
   "version": "3.9.6"
  }
 },
 "nbformat": 4,
 "nbformat_minor": 4
}
