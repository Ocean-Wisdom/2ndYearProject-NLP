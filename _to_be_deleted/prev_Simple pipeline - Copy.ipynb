{
 "cells": [
  {
   "cell_type": "code",
   "execution_count": 33,
   "id": "2c2af1f5",
   "metadata": {},
   "outputs": [],
   "source": [
    "import imports as i\n",
    "import functions as f\n",
    "import preprocessing as pp"
   ]
  },
  {
   "cell_type": "code",
   "execution_count": 34,
   "id": "c8902ec0",
   "metadata": {},
   "outputs": [
    {
     "name": "stdout",
     "output_type": "stream",
     "text": [
      "Number of data:  100000\n"
     ]
    }
   ],
   "source": [
    "PATH = {}\n",
    "PATH[\"dataset_classification\"] = \"dataset/classification/\"\n",
    "PATH[\"dataset_labeling\"] = \"dataset/seq_labeling/\"\n",
    "PATH[\"music_reviews_train\"] = PATH[\"dataset_classification\"] + \"music_reviews_train.json.gz\"\n",
    "PATH[\"music_reviews_dev\"] = PATH[\"dataset_classification\"] + \"music_reviews_dev.json.gz\"\n",
    "PATH[\"music_reviews_test\"] = PATH[\"dataset_classification\"] + \"music_reviews_test_masked.json.gz\"\n",
    "train = f.readJson(PATH[\"music_reviews_train\"])"
   ]
  },
  {
   "cell_type": "code",
   "execution_count": 35,
   "id": "21767628",
   "metadata": {},
   "outputs": [],
   "source": [
    "X_train, y_train, train_idx, train_missing_idx = f.json_divide(train)"
   ]
  },
  {
   "cell_type": "code",
   "execution_count": 36,
   "id": "5bf34b4c",
   "metadata": {},
   "outputs": [],
   "source": [
    "pipeline = i.Pipeline([\n",
    "    ('remove_stop_words', pp.remove_stop_words()),\n",
    "])\n",
    "\n",
    "t = pipeline.fit_transform(X_train)"
   ]
  },
  {
   "cell_type": "code",
   "execution_count": null,
   "id": "c732d18b",
   "metadata": {},
   "outputs": [],
   "source": [
    "# STEPS\n",
    "# 1. Basic preprocessing - Should be the first step\n",
    "# What is done:\n",
    "# Grammar Correction\n",
    "# Simplify Contractions\n",
    "# Lemmatize \n",
    "# Dimensionality reduce with SVD"
   ]
  },
  {
   "cell_type": "code",
   "execution_count": 29,
   "id": "3f188f4b",
   "metadata": {},
   "outputs": [],
   "source": [
    "import sys"
   ]
  },
  {
   "cell_type": "code",
   "execution_count": 42,
   "id": "74c9a3e9",
   "metadata": {},
   "outputs": [
    {
     "data": {
      "text/plain": [
       "782.2109375"
      ]
     },
     "execution_count": 42,
     "metadata": {},
     "output_type": "execute_result"
    }
   ],
   "source": [
    "sys.getsizeof(y_train)"
   ]
  },
  {
   "cell_type": "code",
   "execution_count": 43,
   "id": "e3fb66fd",
   "metadata": {},
   "outputs": [
    {
     "data": {
      "text/plain": [
       "800984"
      ]
     },
     "execution_count": 43,
     "metadata": {},
     "output_type": "execute_result"
    }
   ],
   "source": [
    "sys.getsizeof(y_train)"
   ]
  },
  {
   "cell_type": "code",
   "execution_count": 45,
   "id": "caf0ff61",
   "metadata": {},
   "outputs": [
    {
     "data": {
      "text/plain": [
       "800984"
      ]
     },
     "execution_count": 45,
     "metadata": {},
     "output_type": "execute_result"
    }
   ],
   "source": [
    "sys.getsizeof(train_idx)"
   ]
  },
  {
   "cell_type": "code",
   "execution_count": 38,
   "id": "ae7d187c",
   "metadata": {},
   "outputs": [],
   "source": [
    "g = 10"
   ]
  },
  {
   "cell_type": "code",
   "execution_count": 39,
   "id": "f65eefa4",
   "metadata": {},
   "outputs": [
    {
     "data": {
      "text/plain": [
       "28"
      ]
     },
     "execution_count": 39,
     "metadata": {},
     "output_type": "execute_result"
    }
   ],
   "source": [
    "sys.getsizeof(g)"
   ]
  },
  {
   "cell_type": "code",
   "execution_count": null,
   "id": "53c8cd98",
   "metadata": {},
   "outputs": [],
   "source": []
  }
 ],
 "metadata": {
  "kernelspec": {
   "display_name": "Python 3 (ipykernel)",
   "language": "python",
   "name": "python3"
  },
  "language_info": {
   "codemirror_mode": {
    "name": "ipython",
    "version": 3
   },
   "file_extension": ".py",
   "mimetype": "text/x-python",
   "name": "python",
   "nbconvert_exporter": "python",
   "pygments_lexer": "ipython3",
   "version": "3.9.6"
  }
 },
 "nbformat": 4,
 "nbformat_minor": 5
}
