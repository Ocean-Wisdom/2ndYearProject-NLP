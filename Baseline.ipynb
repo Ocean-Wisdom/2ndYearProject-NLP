{
 "cells": [
  {
   "cell_type": "markdown",
   "id": "2f9bfe47",
   "metadata": {},
   "source": [
    "# 1. Imports"
   ]
  },
  {
   "cell_type": "code",
   "execution_count": 6,
   "id": "9ebffd6e",
   "metadata": {},
   "outputs": [],
   "source": [
    "# our functions\n",
    "import functions as f\n",
    "# readers\n",
    "\n",
    "import gzip\n",
    "import json\n",
    "\n",
    "import codecs"
   ]
  },
  {
   "cell_type": "code",
   "execution_count": 4,
   "id": "fb6368b5",
   "metadata": {},
   "outputs": [],
   "source": [
    "PATH = {}\n",
    "PATH[\"dataset_classification\"] = \"dataset/classification/\"\n",
    "PATH[\"dataset_labeling\"] = \"dataset/seq_labeling/\"\n",
    "PATH[\"music_reviews_train\"] = PATH[\"dataset_classification\"] + \"music_reviews_train.json.gz\"\n",
    "PATH[\"music_reviews_dev\"] = PATH[\"dataset_classification\"] + \"music_reviews_dev.json.gz\"\n",
    "PATH[\"opener_train\"] = PATH[\"dataset_labeling\"] + \"opener_en-train.conll\""
   ]
  },
  {
   "cell_type": "markdown",
   "id": "9cca3186",
   "metadata": {},
   "source": [
    "# 2. Read in the files"
   ]
  },
  {
   "cell_type": "code",
   "execution_count": 3,
   "id": "03a115e9",
   "metadata": {},
   "outputs": [
    {
     "name": "stdout",
     "output_type": "stream",
     "text": [
      "Number of datas: , 100000\n",
      "Number of datas: , 10000\n"
     ]
    }
   ],
   "source": [
    "train = f.readJson(PATH[\"music_reviews_train\"])\n",
    "dev = f.readJson(PATH[\"music_reviews_dev\"])"
   ]
  },
  {
   "cell_type": "code",
   "execution_count": 7,
   "id": "80323c76",
   "metadata": {},
   "outputs": [
    {
     "name": "stdout",
     "output_type": "stream",
     "text": [
      "So creative!  Love his music - the words, the message! Some of my favorite songs on this CD. I should have bought it years ago!\n"
     ]
    }
   ],
   "source": [
    "print(train[0][\"reviewText\"])"
   ]
  },
  {
   "cell_type": "code",
   "execution_count": 9,
   "id": "ccaabe16",
   "metadata": {},
   "outputs": [],
   "source": [
    "tiny_corpus = []\n",
    "tiny_corpus.append(train[0][\"reviewText\"])\n",
    "tiny_corpus.append(train[1][\"reviewText\"]) \n",
    "tiny_corpus\n",
    "r = f.skip_gram(tiny_corpus)"
   ]
  },
  {
   "cell_type": "code",
   "execution_count": 11,
   "id": "5b7496c6",
   "metadata": {},
   "outputs": [
    {
     "name": "stdout",
     "output_type": "stream",
     "text": [
      "tensor([ 1,  2,  3,  4,  5,  6,  7,  8,  9,  8, 10, 11, 12, 13, 14, 15, 16, 17,\n",
      "        18, 19, 20, 21, 22, 23, 24, 25, 26, 27, 28, 29, 30, 31, 32, 23, 33, 34,\n",
      "        35, 36, 37, 38, 39,  3, 40, 41, 42])\n"
     ]
    }
   ],
   "source": [
    "print(r[0]) # labels"
   ]
  },
  {
   "cell_type": "code",
   "execution_count": 12,
   "id": "b2e978f7",
   "metadata": {},
   "outputs": [
    {
     "name": "stdout",
     "output_type": "stream",
     "text": [
      "tensor([[ 0,  0,  2,  3],\n",
      "        [ 0,  1,  3,  4],\n",
      "        [ 1,  2,  4,  5],\n",
      "        [ 2,  3,  5,  6],\n",
      "        [ 3,  4,  6,  7],\n",
      "        [ 4,  5,  7,  8],\n",
      "        [ 5,  6,  8,  9],\n",
      "        [ 6,  7,  9,  8],\n",
      "        [ 7,  8,  8, 10],\n",
      "        [ 8,  9, 10, 11],\n",
      "        [ 9,  8, 11, 12],\n",
      "        [ 8, 10, 12, 13],\n",
      "        [10, 11, 13, 14],\n",
      "        [11, 12, 14, 15],\n",
      "        [12, 13, 15, 16],\n",
      "        [13, 14, 16, 17],\n",
      "        [14, 15, 17, 18],\n",
      "        [15, 16, 18, 19],\n",
      "        [16, 17, 19, 20],\n",
      "        [17, 18, 20, 21],\n",
      "        [18, 19, 21, 22],\n",
      "        [19, 20, 22, 23],\n",
      "        [20, 21, 23, 24],\n",
      "        [21, 22, 24, 25],\n",
      "        [22, 23, 25,  0],\n",
      "        [23, 24,  0,  0],\n",
      "        [ 0,  0, 27, 28],\n",
      "        [ 0, 26, 28, 29],\n",
      "        [26, 27, 29, 30],\n",
      "        [27, 28, 30, 31],\n",
      "        [28, 29, 31, 32],\n",
      "        [29, 30, 32, 23],\n",
      "        [30, 31, 23, 33],\n",
      "        [31, 32, 33, 34],\n",
      "        [32, 23, 34, 35],\n",
      "        [23, 33, 35, 36],\n",
      "        [33, 34, 36, 37],\n",
      "        [34, 35, 37, 38],\n",
      "        [35, 36, 38, 39],\n",
      "        [36, 37, 39,  3],\n",
      "        [37, 38,  3, 40],\n",
      "        [38, 39, 40, 41],\n",
      "        [39,  3, 41, 42],\n",
      "        [ 3, 40, 42,  0],\n",
      "        [40, 41,  0,  0]])\n"
     ]
    }
   ],
   "source": [
    "print(r[1]) # skip_grams"
   ]
  }
 ],
 "metadata": {
  "kernelspec": {
   "display_name": "Python 3 (ipykernel)",
   "language": "python",
   "name": "python3"
  },
  "language_info": {
   "codemirror_mode": {
    "name": "ipython",
    "version": 3
   },
   "file_extension": ".py",
   "mimetype": "text/x-python",
   "name": "python",
   "nbconvert_exporter": "python",
   "pygments_lexer": "ipython3",
   "version": "3.9.6"
  }
 },
 "nbformat": 4,
 "nbformat_minor": 5
}
