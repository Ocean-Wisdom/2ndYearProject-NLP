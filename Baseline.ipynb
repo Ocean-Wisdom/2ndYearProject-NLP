{
 "cells": [
  {
   "cell_type": "markdown",
   "id": "d37445fb",
   "metadata": {},
   "source": [
    "# 1. Imports"
   ]
  },
  {
   "cell_type": "code",
   "execution_count": 1,
   "id": "9acc6a5a",
   "metadata": {},
   "outputs": [],
   "source": [
    "# our functions\n",
    "import functions as f\n",
    "# readers\n",
    "\n",
    "import gzip\n",
    "import json\n",
    "\n",
    "import codecs\n",
    "\n",
    "import numpy as np\n",
    "\n",
    "import random"
   ]
  },
  {
   "cell_type": "code",
   "execution_count": 2,
   "id": "13e1af48",
   "metadata": {},
   "outputs": [],
   "source": [
    "PATH = {}\n",
    "PATH[\"dataset_classification\"] = \"dataset/classification/\"\n",
    "PATH[\"dataset_labeling\"] = \"dataset/seq_labeling/\"\n",
    "PATH[\"music_reviews_train\"] = PATH[\"dataset_classification\"] + \"music_reviews_train.json.gz\"\n",
    "PATH[\"music_reviews_dev\"] = PATH[\"dataset_classification\"] + \"music_reviews_dev.json.gz\"\n",
    "PATH[\"music_reviews_test\"] = PATH[\"dataset_classification\"] + \"music_reviews_test_masked.json.gz\""
   ]
  },
  {
   "cell_type": "markdown",
   "id": "46b6a4e9",
   "metadata": {},
   "source": [
    "# 2. Read in the files"
   ]
  },
  {
   "cell_type": "code",
   "execution_count": 3,
   "id": "9bae5b53",
   "metadata": {},
   "outputs": [
    {
     "name": "stdout",
     "output_type": "stream",
     "text": [
      "Number of data:  100000\n",
      "Number of data:  10000\n",
      "Number of data:  10000\n"
     ]
    }
   ],
   "source": [
    "train = f.readJson(PATH[\"music_reviews_train\"])\n",
    "dev = f.readJson(PATH[\"music_reviews_dev\"])\n",
    "test = f.readJson(PATH[\"music_reviews_test\"])"
   ]
  },
  {
   "cell_type": "code",
   "execution_count": 4,
   "id": "2453657d",
   "metadata": {},
   "outputs": [],
   "source": [
    "sent_dict = {\"positive\": 1, \"negative\": 0}"
   ]
  },
  {
   "cell_type": "code",
   "execution_count": 5,
   "id": "2d7020b9",
   "metadata": {},
   "outputs": [
    {
     "name": "stdout",
     "output_type": "stream",
     "text": [
      "[4603, 4838, 16019, 18229, 19785, 23315, 28397, 28834, 33359, 43138, 43539, 43690, 44008, 44477, 44972, 48811, 49317, 50106, 51717, 52286, 55555, 56171, 57223, 58328, 58799, 58866, 59525, 59739, 61046, 61914, 61916, 62831, 63208, 72268, 78944, 79067, 80093, 80637, 80658, 81640, 81900, 82510, 83138, 83145, 83615, 84761, 87112, 88895, 88984, 89132, 91949, 94301, 94727, 99641]\n"
     ]
    }
   ],
   "source": [
    "# read the train data\n",
    "data = train\n",
    "train_sent = []\n",
    "train_sentiment = []\n",
    "train_idx = []\n",
    "missing_indexies = []\n",
    "y_train = []\n",
    "length_of_sentencies_counter = []\n",
    "for i in range(len(data)):\n",
    "    try:\n",
    "        train_sent.append(data[i][\"reviewText\"])\n",
    "        train_sentiment.append(data[i][\"sentiment\"])\n",
    "        train_idx.append(i)\n",
    "        y_train.append(sent_dict[data[i][\"sentiment\"]])\n",
    "        length_of_sentencies_counter.append(len(data[i][\"reviewText\"].split()))\n",
    "    except KeyError:\n",
    "        missing_indexies.append(i)\n",
    "        continue\n",
    "print(missing_indexies)"
   ]
  },
  {
   "cell_type": "code",
   "execution_count": 6,
   "id": "8f695589",
   "metadata": {},
   "outputs": [
    {
     "name": "stdout",
     "output_type": "stream",
     "text": [
      "number of words in the sentence\n",
      "47.03345806735637\n"
     ]
    },
    {
     "data": {
      "image/png": "[encoded data removed]",
      "text/plain": [
       "<Figure size 432x288 with 1 Axes>"
      ]
     },
     "metadata": {
      "needs_background": "light"
     },
     "output_type": "display_data"
    }
   ],
   "source": [
    "# train data reviews length simple statistic\n",
    "import matplotlib.pyplot as plt\n",
    "plt.hist(length_of_sentencies_counter, bins = [10, 20, 50,100,200])\n",
    "print(\"number of words in the sentence\")\n",
    "print(np.average(length_of_sentencies_counter))"
   ]
  },
  {
   "cell_type": "code",
   "execution_count": 7,
   "id": "86077f68",
   "metadata": {},
   "outputs": [
    {
     "data": {
      "text/plain": [
       "(array([9.9217e+04, 6.1500e+02, 8.3000e+01, 1.7000e+01, 8.0000e+00,\n",
       "        3.0000e+00, 1.0000e+00, 0.0000e+00, 0.0000e+00, 2.0000e+00]),\n",
       " array([1.0000e+00, 4.6530e+02, 9.2960e+02, 1.3939e+03, 1.8582e+03,\n",
       "        2.3225e+03, 2.7868e+03, 3.2511e+03, 3.7154e+03, 4.1797e+03,\n",
       "        4.6440e+03]),\n",
       " <BarContainer object of 10 artists>)"
      ]
     },
     "execution_count": 7,
     "metadata": {},
     "output_type": "execute_result"
    },
    {
     "data": {
      "image/png": "[encoded data removed]",
      "text/plain": [
       "<Figure size 432x288 with 1 Axes>"
      ]
     },
     "metadata": {
      "needs_background": "light"
     },
     "output_type": "display_data"
    }
   ],
   "source": [
    "plt.hist(length_of_sentencies_counter)"
   ]
  },
  {
   "cell_type": "code",
   "execution_count": 8,
   "id": "47903531",
   "metadata": {},
   "outputs": [
    {
     "name": "stdout",
     "output_type": "stream",
     "text": [
      "[2900, 4294, 5135, 8540]\n"
     ]
    }
   ],
   "source": [
    "data = dev\n",
    "dev_sent = []\n",
    "dev_sentiment = []\n",
    "dev_idx = []\n",
    "missing_indexies = []\n",
    "dev_y_train = []\n",
    "for i in range(len(data)):\n",
    "    try:\n",
    "        dev_sent.append(data[i][\"reviewText\"])\n",
    "        dev_sentiment.append(data[i][\"sentiment\"])\n",
    "        dev_idx.append(i)\n",
    "        dev_y_train.append(sent_dict[data[i][\"sentiment\"]]) \n",
    "    except KeyError:\n",
    "        missing_indexies.append(i)\n",
    "        continue\n",
    "print(missing_indexies)"
   ]
  },
  {
   "cell_type": "code",
   "execution_count": 9,
   "id": "d15972ec",
   "metadata": {},
   "outputs": [
    {
     "name": "stdout",
     "output_type": "stream",
     "text": [
      "[90, 117, 439, 2138, 4112, 5364, 8210]\n"
     ]
    }
   ],
   "source": [
    "data = test\n",
    "test_sent = []\n",
    "test_sentiment = []\n",
    "test_idx = []\n",
    "missing_indexies = []\n",
    "for i in range(len(data)):\n",
    "    try:\n",
    "        test_sent.append(data[i][\"reviewText\"])\n",
    "        test_sentiment.append(data[i][\"sentiment\"])\n",
    "        test_idx.append(i)\n",
    "        #y_train.append(sent_dict[data[i][\"sentiment\"]]) \n",
    "    except KeyError:\n",
    "        missing_indexies.append(i)\n",
    "        continue\n",
    "print(\"index of reviews which are empty: \",missing_indexies)"
   ]
  },
  {
   "cell_type": "code",
   "execution_count": 10,
   "id": "9014e924",
   "metadata": {},
   "outputs": [
    {
     "name": "stderr",
     "output_type": "stream",
     "text": [
      "c:\\users\\music\\appdata\\local\\programs\\python\\python39\\lib\\site-packages\\zeugma\\keras_transformers.py:33: VisibleDeprecationWarning: Creating an ndarray from ragged nested sequences (which is a list-or-tuple of lists-or-tuples-or ndarrays with different lengths or shapes) is deprecated. If you meant to do this, you must specify 'dtype=object' when creating the ndarray.\n",
      "  return np.array(self.texts_to_sequences(texts))\n"
     ]
    }
   ],
   "source": [
    "# it needs to be replaced since it doesnt handle the lower/upper cases and the mess\n",
    "###################################################################################\n",
    "from zeugma import TextsToSequences\n",
    "sequencer = TextsToSequences()\n",
    "sequencer.fit_transform(train_sent)\n",
    "#print(sequencer.index_word)\n",
    "# fit new data \n",
    "Train = sequencer.transform(train_sent)\n",
    "Dev = sequencer.transform(dev_sent)\n",
    "Test = sequencer.transform(test_sent)"
   ]
  },
  {
   "cell_type": "code",
   "execution_count": 11,
   "id": "d28e1b93",
   "metadata": {},
   "outputs": [],
   "source": [
    "import tensorflow as tf\n",
    "from tensorflow import keras\n",
    "from tensorflow.keras import layers"
   ]
  },
  {
   "cell_type": "code",
   "execution_count": 12,
   "id": "083495a0",
   "metadata": {},
   "outputs": [],
   "source": [
    "def sequence_pad(sequence, padding='pre', maxlen=50):\n",
    "    res = tf.keras.preprocessing.sequence.pad_sequences(\n",
    "        sequence,\n",
    "        maxlen=maxlen,\n",
    "        dtype='int32',\n",
    "        padding=padding,\n",
    "        truncating='pre',\n",
    "        value=0.0)\n",
    "    return res"
   ]
  },
  {
   "cell_type": "code",
   "execution_count": 13,
   "id": "e851026c",
   "metadata": {},
   "outputs": [
    {
     "data": {
      "text/plain": [
       "9993"
      ]
     },
     "execution_count": 13,
     "metadata": {},
     "output_type": "execute_result"
    }
   ],
   "source": [
    "padding = \"post\"\n",
    "maxlen = 50\n",
    "X_train_p = sequence_pad(Train, padding=padding, maxlen=maxlen)\n",
    "X_dev_p = sequence_pad(Dev, padding=padding, maxlen=maxlen)\n",
    "X_test_p = sequence_pad(Test, padding=padding, maxlen=maxlen)\n",
    "len(X_test_p)"
   ]
  },
  {
   "cell_type": "code",
   "execution_count": 14,
   "id": "83330e48",
   "metadata": {},
   "outputs": [
    {
     "name": "stdout",
     "output_type": "stream",
     "text": [
      "99946\n",
      "99946\n",
      "9996\n",
      "9996\n",
      "9993\n",
      "10000\n",
      "10000\n"
     ]
    }
   ],
   "source": [
    "X_train_m = np.array(X_train_p)\n",
    "y_train_m = np.array(y_train)\n",
    "print(len(y_train_m))\n",
    "print(len(X_train_m))\n",
    "X_valid_m = np.array(X_dev_p)\n",
    "y_valid_m = np.array(dev_y_train)\n",
    "print(len(X_valid_m))\n",
    "print(len(y_valid_m))\n",
    "X_test_m = np.array(X_test_p)\n",
    "#y_test_m = np.array(y_test)\n",
    "print(len(X_test_m))\n",
    "#print(len(y_test_m))\n",
    "\n",
    "bias = 10000\n",
    "\n",
    "ran = random.randint(0, len(X_train_m)-bias)\n",
    "ran_val = random.randint(0, len(X_valid_m)-(bias/10))\n",
    "s_tr = ran\n",
    "e = ran+bias\n",
    "s_test = ran_val\n",
    "e_test = ran_val+(bias/10)\n",
    "\n",
    "X_train_m = X_train_m[s_tr:e]\n",
    "y_train_m = y_train_m[s_tr:e]\n",
    "X_valid_m = X_valid_m[s_test:int(e_test)]\n",
    "y_valid_m = y_valid_m[s_test:int(e_test)]\n",
    "#X_valid_m = X_valid_m[s:e]\n",
    "#y_valid_m = y_valid_m[s:e]\n",
    "print(len(y_train_m))\n",
    "print(len(X_train_m))"
   ]
  },
  {
   "cell_type": "code",
   "execution_count": null,
   "id": "59c6c1bf",
   "metadata": {
    "scrolled": true
   },
   "outputs": [
    {
     "name": "stdout",
     "output_type": "stream",
     "text": [
      "Model: \"sequential\"\n",
      "_________________________________________________________________\n",
      " Layer (type)                Output Shape              Param #   \n",
      "=================================================================\n",
      " embedding (Embedding)       (None, 50, 64)            5119488   \n",
      "                                                                 \n",
      " lstm (LSTM)                 (None, 100)               66000     \n",
      "                                                                 \n",
      " dense (Dense)               (None, 1)                 101       \n",
      "                                                                 \n",
      "=================================================================\n",
      "Total params: 5,185,589\n",
      "Trainable params: 5,185,589\n",
      "Non-trainable params: 0\n",
      "_________________________________________________________________\n",
      "None\n",
      "Epoch 1/8\n",
      "625/625 [==============================] - 54s 83ms/step - loss: 0.5856 - accuracy: 0.7186 - val_loss: 0.5632 - val_accuracy: 0.7700\n",
      "Epoch 2/8\n",
      "258/625 [===========>..................] - ETA: 30s - loss: 0.4471 - accuracy: 0.7970"
     ]
    }
   ],
   "source": [
    "vocabulary_size = max(sequencer.index_word)\n",
    "\n",
    "from keras import Sequential\n",
    "from keras.layers import Embedding, LSTM, Dense, Dropout\n",
    "\n",
    "embedding_size=64\n",
    "model=Sequential()\n",
    "model.add(Embedding(vocabulary_size+1, embedding_size, input_length=maxlen))\n",
    "model.add(LSTM(100))\n",
    "model.add(Dense(1, activation='sigmoid'))\n",
    "\n",
    "model.compile(loss='binary_crossentropy', \n",
    "             optimizer='adam', \n",
    "             metrics=['accuracy'])\n",
    "\n",
    "print(model.summary())\n",
    "\n",
    "batch_size = 16\n",
    "num_epochs = 8\n",
    "\n",
    "#X_valid, y_valid = X_train_k[batch_size:], y_train[batch_size:]\n",
    "history = model.fit(X_train_m, y_train_m, validation_data=(X_valid_m, y_valid_m), batch_size=batch_size, epochs=num_epochs)\n",
    "#history = model.fit(X_train_m, y_train_m, batch_size=batch_size, epochs=num_epochs)\n",
    "#model.fit(X_trainn, y_trainn, batch_size=batch_size, epochs=num_epochs)\n",
    "#model.fit(X_train_m, y_train_m, batch_size=batch_size, epochs=num_epochs)\n",
    "pyplot.plot(history.history[\"accuracy\"], label='train accuracy')\n",
    "pyplot.plot(history.history[\"loss\"], label='train loss')\n",
    "pyplot.plot(history.history[\"val_loss\"], label='validation loss')\n",
    "pyplot.plot(history.history[\"val_accuracy\"], label='validation accuracy')\n",
    "pyplot.legend()\n",
    "pyplot.show()\n",
    "######### ------------------------- ################### save the model\n",
    "#model.save('model/')"
   ]
  },
  {
   "cell_type": "markdown",
   "id": "22641a24",
   "metadata": {},
   "source": [
    "### Save the model, prediction"
   ]
  },
  {
   "cell_type": "code",
   "execution_count": null,
   "id": "d1fb1eb5",
   "metadata": {},
   "outputs": [],
   "source": [
    "#model.save('model/')\n",
    "result = model.predict(X_valid_m)"
   ]
  },
  {
   "cell_type": "markdown",
   "id": "8e53b244",
   "metadata": {},
   "source": [
    "## Sentiment results, Sampling some guess"
   ]
  },
  {
   "cell_type": "code",
   "execution_count": null,
   "id": "5583e069",
   "metadata": {},
   "outputs": [],
   "source": [
    "\n",
    "threshold = 0.5\n",
    "acc = 0\n",
    "acc_count = 0\n",
    "res_final = []\n",
    "for r in result:\n",
    "    acc_count+=1\n",
    "    if r<threshold:\n",
    "        r = 0\n",
    "        res_final.append(\"negative\")\n",
    "    if r>threshold:\n",
    "        res_final.append(\"positive\")\n",
    "        \n",
    "for i in random.sample(range(0, 9993), 5):\n",
    "    print(\"####\", res_final[i], \"---\", test_sent[i])"
   ]
  },
  {
   "cell_type": "code",
   "execution_count": null,
   "id": "2b237850",
   "metadata": {},
   "outputs": [],
   "source": []
  }
 ],
 "metadata": {
  "kernelspec": {
   "display_name": "Python 3 (ipykernel)",
   "language": "python",
   "name": "python3"
  },
  "language_info": {
   "codemirror_mode": {
    "name": "ipython",
    "version": 3
   },
   "file_extension": ".py",
   "mimetype": "text/x-python",
   "name": "python",
   "nbconvert_exporter": "python",
   "pygments_lexer": "ipython3",
   "version": "3.9.6"
  }
 },
 "nbformat": 4,
 "nbformat_minor": 5
}
