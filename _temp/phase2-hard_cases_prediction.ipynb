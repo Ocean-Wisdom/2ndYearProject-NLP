{
 "cells": [
  {
   "cell_type": "code",
   "execution_count": 1,
   "id": "0577d5d0",
   "metadata": {},
   "outputs": [],
   "source": [
    "# imports\n",
    "import tensorflow as tf\n",
    "import keras\n",
    "import pandas as pd\n",
    "import json\n",
    "import gzip\n",
    "\n",
    "# word to idx\n",
    "import pickle\n",
    "\n",
    "# our functions\n",
    "import functions as f\n",
    "\n",
    "import random\n"
   ]
  },
  {
   "cell_type": "code",
   "execution_count": 2,
   "id": "60685594",
   "metadata": {},
   "outputs": [],
   "source": [
    "PATH = {}\n",
    "PATH[\"dataset_classification\"] = \"dataset/classification/\"\n",
    "PATH[\"dataset_phase2\"] = \"dataset/phase2/\"\n",
    "PATH[\"dataset_labeling\"] = \"dataset/seq_labeling/\"\n",
    "PATH[\"music_reviews_train\"] = PATH[\"dataset_classification\"] + \"music_reviews_train.json.gz\"\n",
    "PATH[\"music_reviews_dev\"] = PATH[\"dataset_classification\"] + \"music_reviews_dev.json.gz\"\n",
    "PATH[\"music_reviews_test\"] = PATH[\"dataset_classification\"] + \"music_reviews_test_masked.json.gz\"\n",
    "PATH[\"hard_cases\"] = PATH[\"dataset_phase2\"] + \"phase2_testData-masked.json.gz\"\n",
    "#PATH[\"news\"] = PATH[\"dataset_phase2\"] + \"review_polarity.tar.gz\"\n",
    "cat_dict = {0: \"negative\", 1:\"positive\"}"
   ]
  },
  {
   "cell_type": "code",
   "execution_count": 27,
   "id": "307bfc53",
   "metadata": {},
   "outputs": [],
   "source": [
    "# load our model\n",
    "model = keras.models.load_model('model/2022-4-18-23-34-42')\n",
    "\n",
    "# load our word to idx\n",
    "#### Thios is the original sequencer without stop words\n",
    "#sequencer = pickle.load( open( \"model/text_to_seq.p\", \"rb\" ) )\n",
    "sequencer = pickle.load( open( \"model/text_to_seq_without_stop_words.p\", \"rb\" ) )\n",
    "sequencer = pickle.loads(sequencer)"
   ]
  },
  {
   "cell_type": "code",
   "execution_count": 28,
   "id": "815d0fbf",
   "metadata": {},
   "outputs": [
    {
     "name": "stdout",
     "output_type": "stream",
     "text": [
      "Number of data:  3591\n"
     ]
    }
   ],
   "source": [
    "# read in files\n",
    "raw = f.readJson(PATH[\"hard_cases\"])"
   ]
  },
  {
   "cell_type": "code",
   "execution_count": 29,
   "id": "5a317d83",
   "metadata": {},
   "outputs": [
    {
     "name": "stdout",
     "output_type": "stream",
     "text": [
      "1176\n",
      "0\n",
      "average number of words in the sentence\n",
      "74.71317181843497\n"
     ]
    },
    {
     "data": {
      "image/png": "[encoded data removed]",
      "text/plain": [
       "<Figure size 432x288 with 1 Axes>"
      ]
     },
     "metadata": {
      "needs_background": "light"
     },
     "output_type": "display_data"
    }
   ],
   "source": [
    "# some stat about the cases\n",
    "length_of_sentencies_counter = []\n",
    "for i in range(len(raw)):\n",
    "    length_of_sentencies_counter.append(len(raw[i][\"reviewText\"].split()))\n",
    "raw[0][\"reviewText\"]\n",
    "import matplotlib.pyplot as plt\n",
    "import numpy as np\n",
    "print(max(length_of_sentencies_counter))\n",
    "print(min(length_of_sentencies_counter))\n",
    "bins = [10, 20, 30,40,50,70,80,90,100,150,200,300,400,500,600,700,800,1000]\n",
    "plt.hist(length_of_sentencies_counter, bins = range(0, 200, 10))\n",
    "print(\"average number of words in the sentence\")\n",
    "print(np.average(length_of_sentencies_counter))"
   ]
  },
  {
   "cell_type": "code",
   "execution_count": 30,
   "id": "43d839ea",
   "metadata": {},
   "outputs": [],
   "source": [
    "test_x = []\n",
    "test_y = []\n",
    "test_com = []\n",
    "test_group = []\n",
    "for i in range(len(raw)):  \n",
    "    test_x.append(raw[i]['reviewText'])\n",
    "    test_com.append(raw[i]['category'])\n",
    "    test_group.append(raw[i]['group'])"
   ]
  },
  {
   "cell_type": "code",
   "execution_count": 31,
   "id": "71ab0342",
   "metadata": {},
   "outputs": [],
   "source": [
    "# original sequencer with mess\n",
    "test_x_idx = sequencer.transform(test_x)"
   ]
  },
  {
   "cell_type": "code",
   "execution_count": 33,
   "id": "e190ca99",
   "metadata": {
    "scrolled": true
   },
   "outputs": [],
   "source": [
    "# padding apply\n",
    "def sequence_pad(sequence, padding='pre', maxlen=50):\n",
    "    res = tf.keras.preprocessing.sequence.pad_sequences(\n",
    "        sequence,\n",
    "        maxlen=maxlen,\n",
    "        dtype='int32',\n",
    "        padding=padding,\n",
    "        truncating='pre',\n",
    "        value=0.0)\n",
    "    return res\n",
    "padding = \"post\"\n",
    "maxlen = 100\n",
    "\n",
    "X_train_p = sequence_pad(test_x_idx, padding=padding, maxlen=maxlen)\n",
    "\n",
    "# prediction\n",
    "result = model.predict(X_train_p)\n",
    "#print(result)"
   ]
  },
  {
   "cell_type": "code",
   "execution_count": 34,
   "id": "0913bd5d",
   "metadata": {},
   "outputs": [],
   "source": [
    "def sent_result_converter(number):\n",
    "    threshold = 0.5\n",
    "    if number<threshold:\n",
    "        return \"negative\"\n",
    "    if number>threshold:\n",
    "        return \"positive\""
   ]
  },
  {
   "cell_type": "markdown",
   "id": "1c0a96ba",
   "metadata": {},
   "source": [
    "## Random samples\n"
   ]
  },
  {
   "cell_type": "code",
   "execution_count": 35,
   "id": "b378f4a7",
   "metadata": {},
   "outputs": [
    {
     "name": "stdout",
     "output_type": "stream",
     "text": [
      "#### [0.9688262] --- This is a marvelous album.\n",
      "#### [0.3588704] --- I should love this CD, the sound quality is amazing, all of the songs are incredibly varied and unique and i'm a big fan of the artist, but for some reason i just hate it. There is just something about it that i can't describe that feels incredibly wrong\n",
      "#### [0.9918061] --- before you buy the jackal original soundtrack ... do  let the cover fool you . mezzanine is an easy album to get into to . in fact , `` dissolved girl '' is my sole reason for purchasing the album . i had to find this song . for starters , mezzanine introduces the techno `` lite '' listener to a large array of elements including real instruments and live vocals . nearly every track has a distinctive sound which gives the entire album great `` replay value . '' in particular , one track ( which has been edited for a popular medical drama ) is a masterpiece . if you 've never heard of massive attack then this is a great way to experience them first hand .\n",
      "#### [0.01583511] --- it sucks i do n't have much to say about this cd , there 's only one happy song on this album called 'fight fire with fire ' , the rest just sucks . i do n't recommend this album , cause it will disapoint you very much . when you here the first track , you probably think i 'm wrong , but what did i said ? i said the first song is the only helpful one ! the rest sucks ! so save your money on this one !\n",
      "#### [0.9514081] ---  qiute what I expected. Having ilstened to this groupe a lot, I thought that there would be a lot more base action. It is entirely what I expected,  but still  Ilike it a lot. I really love LowD own the Chariot and Gentle Shepard. I would recomned it\n"
     ]
    }
   ],
   "source": [
    "for i in random.sample(range(0, len(result)), 5):\n",
    "    print(\"####\", result[i], \"---\", test_x[i])"
   ]
  },
  {
   "cell_type": "markdown",
   "id": "5f5be161",
   "metadata": {},
   "source": [
    "# Write to JSON, save and check it"
   ]
  },
  {
   "cell_type": "code",
   "execution_count": 36,
   "id": "10c199d1",
   "metadata": {},
   "outputs": [],
   "source": [
    "keys = [\"reviewText\",\"sentiment\",\"category\"]"
   ]
  },
  {
   "cell_type": "code",
   "execution_count": 37,
   "id": "aab2f831",
   "metadata": {},
   "outputs": [],
   "source": [
    "json_raw_data = []\n",
    "for i in range(len(raw)):\n",
    "    temp_data = []\n",
    "    def_dict = dict()\n",
    "    for c in keys:\n",
    "        if c ==  \"reviewText\":\n",
    "            def_dict[c] = str(test_x[i])\n",
    "        if c ==  \"sentiment\":\n",
    "            def_dict[c] = str(sent_result_converter(result[i]))\n",
    "        if c ==  \"category\":\n",
    "            def_dict[c] = str(test_com[i])   \n",
    "    json_raw_data.append(def_dict) # ok this is very good, itsa opening with json.load\n",
    "    \n",
    "outFile = open('group16_hard_cases_raw.json', 'w')\n",
    "for instance in json_raw_data:\n",
    "      outFile.write(json.dumps(instance) + '\\n')\n",
    "outFile.close()"
   ]
  },
  {
   "cell_type": "code",
   "execution_count": 38,
   "id": "892ac74f",
   "metadata": {},
   "outputs": [
    {
     "name": "stdout",
     "output_type": "stream",
     "text": [
      "\"reviewText\": It's the shit\n",
      "\"sentiment\": positive\n",
      "\"category\": slang\n"
     ]
    }
   ],
   "source": [
    "for line in gzip.open('group16_hard_cases_raw.json.gz'):\n",
    "    review_data = json.loads(line)\n",
    "    for key in review_data:\n",
    "        print('\"' + key +'\": ' + str(review_data[key]))\n",
    "    break"
   ]
  },
  {
   "cell_type": "code",
   "execution_count": null,
   "id": "b22eb1b0",
   "metadata": {},
   "outputs": [],
   "source": []
  }
 ],
 "metadata": {
  "kernelspec": {
   "display_name": "Python 3 (ipykernel)",
   "language": "python",
   "name": "python3"
  },
  "language_info": {
   "codemirror_mode": {
    "name": "ipython",
    "version": 3
   },
   "file_extension": ".py",
   "mimetype": "text/x-python",
   "name": "python",
   "nbconvert_exporter": "python",
   "pygments_lexer": "ipython3",
   "version": "3.9.6"
  }
 },
 "nbformat": 4,
 "nbformat_minor": 5
}
