{
 "cells": [
  {
   "cell_type": "code",
   "execution_count": 10,
   "id": "7a4d1b0c",
   "metadata": {},
   "outputs": [
    {
     "name": "stderr",
     "output_type": "stream",
     "text": [
      "[nltk_data] Downloading package wordnet to\n",
      "[nltk_data]     C:\\Users\\MUSIC\\AppData\\Roaming\\nltk_data...\n",
      "[nltk_data]   Package wordnet is already up-to-date!\n",
      "[nltk_data] Downloading package averaged_perceptron_tagger to\n",
      "[nltk_data]     C:\\Users\\MUSIC\\AppData\\Roaming\\nltk_data...\n",
      "[nltk_data]   Package averaged_perceptron_tagger is already up-to-\n",
      "[nltk_data]       date!\n"
     ]
    }
   ],
   "source": [
    "import imports as i\n",
    "import functions as f\n",
    "import preprocessing as pp"
   ]
  },
  {
   "cell_type": "code",
   "execution_count": 11,
   "id": "2c646376",
   "metadata": {},
   "outputs": [
    {
     "name": "stdout",
     "output_type": "stream",
     "text": [
      "Number of data:  100000\n"
     ]
    }
   ],
   "source": [
    "PATH = {}\n",
    "PATH[\"dataset_classification\"] = \"dataset/classification/\"\n",
    "PATH[\"dataset_labeling\"] = \"dataset/seq_labeling/\"\n",
    "PATH[\"music_reviews_train\"] = PATH[\"dataset_classification\"] + \"music_reviews_train.json.gz\"\n",
    "PATH[\"music_reviews_dev\"] = PATH[\"dataset_classification\"] + \"music_reviews_dev.json.gz\"\n",
    "PATH[\"music_reviews_test\"] = PATH[\"dataset_classification\"] + \"music_reviews_test_masked.json.gz\"\n",
    "train = f.readJson(PATH[\"music_reviews_train\"])"
   ]
  },
  {
   "cell_type": "code",
   "execution_count": 12,
   "id": "4563983b",
   "metadata": {},
   "outputs": [],
   "source": [
    "X_train, y_train, train_idx, train_missing_idx = f.json_divide(train)"
   ]
  },
  {
   "cell_type": "markdown",
   "id": "58bc7be9",
   "metadata": {},
   "source": [
    "## PREPROCESSING FUNCTIONS"
   ]
  },
  {
   "cell_type": "code",
   "execution_count": 16,
   "id": "a24d24f0",
   "metadata": {},
   "outputs": [],
   "source": [
    "# BASIC PREPROCESSING\n",
    "train_set_clean, l = pp.basic_preprocess(X_train)\n",
    "\n",
    "#### POSSIBILITIES\n",
    "# REMOVE STOP WORDS\n",
    "train_set_clean = pp.remove_stop_words(train_set_clean)"
   ]
  },
  {
   "cell_type": "markdown",
   "id": "e4f6f8cb",
   "metadata": {},
   "source": [
    "## Lemmatizer"
   ]
  },
  {
   "cell_type": "code",
   "execution_count": null,
   "id": "38eabba6",
   "metadata": {},
   "outputs": [],
   "source": [
    "import nltk\n",
    "nltk.download(\"wordnet\") \n",
    "from nltk.stem import WordNetLemmatizer\n",
    "\n",
    "# TODO OUGHT TO CHANGE EVERYTHING TO LOWER CASE  !!!!\n",
    "def lemmatize_token_listlist(token_listlist, reassembleSntcs): \n",
    "    wnl = WordNetLemmatizer()\n",
    "    if reassembleSntcs: \n",
    "        lemmatized_tokensentence_list = []\n",
    "        for tokenlist in token_listlist: lemmatized_tokensentence_list.append(' '.join([wnl.lemmatize(tokens) for tokens in tokenlist]))\n",
    "        return lemmatized_tokensentence_list\n",
    "    else: \n",
    "        lemmatized_token_listlist = []\n",
    "        for tokenlist in token_listlist: \n",
    "            lemmatized_token_listlist.append([wnl.lemmatize(tokens) for tokens in tokenlist])\n",
    "    return lemmatized_token_listlist"
   ]
  },
  {
   "cell_type": "markdown",
   "id": "43cab9ab",
   "metadata": {},
   "source": [
    "# POS-tagger"
   ]
  },
  {
   "cell_type": "code",
   "execution_count": null,
   "id": "d34c8077",
   "metadata": {},
   "outputs": [],
   "source": [
    "# https://www.nltk.org/api/nltk.tag.html\n",
    "from nltk import pos_tag, word_tokenize\n",
    "nltk.download('averaged_perceptron_tagger')\n",
    "\n",
    "#only works for english\n",
    "def pos_tag_stringlist(strlist, shouldTokenize):\n",
    "    pos_tagged_strlist = []\n",
    "    if shouldTokenize: \n",
    "        for str in strlist: pos_tagged_strlist.append(pos_tag(word_tokenize(str)))\n",
    "    else: \n",
    "        for str in strlist: pos_tagged_strlist.append(pos_tag(str))\n",
    "    return pos_tagged_strlist"
   ]
  },
  {
   "cell_type": "markdown",
   "id": "d0300426",
   "metadata": {},
   "source": [
    "# STEPS"
   ]
  },
  {
   "cell_type": "code",
   "execution_count": null,
   "id": "d57f35bf",
   "metadata": {},
   "outputs": [],
   "source": [
    "# define the two model\n",
    "### baseline, Hugging Face"
   ]
  },
  {
   "cell_type": "code",
   "execution_count": null,
   "id": "8631561e",
   "metadata": {},
   "outputs": [],
   "source": [
    "# LOG the results in pandas Dataframe"
   ]
  },
  {
   "cell_type": "code",
   "execution_count": 2,
   "id": "a8e52724",
   "metadata": {},
   "outputs": [],
   "source": [
    "# STEPS ORDER for Preprocessing\n",
    "# 1. Basic preprocessing - Should be the first step\n",
    "# 2. Grammar Correction\n",
    "# 3. Simplify Contractions\n",
    "# 4. Lemmatize \n",
    "# 5. Remove stop words"
   ]
  },
  {
   "cell_type": "code",
   "execution_count": 17,
   "id": "c8dd0943",
   "metadata": {},
   "outputs": [],
   "source": [
    "# TODO: \n",
    "# 2. Define the technical parameters of the basic NN\n",
    "## post tagging \n",
    "## 10k same sentence \n",
    "## first 40 word\n",
    "## \n",
    "#### BASE RNN vs Hugging Face \n",
    "# simple pandas dataframe - Columns are preproc methods, 1,0,1, accuracy, etc  \n",
    "# 4. Best vs Worst Accuracy settings test on bigger corpus # Bigger test, Train? Dev set ?"
   ]
  },
  {
   "cell_type": "code",
   "execution_count": 18,
   "id": "bbe4983d",
   "metadata": {},
   "outputs": [],
   "source": [
    "# Grid search"
   ]
  },
  {
   "cell_type": "code",
   "execution_count": null,
   "id": "e849f9aa",
   "metadata": {},
   "outputs": [],
   "source": [
    "param_grid = [\n",
    "  {'gram_cor': [0, 1], 'simp_contr': [0, 1], 'lemma': [0, 1], },\n",
    "  {'C': [1, 10, 100, 1000], 'gamma': [0.001, 0.0001], 'kernel': ['rbf']},\n",
    " ]"
   ]
  }
 ],
 "metadata": {
  "kernelspec": {
   "display_name": "Python 3 (ipykernel)",
   "language": "python",
   "name": "python3"
  },
  "language_info": {
   "codemirror_mode": {
    "name": "ipython",
    "version": 3
   },
   "file_extension": ".py",
   "mimetype": "text/x-python",
   "name": "python",
   "nbconvert_exporter": "python",
   "pygments_lexer": "ipython3",
   "version": "3.9.6"
  }
 },
 "nbformat": 4,
 "nbformat_minor": 5
}
