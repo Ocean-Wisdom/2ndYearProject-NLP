{
 "cells": [
  {
   "cell_type": "code",
   "execution_count": 9,
   "metadata": {},
   "outputs": [],
   "source": [
    "import imports as i\n",
    "import functions as f\n",
    "import preprocessing as pp"
   ]
  },
  {
   "cell_type": "code",
   "execution_count": 10,
   "metadata": {},
   "outputs": [
    {
     "name": "stdout",
     "output_type": "stream",
     "text": [
      "Number of data:  100000\n"
     ]
    }
   ],
   "source": [
    "PATH = {}\n",
    "PATH[\"dataset_classification\"] = \"dataset/classification/\"\n",
    "PATH[\"dataset_labeling\"] = \"dataset/seq_labeling/\"\n",
    "PATH[\"music_reviews_train\"] = PATH[\"dataset_classification\"] + \"music_reviews_train.json.gz\"\n",
    "PATH[\"music_reviews_dev\"] = PATH[\"dataset_classification\"] + \"music_reviews_dev.json.gz\"\n",
    "PATH[\"music_reviews_test\"] = PATH[\"dataset_classification\"] + \"music_reviews_test_masked.json.gz\"\n",
    "train = f.readJson(PATH[\"music_reviews_train\"])"
   ]
  },
  {
   "cell_type": "code",
   "execution_count": 11,
   "metadata": {},
   "outputs": [],
   "source": [
    "X_train, y_train, train_idx, train_missing_idx = f.json_divide(train)"
   ]
  },
  {
   "cell_type": "markdown",
   "metadata": {},
   "source": [
    "## PREPROCESSING FUNCTIONS"
   ]
  },
  {
   "cell_type": "code",
   "execution_count": 16,
   "metadata": {},
   "outputs": [],
   "source": [
    "# BASIC PREPROCESSING\n",
    "train_set_clean, l = pp.basic_preprocess(X_train)\n",
    "\n",
    "#### POSSIBILITIES\n",
    "# REMOVE STOP WORDS\n",
    "#train_set_clean = pp.remove_stop_words(train_set_clean)"
   ]
  },
  {
   "cell_type": "markdown",
   "metadata": {},
   "source": [
    "## Lemmatizer"
   ]
  },
  {
   "cell_type": "code",
   "execution_count": null,
   "metadata": {},
   "outputs": [],
   "source": [
    "import nltk\n",
    "nltk.download(\"wordnet\") \n",
    "from nltk.stem import WordNetLemmatizer\n",
    "\n",
    "# TODO OUGHT TO CHANGE EVERYTHING TO LOWER CASE  !!!!\n",
    "def lemmatize_token_listlist(token_listlist, reassembleSntcs): \n",
    "    wnl = WordNetLemmatizer()\n",
    "    if reassembleSntcs: \n",
    "        lemmatized_tokensentence_list = []\n",
    "        for tokenlist in token_listlist: lemmatized_tokensentence_list.append(' '.join([wnl.lemmatize(tokens) for tokens in tokenlist]))\n",
    "        return lemmatized_tokensentence_list\n",
    "    else: \n",
    "        lemmatized_token_listlist = []\n",
    "        for tokenlist in token_listlist: \n",
    "            lemmatized_token_listlist.append([wnl.lemmatize(tokens) for tokens in tokenlist])\n",
    "    return lemmatized_token_listlist"
   ]
  },
  {
   "cell_type": "markdown",
   "metadata": {},
   "source": [
    "# POS-tagger"
   ]
  },
  {
   "cell_type": "code",
   "execution_count": null,
   "metadata": {},
   "outputs": [],
   "source": [
    "# https://www.nltk.org/api/nltk.tag.html\n",
    "from nltk import pos_tag, word_tokenize\n",
    "nltk.download('averaged_perceptron_tagger')\n",
    "\n",
    "#only works for english\n",
    "def pos_tag_stringlist(strlist, shouldTokenize):\n",
    "    pos_tagged_strlist = []\n",
    "    if shouldTokenize: \n",
    "        for str in strlist: pos_tagged_strlist.append(pos_tag(word_tokenize(str)))\n",
    "    else: \n",
    "        for str in strlist: pos_tagged_strlist.append(pos_tag(str))\n",
    "    return pos_tagged_strlist"
   ]
  },
  {
   "cell_type": "markdown",
   "metadata": {},
   "source": [
    "# STEPS"
   ]
  },
  {
   "cell_type": "code",
   "execution_count": null,
   "metadata": {},
   "outputs": [],
   "source": [
    "# define the two model\n",
    "### baseline, Hugging Face"
   ]
  },
  {
   "cell_type": "code",
   "execution_count": null,
   "metadata": {},
   "outputs": [],
   "source": [
    "# LOG the results in pandas Dataframe"
   ]
  },
  {
   "cell_type": "code",
   "execution_count": 2,
   "metadata": {},
   "outputs": [],
   "source": [
    "# STEPS ORDER for Preprocessing\n",
    "# 1. Basic preprocessing - Should be the first step\n",
    "# 2. Grammar Correction\n",
    "# 3. Simplify Contractions\n",
    "# 4. Lemmatize \n",
    "# 5. Remove stop words"
   ]
  },
  {
   "cell_type": "code",
   "execution_count": 17,
   "metadata": {},
   "outputs": [],
   "source": [
    "# TODO: \n",
    "# 2. Define the technical parameters of the basic NN\n",
    "## post tagging \n",
    "## 10k same sentence \n",
    "## first 40 word\n",
    "## \n",
    "#### BASE RNN vs Hugging Face \n",
    "# simple pandas dataframe - Columns are preproc methods, 1,0,1, accuracy, etc  \n",
    "# 4. Best vs Worst Accuracy settings test on bigger corpus # Bigger test, Train? Dev set ?"
   ]
  },
  {
   "cell_type": "code",
   "execution_count": 18,
   "metadata": {},
   "outputs": [],
   "source": [
    "# Grid search"
   ]
  },
  {
   "cell_type": "code",
   "execution_count": null,
   "metadata": {},
   "outputs": [],
   "source": [
    "def grid_search(str_list):\n",
    "    simp_contr = [0, 1]\n",
    "    gram_cor = [0, 1]\n",
    "    simp_neg = [0, 1]\n",
    "    lemma = [0, 1]\n",
    "    rem_stop = [0, 1]\n",
    "    list_of_data = []\n",
    "    for z in simp_contr:\n",
    "        for x in gram_cor:\n",
    "            for c in lemma:\n",
    "                for v in rem_stop:\n",
    "                    data = str_list\n",
    "                    if z == 1:\n",
    "                        data = data #grammar_correction(data)\n",
    "                    if x == 1:\n",
    "                        data = f.concat_and_negation(data)\n",
    "                    if c == 1:\n",
    "                        data = data #lemmatize(data, True)\n",
    "                    if v == 1:\n",
    "                        data = pp.remove_stop_words(data)\n",
    "                    list_of_data.append([z, x, c, v], data)\n",
    "    return list_of_data"
   ]
  },
  {
   "cell_type": "code",
   "execution_count": null,
   "metadata": {},
   "outputs": [],
   "source": [
    "data_sets = grid_search(train_set_clean)\n",
    "print(data_sets)"
   ]
  }
 ],
 "metadata": {
  "kernelspec": {
   "display_name": "Python 3",
   "language": "python",
   "name": "python3"
  },
  "language_info": {
   "codemirror_mode": {
    "name": "ipython",
    "version": 3
   },
   "file_extension": ".py",
   "mimetype": "text/x-python",
   "name": "python",
   "nbconvert_exporter": "python",
   "pygments_lexer": "ipython3",
   "version": "3.8.3"
  }
 },
 "nbformat": 4,
 "nbformat_minor": 5
}
