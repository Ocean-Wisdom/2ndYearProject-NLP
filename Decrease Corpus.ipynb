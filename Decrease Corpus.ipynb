{
 "cells": [
  {
   "cell_type": "markdown",
   "id": "d37445fb",
   "metadata": {},
   "source": [
    "# 1. Imports"
   ]
  },
  {
   "cell_type": "code",
   "execution_count": 12,
   "id": "9acc6a5a",
   "metadata": {},
   "outputs": [],
   "source": [
    "# our functions\n",
    "import functions as f\n",
    "\n",
    "# readers\n",
    "\n",
    "import gzip\n",
    "import json\n",
    "\n",
    "import codecs\n",
    "\n",
    "import numpy as np\n",
    "\n",
    "import random\n",
    "\n",
    "# plot\n",
    "import matplotlib.pyplot as plt\n",
    "import scipy.stats as stats\n",
    "from sklearn.metrics import accuracy_score\n",
    "\n",
    "# NN\n",
    "## early stopping\n",
    "import h5py\n",
    "from keras.callbacks import EarlyStopping\n",
    "from keras.callbacks import ModelCheckpoint\n",
    "\n",
    "# time\n",
    "from datetime import datetime\n",
    "\n",
    "# preprocessing\n",
    "import re\n",
    "from keras.preprocessing.text import Tokenizer\n",
    "from collections import defaultdict\n",
    "\n",
    "# spelling correction\n",
    "import pkg_resources\n",
    "from symspellpy.symspellpy import SymSpell, Verbosity\n",
    "\n",
    "sym_spell = SymSpell(max_dictionary_edit_distance=2, prefix_length=7)\n",
    "dictionary_path = pkg_resources.resource_filename(\n",
    "    \"symspellpy\", \"frequency_dictionary_en_82_765.txt\"\n",
    ")\n",
    "# term_index is the column of the term and count_index is the\n",
    "# column of the term frequency\n",
    "sym_spell.load_dictionary(dictionary_path, term_index=0, count_index=1)\n",
    "\n",
    "# NN\n",
    "import tensorflow as tf\n",
    "from tensorflow import keras\n",
    "from tensorflow.keras import layers"
   ]
  },
  {
   "cell_type": "code",
   "execution_count": 2,
   "id": "13e1af48",
   "metadata": {},
   "outputs": [],
   "source": [
    "PATH = {}\n",
    "PATH[\"dataset_classification\"] = \"dataset/classification/\"\n",
    "PATH[\"dataset_labeling\"] = \"dataset/seq_labeling/\"\n",
    "PATH[\"music_reviews_train\"] = PATH[\"dataset_classification\"] + \"music_reviews_train.json.gz\"\n",
    "PATH[\"music_reviews_dev\"] = PATH[\"dataset_classification\"] + \"music_reviews_dev.json.gz\"\n",
    "PATH[\"music_reviews_test\"] = PATH[\"dataset_classification\"] + \"music_reviews_test_masked.json.gz\"\n",
    "\n",
    "# sent dict\n",
    "sent_dict = {\"positive\": 1, \"negative\": 0}"
   ]
  },
  {
   "cell_type": "markdown",
   "id": "46b6a4e9",
   "metadata": {},
   "source": [
    "# 2. Read in the files"
   ]
  },
  {
   "cell_type": "code",
   "execution_count": 3,
   "id": "9bae5b53",
   "metadata": {
    "scrolled": false
   },
   "outputs": [
    {
     "name": "stdout",
     "output_type": "stream",
     "text": [
      "Number of data:  100000\n",
      "Number of data:  10000\n",
      "Number of data:  10000\n"
     ]
    }
   ],
   "source": [
    "train = f.readJson(PATH[\"music_reviews_train\"])\n",
    "dev = f.readJson(PATH[\"music_reviews_dev\"])\n",
    "test = f.readJson(PATH[\"music_reviews_test\"])\n",
    "length_of_sentencies_counter = []"
   ]
  },
  {
   "cell_type": "markdown",
   "id": "3b7339b8",
   "metadata": {},
   "source": [
    "## Corpus Decreasing"
   ]
  },
  {
   "cell_type": "markdown",
   "id": "2c3aeeb1",
   "metadata": {},
   "source": [
    "## 1 BASIC PREPROCESSING"
   ]
  },
  {
   "cell_type": "code",
   "execution_count": 4,
   "id": "d2315e02",
   "metadata": {},
   "outputs": [],
   "source": [
    "# we need to delete punctuations and some stop words\n",
    "import string\n",
    "\n",
    "def remove_stop_words(text):\n",
    "    my_stop_words = ['$',\"'\",\"``\",\"''\",\"'s\"]\n",
    "    whitespace = [' ', '\\t', '\\n', '\\r', '\\x0b', '\\x0c']\n",
    "    punct = ['\"','#','$','%', '&', \"'\",'(', ')', '*', '+', ',', '-', '/', ':', ';', '<', '=', '>', '@', '[', '\\\\',\n",
    "             ']', '^', '_', '`', '{', '|', '}', '~'] # ? ! . are deleted\n",
    "    \n",
    "    stop_words_be = ['heee','i', 'me', 'my', 'myself', 'we', 'our', 'ours', 'ourselves', 'you', 'your', 'yours',\n",
    "    'yourself', 'yourselves', 'he', 'him', 'his', 'himself', 'she', 'her', 'hers',\n",
    "    'herself', 'it', 'its', 'itself', 'they', 'them', 'their', 'theirs', 'themselves',\n",
    "    'what', 'which', 'who', 'whom', 'this', 'that', 'these', 'those', 'am', 'is', 'are',\n",
    "    'was', 'were', 'be', 'been', 'being', 'have', 'has', 'had', 'having', 'do', 'does',\n",
    "    'did', 'doing', 'a', 'an', 'the', 'and', 'but', 'if', 'or', 'because', 'as', 'until',\n",
    "    'while', 'of', 'at', 'by', 'for', 'with', 'about', 'against', 'between', 'into',\n",
    "    'through', 'during', 'before', 'after', 'above', 'below', 'to', 'from', 'up', 'down',\n",
    "    'in', 'out', 'on', 'off', 'over', 'under', 'again', 'further', 'then', 'once', 'here',\n",
    "    'there', 'when', 'where', 'why', 'how', 'all', 'any', 'both', 'each', 'few', 'more',\n",
    "    'most', 'other', 'some', 'such', 'no', 'nor', 'not', 'only', 'own', 'same', 'so',\n",
    "    'than', 'too', 'very', 's', 't', 'can', 'will', 'just', 'don', 'should', 'now', '\\n', 'the', '\\x1bthis']\n",
    "\n",
    "    stop_words = set(list(my_stop_words) + list(string.digits) + punct + stop_words_be)\n",
    "    clean_text = []\n",
    "    length_of_sentencies_counter = []\n",
    "    \n",
    "    for sent in text:\n",
    "        # add whitespaces between punctuations, etc to be able to remove them\n",
    "        sent = re.sub('(?<! )(?=[.,!?()~${}\"|#&%*@\\'^+-/_0123456789:>`<;=\\[\\]])|(?<=[.,!?()~${}\"|#&%*@\\'^+-/_0123456789:>`<;=\\[\\]])(?! )', r' ', sent)\n",
    "        d_sent = []\n",
    "        for c in sent.split():\n",
    "            if c in stop_words:\n",
    "                None\n",
    "            else:\n",
    "                d_sent.append(c)\n",
    "        clean_text.append(list(d_sent))\n",
    "        length_of_sentencies_counter.append(len(d_sent))\n",
    "        #print(d_sent)\n",
    "    return clean_text,length_of_sentencies_counter #length_of_sentencies_counter"
   ]
  },
  {
   "cell_type": "markdown",
   "id": "2ca94d09",
   "metadata": {},
   "source": [
    "## 2. Check for words which are non-english ones"
   ]
  },
  {
   "cell_type": "code",
   "execution_count": 5,
   "id": "d08e00bd",
   "metadata": {},
   "outputs": [],
   "source": [
    "# pretokenizing for basic corpus\n",
    "pre_tokenizer = Tokenizer( #keras\n",
    "    num_words=None, # maximum number of words - most common ones\n",
    "    filters=None, #punctiations, etc\n",
    "    lower=True,\n",
    "    split=' ',\n",
    "    char_level=False, #its not working, anyway\n",
    "    oov_token=False,\n",
    "    document_count=0,\n",
    ")"
   ]
  },
  {
   "cell_type": "code",
   "execution_count": 6,
   "id": "28ce6735",
   "metadata": {},
   "outputs": [],
   "source": [
    "def unknown_words_to_words(dictionary):\n",
    "    unk_words_dict = defaultdict(str)\n",
    "    for word in dictionary:\n",
    "        if word in ['!','?','.']: # keep the basic puntuations\n",
    "            unk_words_dict[word] = word\n",
    "        else:\n",
    "            suggestions = sym_spell.lookup(word, Verbosity.CLOSEST,max_edit_distance=2)\n",
    "        # first finding\n",
    "            #print(word)\n",
    "            if len(suggestions) == 0: # if there is no suggestion, or totally fucked word\n",
    "                None\n",
    "            else:\n",
    "                unk_words_dict[word] = suggestions[0].term\n",
    "    return unk_words_dict"
   ]
  },
  {
   "cell_type": "code",
   "execution_count": 17,
   "id": "d3fd3642",
   "metadata": {},
   "outputs": [
    {
     "data": {
      "text/plain": [
       "'local'"
      ]
     },
     "execution_count": 17,
     "metadata": {},
     "output_type": "execute_result"
    }
   ],
   "source": [
    "word = \"loool\"\n",
    "suggestions = sym_spell.lookup(word, Verbosity.CLOSEST,max_edit_distance=2)\n",
    "suggestions[0].term"
   ]
  },
  {
   "cell_type": "markdown",
   "id": "38a04dcb",
   "metadata": {},
   "source": [
    "# CREATE A TOKENIZER WITH CORPUS LIMITATION BASED ON THE TRAIN SET"
   ]
  },
  {
   "cell_type": "code",
   "execution_count": 11,
   "id": "7bd60e28",
   "metadata": {},
   "outputs": [
    {
     "name": "stdout",
     "output_type": "stream",
     "text": [
      "Different words 68527\n"
     ]
    },
    {
     "ename": "NameError",
     "evalue": "name 'sym_spell' is not defined",
     "output_type": "error",
     "traceback": [
      "\u001b[1;31m---------------------------------------------------------------------------\u001b[0m",
      "\u001b[1;31mNameError\u001b[0m                                 Traceback (most recent call last)",
      "\u001b[1;32m~\\AppData\\Local\\Temp/ipykernel_14728/3582573230.py\u001b[0m in \u001b[0;36m<module>\u001b[1;34m\u001b[0m\n\u001b[0;32m     30\u001b[0m \u001b[1;31m# convert into default dict to avoid error of missing words\u001b[0m\u001b[1;33m\u001b[0m\u001b[1;33m\u001b[0m\u001b[1;33m\u001b[0m\u001b[0m\n\u001b[0;32m     31\u001b[0m \u001b[0mbasic_dict\u001b[0m \u001b[1;33m=\u001b[0m \u001b[0mdefaultdict\u001b[0m\u001b[1;33m(\u001b[0m\u001b[0mint\u001b[0m\u001b[1;33m,\u001b[0m \u001b[0mbasic_dict\u001b[0m\u001b[1;33m)\u001b[0m\u001b[1;33m\u001b[0m\u001b[1;33m\u001b[0m\u001b[0m\n\u001b[1;32m---> 32\u001b[1;33m \u001b[0md\u001b[0m \u001b[1;33m=\u001b[0m \u001b[0munknown_words_to_words\u001b[0m\u001b[1;33m(\u001b[0m\u001b[0mbasic_dict\u001b[0m\u001b[1;33m)\u001b[0m\u001b[1;33m\u001b[0m\u001b[1;33m\u001b[0m\u001b[0m\n\u001b[0m\u001b[0;32m     33\u001b[0m \u001b[1;31m# set of meaningfull words\u001b[0m\u001b[1;33m\u001b[0m\u001b[1;33m\u001b[0m\u001b[1;33m\u001b[0m\u001b[0m\n\u001b[0;32m     34\u001b[0m \u001b[0ms\u001b[0m \u001b[1;33m=\u001b[0m \u001b[0mset\u001b[0m\u001b[1;33m(\u001b[0m\u001b[0md\u001b[0m\u001b[1;33m.\u001b[0m\u001b[0mvalues\u001b[0m\u001b[1;33m(\u001b[0m\u001b[1;33m)\u001b[0m\u001b[1;33m)\u001b[0m\u001b[1;33m\u001b[0m\u001b[1;33m\u001b[0m\u001b[0m\n",
      "\u001b[1;32m~\\AppData\\Local\\Temp/ipykernel_14728/3034145477.py\u001b[0m in \u001b[0;36munknown_words_to_words\u001b[1;34m(dictionary)\u001b[0m\n\u001b[0;32m      5\u001b[0m             \u001b[0munk_words_dict\u001b[0m\u001b[1;33m[\u001b[0m\u001b[0mword\u001b[0m\u001b[1;33m]\u001b[0m \u001b[1;33m=\u001b[0m \u001b[0mword\u001b[0m\u001b[1;33m\u001b[0m\u001b[1;33m\u001b[0m\u001b[0m\n\u001b[0;32m      6\u001b[0m         \u001b[1;32melse\u001b[0m\u001b[1;33m:\u001b[0m\u001b[1;33m\u001b[0m\u001b[1;33m\u001b[0m\u001b[0m\n\u001b[1;32m----> 7\u001b[1;33m             \u001b[0msuggestions\u001b[0m \u001b[1;33m=\u001b[0m \u001b[0msym_spell\u001b[0m\u001b[1;33m.\u001b[0m\u001b[0mlookup\u001b[0m\u001b[1;33m(\u001b[0m\u001b[0mword\u001b[0m\u001b[1;33m,\u001b[0m \u001b[0mVerbosity\u001b[0m\u001b[1;33m.\u001b[0m\u001b[0mCLOSEST\u001b[0m\u001b[1;33m,\u001b[0m\u001b[0mmax_edit_distance\u001b[0m\u001b[1;33m=\u001b[0m\u001b[1;36m2\u001b[0m\u001b[1;33m)\u001b[0m\u001b[1;33m\u001b[0m\u001b[1;33m\u001b[0m\u001b[0m\n\u001b[0m\u001b[0;32m      8\u001b[0m         \u001b[1;31m# first finding\u001b[0m\u001b[1;33m\u001b[0m\u001b[1;33m\u001b[0m\u001b[1;33m\u001b[0m\u001b[0m\n\u001b[0;32m      9\u001b[0m             \u001b[1;31m#print(word)\u001b[0m\u001b[1;33m\u001b[0m\u001b[1;33m\u001b[0m\u001b[1;33m\u001b[0m\u001b[0m\n",
      "\u001b[1;31mNameError\u001b[0m: name 'sym_spell' is not defined"
     ]
    }
   ],
   "source": [
    "# read the train data\n",
    "data = train\n",
    "train_sent = []\n",
    "train_sentiment = []\n",
    "train_idx = []\n",
    "missing_indexies = []\n",
    "y_train = []\n",
    "length_of_sentencies_counter = []\n",
    "for i in range(len(data)):\n",
    "    try:\n",
    "        train_sent.append(data[i][\"reviewText\"])\n",
    "        train_sentiment.append(data[i][\"sentiment\"])\n",
    "        train_idx.append(i)\n",
    "        y_train.append(sent_dict[data[i][\"sentiment\"]])\n",
    "        #length_of_sentencies_counter.append(len(data[i][\"reviewText\"].split()))\n",
    "    except KeyError:\n",
    "        missing_indexies.append(i)\n",
    "        continue\n",
    "#print(missing_indexies)\n",
    "\n",
    "\n",
    "############### CREATE A TOKENIZER\n",
    "train_set_clean, l = remove_stop_words(train_sent)\n",
    "pre_tokenizer.fit_on_texts(train_set_clean)\n",
    "print(\"Different words\", max(pre_tokenizer.index_docs))\n",
    "\n",
    "\n",
    "# Get a list of words by count\n",
    "basic_dict = {k: v for k, v in sorted(pre_tokenizer.word_counts.items(), key=lambda item: item[1])}\n",
    "# convert into default dict to avoid error of missing words\n",
    "basic_dict = defaultdict(int, basic_dict)\n",
    "d = unknown_words_to_words(basic_dict)\n",
    "# set of meaningfull words\n",
    "s = set(d.values())\n",
    "print(\"count of meaningful words\", len(s))\n",
    "spelling_dict = unknown_words_to_words(basic_dict)"
   ]
  },
  {
   "cell_type": "code",
   "execution_count": 259,
   "id": "4b02ac86",
   "metadata": {},
   "outputs": [],
   "source": [
    "def grammar_corrector(dictionary, text):\n",
    "    cleaned_text = []\n",
    "    for line in text:\n",
    "        temp_line = []\n",
    "        for word in line:\n",
    "            temp_line.append(dictionary[word.lower()])\n",
    "        cleaned_text.append(temp_line)\n",
    "    return cleaned_text"
   ]
  },
  {
   "cell_type": "code",
   "execution_count": 246,
   "id": "f411ce7f",
   "metadata": {},
   "outputs": [],
   "source": [
    "tokenizer = Tokenizer()\n",
    "tokenizer.fit_on_texts(spelling_dict.values())"
   ]
  },
  {
   "cell_type": "code",
   "execution_count": 247,
   "id": "2d7020b9",
   "metadata": {},
   "outputs": [
    {
     "name": "stdout",
     "output_type": "stream",
     "text": [
      "[4603, 4838, 16019, 18229, 19785, 23315, 28397, 28834, 33359, 43138, 43539, 43690, 44008, 44477, 44972, 48811, 49317, 50106, 51717, 52286, 55555, 56171, 57223, 58328, 58799, 58866, 59525, 59739, 61046, 61914, 61916, 62831, 63208, 72268, 78944, 79067, 80093, 80637, 80658, 81640, 81900, 82510, 83138, 83145, 83615, 84761, 87112, 88895, 88984, 89132, 91949, 94301, 94727, 99641]\n",
      "Different words 68528\n",
      "count of meaningful words 39276\n",
      "##### \n"
     ]
    }
   ],
   "source": [
    "# read the train data\n",
    "data = train\n",
    "train_sent = []\n",
    "train_sentiment = []\n",
    "train_idx = []\n",
    "missing_indexies = []\n",
    "y_train = []\n",
    "length_of_sentencies_counter = []\n",
    "for i in range(len(data)):\n",
    "    try:\n",
    "        train_sent.append(data[i][\"reviewText\"])\n",
    "        train_sentiment.append(data[i][\"sentiment\"])\n",
    "        train_idx.append(i)\n",
    "        y_train.append(sent_dict[data[i][\"sentiment\"]])\n",
    "        #length_of_sentencies_counter.append(len(data[i][\"reviewText\"].split()))\n",
    "    except KeyError:\n",
    "        missing_indexies.append(i)\n",
    "        continue\n",
    "print(missing_indexies)\n",
    "\n",
    "########################## remove stop words delet missing shit \n",
    "##### ------------- remove stop words\n",
    "\n",
    "\n",
    "train_set_clean, l = remove_stop_words(train_sent)\n",
    "pre_tokenizer.fit_on_texts(train_set_clean)\n",
    "print(\"Different words\", max(pre_tokenizer.index_docs))\n",
    "d = unknown_words_to_words(basic_dict)\n",
    "# set of meaningfull words\n",
    "s = set(d.values())\n",
    "print(\"count of meaningful words\", len(s))\n",
    "# Get a list of words by count\n",
    "basic_dict = {k: v for k, v in sorted(pre_tokenizer.word_counts.items(), key=lambda item: item[1])}\n",
    "# convert into default dict to avoid error of missing words\n",
    "basic_dict = defaultdict(int, basic_dict)\n",
    "spelling_dict = unknown_words_to_words(basic_dict)\n"
   ]
  },
  {
   "cell_type": "code",
   "execution_count": 298,
   "id": "59cb9ff0",
   "metadata": {},
   "outputs": [],
   "source": [
    "def simple_stat(data):\n",
    "    lengths = []\n",
    "    for i in data:\n",
    "        lengths.append(len(i))\n",
    "    print(max(lengths))\n",
    "    print(min(lengths))\n",
    "    bins = [10, 20, 30,40,50,70,80,90,100,150,200,300,400,500,600]\n",
    "    plt.hist(lengths, bins = range(0, 200, 10))\n",
    "    print(\"average number of words in the sentence\")\n",
    "    print(np.average(lengths))\n",
    "    return None"
   ]
  },
  {
   "cell_type": "code",
   "execution_count": 305,
   "id": "1e22c10d",
   "metadata": {},
   "outputs": [
    {
     "name": "stdout",
     "output_type": "stream",
     "text": [
      "3239\n",
      "0\n",
      "average number of words in the sentence\n",
      "32.08572629219778\n"
     ]
    },
    {
     "data": {
      "image/png": "[encoded data removed]",
      "text/plain": [
       "<Figure size 432x288 with 1 Axes>"
      ]
     },
     "metadata": {
      "needs_background": "light"
     },
     "output_type": "display_data"
    }
   ],
   "source": [
    "simple_stat(train_set_clean)"
   ]
  },
  {
   "cell_type": "code",
   "execution_count": 9,
   "id": "8f695589",
   "metadata": {},
   "outputs": [
    {
     "name": "stdout",
     "output_type": "stream",
     "text": [
      "3239\n",
      "0\n",
      "average number of words in the sentence\n",
      "32.08572629219778\n"
     ]
    },
    {
     "data": {
      "image/png": "[encoded data removed]",
      "text/plain": [
       "<Figure size 432x288 with 1 Axes>"
      ]
     },
     "metadata": {
      "needs_background": "light"
     },
     "output_type": "display_data"
    }
   ],
   "source": [
    "# train data reviews length simple statistic\n",
    "import matplotlib.pyplot as plt\n",
    "print(max(length_of_sentencies_counter))\n",
    "print(min(length_of_sentencies_counter))\n",
    "bins = [10, 20, 30,40,50,70,80,90,100,150,200,300,400,500,600]\n",
    "plt.hist(length_of_sentencies_counter, bins = range(0, 200, 10))\n",
    "print(\"average number of words in the sentence\")\n",
    "print(np.average(length_of_sentencies_counter))"
   ]
  },
  {
   "cell_type": "code",
   "execution_count": 249,
   "id": "47903531",
   "metadata": {},
   "outputs": [
    {
     "name": "stdout",
     "output_type": "stream",
     "text": [
      "10000\n",
      "[2900, 4294, 5135, 8540]\n",
      "##### \n",
      "9990\n",
      "9990\n",
      "9990\n"
     ]
    }
   ],
   "source": [
    "data = dev\n",
    "print(len(dev))\n",
    "dev_sent = []\n",
    "dev_sentiment = []\n",
    "dev_idx = []\n",
    "missing_indexies = []\n",
    "dev_y_train = []\n",
    "for i in range(len(data)):\n",
    "    try:\n",
    "        dev_sent.append(data[i][\"reviewText\"])\n",
    "        dev_sentiment.append(data[i][\"sentiment\"])\n",
    "        dev_idx.append(i)\n",
    "        dev_y_train.append(sent_dict[data[i][\"sentiment\"]]) \n",
    "    except KeyError:\n",
    "        missing_indexies.append(i)\n",
    "        continue\n",
    "print(missing_indexies)\n",
    "\n",
    "# remove stop words\n",
    "dev_sent, l = remove_stop_words(dev_sent)\n",
    "\n",
    "########################## remove stop words delet missing shit \n",
    "##### ------------- remove stop words\n",
    "\n",
    "print(\"##### \")\n",
    "empties = []\n",
    "for i in range(len(dev_sent)):\n",
    "    if len(dev_sent[i]) == 0:\n",
    "        empties.append(i)\n",
    "c = 0\n",
    "for i in empties:\n",
    "    #print(train_sent[i-c])\n",
    "    del dev_sent[i-c]\n",
    "    del dev_sentiment[i-c]\n",
    "    del dev_y_train[i-c]\n",
    "    c += 1\n",
    "    #print(c)\n",
    "print(len(dev_sent))\n",
    "print(len(dev_sentiment))\n",
    "print(len(dev_y_train))"
   ]
  },
  {
   "cell_type": "code",
   "execution_count": 250,
   "id": "d15972ec",
   "metadata": {},
   "outputs": [
    {
     "name": "stdout",
     "output_type": "stream",
     "text": [
      "index of reviews which are empty:  [90, 117, 439, 2138, 4112, 5364, 8210]\n"
     ]
    }
   ],
   "source": [
    "data = test\n",
    "test_sent = []\n",
    "test_sentiment = []\n",
    "test_idx = []\n",
    "test_missing_indexies = []\n",
    "#print(test)\n",
    "for i in range(len(data)):\n",
    "    try:\n",
    "        test_sent.append(data[i][\"reviewText\"])\n",
    "        test_sentiment.append(data[i][\"sentiment\"])\n",
    "        #print(data[i][\"sentiment\"])\n",
    "        test_idx.append(i)\n",
    "        #y_train.append(sent_dict[data[i][\"sentiment\"]]) \n",
    "    except KeyError:\n",
    "        test_missing_indexies.append(i)\n",
    "        continue\n",
    "print(\"index of reviews which are empty: \",test_missing_indexies)\n",
    "\n",
    "# remove stop words\n",
    "test_sent,l = remove_stop_words(test_sent)"
   ]
  },
  {
   "cell_type": "markdown",
   "id": "01e2094e",
   "metadata": {},
   "source": [
    "## New encoder"
   ]
  },
  {
   "cell_type": "code",
   "execution_count": 306,
   "id": "2a3de7b2",
   "metadata": {},
   "outputs": [],
   "source": [
    "tokenizer = Tokenizer()\n",
    "tokenizer.fit_on_texts(spelling_dict.values()) #words from the grammar correction to idx\n",
    "#print(\"The document count\",t.document_count)"
   ]
  },
  {
   "cell_type": "code",
   "execution_count": 307,
   "id": "f94147f3",
   "metadata": {},
   "outputs": [],
   "source": [
    "Train = tokenizer.texts_to_sequences(grammar_corrector(spelling_dict,train_set_clean))\n",
    "Dev = tokenizer.texts_to_sequences(grammar_corrector(spelling_dict,dev_sent))\n",
    "Test = tokenizer.texts_to_sequences(grammar_corrector(spelling_dict,test_sent))"
   ]
  },
  {
   "cell_type": "code",
   "execution_count": 263,
   "id": "083495a0",
   "metadata": {},
   "outputs": [],
   "source": [
    "def sequence_pad(sequence, padding='pre', maxlen=50):\n",
    "    res = tf.keras.preprocessing.sequence.pad_sequences(\n",
    "        sequence,\n",
    "        maxlen=maxlen,\n",
    "        dtype='int32',\n",
    "        padding=padding,\n",
    "        truncating='pre',\n",
    "        value=0.0)\n",
    "    return res"
   ]
  },
  {
   "cell_type": "code",
   "execution_count": 276,
   "id": "5b01de82",
   "metadata": {},
   "outputs": [
    {
     "data": {
      "text/plain": [
       "99946"
      ]
     },
     "execution_count": 276,
     "metadata": {},
     "output_type": "execute_result"
    }
   ],
   "source": [
    "len(X_train_p)"
   ]
  },
  {
   "cell_type": "markdown",
   "id": "436426ae",
   "metadata": {},
   "source": [
    "## Padding the dataset, POST padding works better a little bit"
   ]
  },
  {
   "cell_type": "code",
   "execution_count": 287,
   "id": "e851026c",
   "metadata": {},
   "outputs": [
    {
     "data": {
      "text/plain": [
       "99946"
      ]
     },
     "execution_count": 287,
     "metadata": {},
     "output_type": "execute_result"
    }
   ],
   "source": [
    "padding = \"post\"\n",
    "maxlen = 50 # how many words from the review\n",
    "X_train_p = sequence_pad(Train, padding=padding, maxlen=maxlen)\n",
    "X_dev_p = sequence_pad(Dev, padding=padding, maxlen=maxlen)\n",
    "X_test_p = sequence_pad(Test, padding=padding, maxlen=maxlen)\n",
    "len(X_train_p)"
   ]
  },
  {
   "cell_type": "code",
   "execution_count": 289,
   "id": "83330e48",
   "metadata": {},
   "outputs": [
    {
     "name": "stdout",
     "output_type": "stream",
     "text": [
      "99946\n",
      "99946\n",
      "9990\n",
      "9990\n",
      "20000\n",
      "20000\n"
     ]
    }
   ],
   "source": [
    "X_train_m = np.array(X_train_p)\n",
    "y_train_m = np.array(y_train)\n",
    "print(len(y_train_m))\n",
    "print(len(X_train_m))\n",
    "X_valid_m = np.array(X_dev_p)\n",
    "y_valid_m = np.array(dev_y_train)\n",
    "print(len(X_valid_m))\n",
    "print(len(y_valid_m))\n",
    "X_test_m = np.array(X_test_p)\n",
    "#y_test_m = np.array(y_test)\n",
    "#print(len(X_test_m))\n",
    "#print(len(y_test_m))\n",
    "\n",
    "# sampling some random data for tran and DEV\n",
    "random.seed(40)\n",
    "bias = 20000\n",
    "\n",
    "ran = random.randint(0, len(X_train_m)-bias)\n",
    "ran_val = random.randint(0, len(X_valid_m)-(bias/10))\n",
    "s_tr = ran\n",
    "e = ran+bias\n",
    "s_test = ran_val\n",
    "e_test = ran_val+(bias/10)\n",
    "\n",
    "X_train_m = X_train_m[s_tr:e]\n",
    "y_train_m = y_train_m[s_tr:e]\n",
    "#X_valid_m = X_valid_m[s_test:int(e_test)]\n",
    "#y_valid_m = y_valid_m[s_test:int(e_test)]\n",
    "#X_valid_m = X_valid_m[s:e]\n",
    "#y_valid_m = y_valid_m[s:e]\n",
    "print(len(y_train_m))\n",
    "print(len(X_train_m))"
   ]
  },
  {
   "cell_type": "markdown",
   "id": "051e8706",
   "metadata": {},
   "source": [
    "# Early stopping Final"
   ]
  },
  {
   "cell_type": "code",
   "execution_count": 292,
   "id": "65896bde",
   "metadata": {
    "scrolled": false
   },
   "outputs": [
    {
     "name": "stdout",
     "output_type": "stream",
     "text": [
      "Model: \"sequential_5\"\n",
      "_________________________________________________________________\n",
      " Layer (type)                Output Shape              Param #   \n",
      "=================================================================\n",
      " embedding_5 (Embedding)     (None, 50, 200)           7854800   \n",
      "                                                                 \n",
      " lstm_5 (LSTM)               (None, 100)               120400    \n",
      "                                                                 \n",
      " dense_5 (Dense)             (None, 1)                 101       \n",
      "                                                                 \n",
      "=================================================================\n",
      "Total params: 7,975,301\n",
      "Trainable params: 7,975,301\n",
      "Non-trainable params: 0\n",
      "_________________________________________________________________\n",
      "None\n",
      "Epoch 1/10\n",
      "400/400 [==============================] - 64s 157ms/step - loss: 0.7270 - accuracy: 0.7065 - val_loss: 0.5204 - val_accuracy: 0.8065 - lr: 0.0010\n",
      "Epoch 2/10\n",
      "400/400 [==============================] - ETA: 0s - loss: 0.3316 - accuracy: 0.8816\n",
      "Epoch 2: ReduceLROnPlateau reducing learning rate to 0.0004000000189989805.\n",
      "400/400 [==============================] - 59s 149ms/step - loss: 0.3316 - accuracy: 0.8816 - val_loss: 0.3429 - val_accuracy: 0.8731 - lr: 0.0010\n",
      "Epoch 3/10\n",
      "400/400 [==============================] - ETA: 0s - loss: 0.1990 - accuracy: 0.9382\n",
      "Epoch 3: ReduceLROnPlateau reducing learning rate to 0.00016000000759959222.\n",
      "400/400 [==============================] - 59s 149ms/step - loss: 0.1990 - accuracy: 0.9382 - val_loss: 0.3209 - val_accuracy: 0.8768 - lr: 4.0000e-04\n",
      "Epoch 4/10\n",
      "400/400 [==============================] - ETA: 0s - loss: 0.1781 - accuracy: 0.9514\n",
      "Epoch 4: ReduceLROnPlateau reducing learning rate to 6.40000042039901e-05.\n",
      "400/400 [==============================] - 58s 145ms/step - loss: 0.1781 - accuracy: 0.9514 - val_loss: 0.3574 - val_accuracy: 0.8758 - lr: 1.6000e-04\n",
      "Epoch 5/10\n",
      "400/400 [==============================] - ETA: 0s - loss: 0.1485 - accuracy: 0.9589\n",
      "Epoch 5: ReduceLROnPlateau reducing learning rate to 2.560000284574926e-05.\n",
      "400/400 [==============================] - 58s 145ms/step - loss: 0.1485 - accuracy: 0.9589 - val_loss: 0.3669 - val_accuracy: 0.8759 - lr: 6.4000e-05\n",
      "Epoch 6/10\n",
      "142/400 [=========>....................] - ETA: 34s - loss: 0.1341 - accuracy: 0.9630"
     ]
    },
    {
     "ename": "KeyboardInterrupt",
     "evalue": "",
     "output_type": "error",
     "traceback": [
      "\u001b[1;31m---------------------------------------------------------------------------\u001b[0m",
      "\u001b[1;31mKeyboardInterrupt\u001b[0m                         Traceback (most recent call last)",
      "\u001b[1;32m~\\AppData\\Local\\Temp/ipykernel_14288/963649105.py\u001b[0m in \u001b[0;36m<module>\u001b[1;34m\u001b[0m\n\u001b[0;32m     37\u001b[0m \u001b[1;33m\u001b[0m\u001b[0m\n\u001b[0;32m     38\u001b[0m \u001b[1;31m#X_valid, y_valid = X_train_k[batch_size:], y_train[batch_size:]\u001b[0m\u001b[1;33m\u001b[0m\u001b[1;33m\u001b[0m\u001b[1;33m\u001b[0m\u001b[0m\n\u001b[1;32m---> 39\u001b[1;33m history = model.fit(X_train_m, y_train_m, validation_data=(X_valid_m, y_valid_m), \n\u001b[0m\u001b[0;32m     40\u001b[0m                     \u001b[0mbatch_size\u001b[0m\u001b[1;33m=\u001b[0m\u001b[0mbatch_size\u001b[0m\u001b[1;33m,\u001b[0m\u001b[1;33m\u001b[0m\u001b[1;33m\u001b[0m\u001b[0m\n\u001b[0;32m     41\u001b[0m                     \u001b[0mepochs\u001b[0m\u001b[1;33m=\u001b[0m\u001b[0mnum_epochs\u001b[0m\u001b[1;33m,\u001b[0m\u001b[1;33m\u001b[0m\u001b[1;33m\u001b[0m\u001b[0m\n",
      "\u001b[1;32m~\\AppData\\Roaming\\Python\\Python39\\site-packages\\keras\\utils\\traceback_utils.py\u001b[0m in \u001b[0;36merror_handler\u001b[1;34m(*args, **kwargs)\u001b[0m\n\u001b[0;32m     62\u001b[0m     \u001b[0mfiltered_tb\u001b[0m \u001b[1;33m=\u001b[0m \u001b[1;32mNone\u001b[0m\u001b[1;33m\u001b[0m\u001b[1;33m\u001b[0m\u001b[0m\n\u001b[0;32m     63\u001b[0m     \u001b[1;32mtry\u001b[0m\u001b[1;33m:\u001b[0m\u001b[1;33m\u001b[0m\u001b[1;33m\u001b[0m\u001b[0m\n\u001b[1;32m---> 64\u001b[1;33m       \u001b[1;32mreturn\u001b[0m \u001b[0mfn\u001b[0m\u001b[1;33m(\u001b[0m\u001b[1;33m*\u001b[0m\u001b[0margs\u001b[0m\u001b[1;33m,\u001b[0m \u001b[1;33m**\u001b[0m\u001b[0mkwargs\u001b[0m\u001b[1;33m)\u001b[0m\u001b[1;33m\u001b[0m\u001b[1;33m\u001b[0m\u001b[0m\n\u001b[0m\u001b[0;32m     65\u001b[0m     \u001b[1;32mexcept\u001b[0m \u001b[0mException\u001b[0m \u001b[1;32mas\u001b[0m \u001b[0me\u001b[0m\u001b[1;33m:\u001b[0m  \u001b[1;31m# pylint: disable=broad-except\u001b[0m\u001b[1;33m\u001b[0m\u001b[1;33m\u001b[0m\u001b[0m\n\u001b[0;32m     66\u001b[0m       \u001b[0mfiltered_tb\u001b[0m \u001b[1;33m=\u001b[0m \u001b[0m_process_traceback_frames\u001b[0m\u001b[1;33m(\u001b[0m\u001b[0me\u001b[0m\u001b[1;33m.\u001b[0m\u001b[0m__traceback__\u001b[0m\u001b[1;33m)\u001b[0m\u001b[1;33m\u001b[0m\u001b[1;33m\u001b[0m\u001b[0m\n",
      "\u001b[1;32m~\\AppData\\Roaming\\Python\\Python39\\site-packages\\keras\\engine\\training.py\u001b[0m in \u001b[0;36mfit\u001b[1;34m(self, x, y, batch_size, epochs, verbose, callbacks, validation_split, validation_data, shuffle, class_weight, sample_weight, initial_epoch, steps_per_epoch, validation_steps, validation_batch_size, validation_freq, max_queue_size, workers, use_multiprocessing)\u001b[0m\n\u001b[0;32m   1382\u001b[0m                 _r=1):\n\u001b[0;32m   1383\u001b[0m               \u001b[0mcallbacks\u001b[0m\u001b[1;33m.\u001b[0m\u001b[0mon_train_batch_begin\u001b[0m\u001b[1;33m(\u001b[0m\u001b[0mstep\u001b[0m\u001b[1;33m)\u001b[0m\u001b[1;33m\u001b[0m\u001b[1;33m\u001b[0m\u001b[0m\n\u001b[1;32m-> 1384\u001b[1;33m               \u001b[0mtmp_logs\u001b[0m \u001b[1;33m=\u001b[0m \u001b[0mself\u001b[0m\u001b[1;33m.\u001b[0m\u001b[0mtrain_function\u001b[0m\u001b[1;33m(\u001b[0m\u001b[0miterator\u001b[0m\u001b[1;33m)\u001b[0m\u001b[1;33m\u001b[0m\u001b[1;33m\u001b[0m\u001b[0m\n\u001b[0m\u001b[0;32m   1385\u001b[0m               \u001b[1;32mif\u001b[0m \u001b[0mdata_handler\u001b[0m\u001b[1;33m.\u001b[0m\u001b[0mshould_sync\u001b[0m\u001b[1;33m:\u001b[0m\u001b[1;33m\u001b[0m\u001b[1;33m\u001b[0m\u001b[0m\n\u001b[0;32m   1386\u001b[0m                 \u001b[0mcontext\u001b[0m\u001b[1;33m.\u001b[0m\u001b[0masync_wait\u001b[0m\u001b[1;33m(\u001b[0m\u001b[1;33m)\u001b[0m\u001b[1;33m\u001b[0m\u001b[1;33m\u001b[0m\u001b[0m\n",
      "\u001b[1;32m~\\AppData\\Roaming\\Python\\Python39\\site-packages\\tensorflow\\python\\util\\traceback_utils.py\u001b[0m in \u001b[0;36merror_handler\u001b[1;34m(*args, **kwargs)\u001b[0m\n\u001b[0;32m    148\u001b[0m     \u001b[0mfiltered_tb\u001b[0m \u001b[1;33m=\u001b[0m \u001b[1;32mNone\u001b[0m\u001b[1;33m\u001b[0m\u001b[1;33m\u001b[0m\u001b[0m\n\u001b[0;32m    149\u001b[0m     \u001b[1;32mtry\u001b[0m\u001b[1;33m:\u001b[0m\u001b[1;33m\u001b[0m\u001b[1;33m\u001b[0m\u001b[0m\n\u001b[1;32m--> 150\u001b[1;33m       \u001b[1;32mreturn\u001b[0m \u001b[0mfn\u001b[0m\u001b[1;33m(\u001b[0m\u001b[1;33m*\u001b[0m\u001b[0margs\u001b[0m\u001b[1;33m,\u001b[0m \u001b[1;33m**\u001b[0m\u001b[0mkwargs\u001b[0m\u001b[1;33m)\u001b[0m\u001b[1;33m\u001b[0m\u001b[1;33m\u001b[0m\u001b[0m\n\u001b[0m\u001b[0;32m    151\u001b[0m     \u001b[1;32mexcept\u001b[0m \u001b[0mException\u001b[0m \u001b[1;32mas\u001b[0m \u001b[0me\u001b[0m\u001b[1;33m:\u001b[0m\u001b[1;33m\u001b[0m\u001b[1;33m\u001b[0m\u001b[0m\n\u001b[0;32m    152\u001b[0m       \u001b[0mfiltered_tb\u001b[0m \u001b[1;33m=\u001b[0m \u001b[0m_process_traceback_frames\u001b[0m\u001b[1;33m(\u001b[0m\u001b[0me\u001b[0m\u001b[1;33m.\u001b[0m\u001b[0m__traceback__\u001b[0m\u001b[1;33m)\u001b[0m\u001b[1;33m\u001b[0m\u001b[1;33m\u001b[0m\u001b[0m\n",
      "\u001b[1;32m~\\AppData\\Roaming\\Python\\Python39\\site-packages\\tensorflow\\python\\eager\\def_function.py\u001b[0m in \u001b[0;36m__call__\u001b[1;34m(self, *args, **kwds)\u001b[0m\n\u001b[0;32m    913\u001b[0m \u001b[1;33m\u001b[0m\u001b[0m\n\u001b[0;32m    914\u001b[0m       \u001b[1;32mwith\u001b[0m \u001b[0mOptionalXlaContext\u001b[0m\u001b[1;33m(\u001b[0m\u001b[0mself\u001b[0m\u001b[1;33m.\u001b[0m\u001b[0m_jit_compile\u001b[0m\u001b[1;33m)\u001b[0m\u001b[1;33m:\u001b[0m\u001b[1;33m\u001b[0m\u001b[1;33m\u001b[0m\u001b[0m\n\u001b[1;32m--> 915\u001b[1;33m         \u001b[0mresult\u001b[0m \u001b[1;33m=\u001b[0m \u001b[0mself\u001b[0m\u001b[1;33m.\u001b[0m\u001b[0m_call\u001b[0m\u001b[1;33m(\u001b[0m\u001b[1;33m*\u001b[0m\u001b[0margs\u001b[0m\u001b[1;33m,\u001b[0m \u001b[1;33m**\u001b[0m\u001b[0mkwds\u001b[0m\u001b[1;33m)\u001b[0m\u001b[1;33m\u001b[0m\u001b[1;33m\u001b[0m\u001b[0m\n\u001b[0m\u001b[0;32m    916\u001b[0m \u001b[1;33m\u001b[0m\u001b[0m\n\u001b[0;32m    917\u001b[0m       \u001b[0mnew_tracing_count\u001b[0m \u001b[1;33m=\u001b[0m \u001b[0mself\u001b[0m\u001b[1;33m.\u001b[0m\u001b[0mexperimental_get_tracing_count\u001b[0m\u001b[1;33m(\u001b[0m\u001b[1;33m)\u001b[0m\u001b[1;33m\u001b[0m\u001b[1;33m\u001b[0m\u001b[0m\n",
      "\u001b[1;32m~\\AppData\\Roaming\\Python\\Python39\\site-packages\\tensorflow\\python\\eager\\def_function.py\u001b[0m in \u001b[0;36m_call\u001b[1;34m(self, *args, **kwds)\u001b[0m\n\u001b[0;32m    945\u001b[0m       \u001b[1;31m# In this case we have created variables on the first call, so we run the\u001b[0m\u001b[1;33m\u001b[0m\u001b[1;33m\u001b[0m\u001b[1;33m\u001b[0m\u001b[0m\n\u001b[0;32m    946\u001b[0m       \u001b[1;31m# defunned version which is guaranteed to never create variables.\u001b[0m\u001b[1;33m\u001b[0m\u001b[1;33m\u001b[0m\u001b[1;33m\u001b[0m\u001b[0m\n\u001b[1;32m--> 947\u001b[1;33m       \u001b[1;32mreturn\u001b[0m \u001b[0mself\u001b[0m\u001b[1;33m.\u001b[0m\u001b[0m_stateless_fn\u001b[0m\u001b[1;33m(\u001b[0m\u001b[1;33m*\u001b[0m\u001b[0margs\u001b[0m\u001b[1;33m,\u001b[0m \u001b[1;33m**\u001b[0m\u001b[0mkwds\u001b[0m\u001b[1;33m)\u001b[0m  \u001b[1;31m# pylint: disable=not-callable\u001b[0m\u001b[1;33m\u001b[0m\u001b[1;33m\u001b[0m\u001b[0m\n\u001b[0m\u001b[0;32m    948\u001b[0m     \u001b[1;32melif\u001b[0m \u001b[0mself\u001b[0m\u001b[1;33m.\u001b[0m\u001b[0m_stateful_fn\u001b[0m \u001b[1;32mis\u001b[0m \u001b[1;32mnot\u001b[0m \u001b[1;32mNone\u001b[0m\u001b[1;33m:\u001b[0m\u001b[1;33m\u001b[0m\u001b[1;33m\u001b[0m\u001b[0m\n\u001b[0;32m    949\u001b[0m       \u001b[1;31m# Release the lock early so that multiple threads can perform the call\u001b[0m\u001b[1;33m\u001b[0m\u001b[1;33m\u001b[0m\u001b[1;33m\u001b[0m\u001b[0m\n",
      "\u001b[1;32m~\\AppData\\Roaming\\Python\\Python39\\site-packages\\tensorflow\\python\\eager\\function.py\u001b[0m in \u001b[0;36m__call__\u001b[1;34m(self, *args, **kwargs)\u001b[0m\n\u001b[0;32m   2954\u001b[0m       (graph_function,\n\u001b[0;32m   2955\u001b[0m        filtered_flat_args) = self._maybe_define_function(args, kwargs)\n\u001b[1;32m-> 2956\u001b[1;33m     return graph_function._call_flat(\n\u001b[0m\u001b[0;32m   2957\u001b[0m         filtered_flat_args, captured_inputs=graph_function.captured_inputs)  # pylint: disable=protected-access\n\u001b[0;32m   2958\u001b[0m \u001b[1;33m\u001b[0m\u001b[0m\n",
      "\u001b[1;32m~\\AppData\\Roaming\\Python\\Python39\\site-packages\\tensorflow\\python\\eager\\function.py\u001b[0m in \u001b[0;36m_call_flat\u001b[1;34m(self, args, captured_inputs, cancellation_manager)\u001b[0m\n\u001b[0;32m   1851\u001b[0m         and executing_eagerly):\n\u001b[0;32m   1852\u001b[0m       \u001b[1;31m# No tape is watching; skip to running the function.\u001b[0m\u001b[1;33m\u001b[0m\u001b[1;33m\u001b[0m\u001b[1;33m\u001b[0m\u001b[0m\n\u001b[1;32m-> 1853\u001b[1;33m       return self._build_call_outputs(self._inference_function.call(\n\u001b[0m\u001b[0;32m   1854\u001b[0m           ctx, args, cancellation_manager=cancellation_manager))\n\u001b[0;32m   1855\u001b[0m     forward_backward = self._select_forward_and_backward_functions(\n",
      "\u001b[1;32m~\\AppData\\Roaming\\Python\\Python39\\site-packages\\tensorflow\\python\\eager\\function.py\u001b[0m in \u001b[0;36mcall\u001b[1;34m(self, ctx, args, cancellation_manager)\u001b[0m\n\u001b[0;32m    497\u001b[0m       \u001b[1;32mwith\u001b[0m \u001b[0m_InterpolateFunctionError\u001b[0m\u001b[1;33m(\u001b[0m\u001b[0mself\u001b[0m\u001b[1;33m)\u001b[0m\u001b[1;33m:\u001b[0m\u001b[1;33m\u001b[0m\u001b[1;33m\u001b[0m\u001b[0m\n\u001b[0;32m    498\u001b[0m         \u001b[1;32mif\u001b[0m \u001b[0mcancellation_manager\u001b[0m \u001b[1;32mis\u001b[0m \u001b[1;32mNone\u001b[0m\u001b[1;33m:\u001b[0m\u001b[1;33m\u001b[0m\u001b[1;33m\u001b[0m\u001b[0m\n\u001b[1;32m--> 499\u001b[1;33m           outputs = execute.execute(\n\u001b[0m\u001b[0;32m    500\u001b[0m               \u001b[0mstr\u001b[0m\u001b[1;33m(\u001b[0m\u001b[0mself\u001b[0m\u001b[1;33m.\u001b[0m\u001b[0msignature\u001b[0m\u001b[1;33m.\u001b[0m\u001b[0mname\u001b[0m\u001b[1;33m)\u001b[0m\u001b[1;33m,\u001b[0m\u001b[1;33m\u001b[0m\u001b[1;33m\u001b[0m\u001b[0m\n\u001b[0;32m    501\u001b[0m               \u001b[0mnum_outputs\u001b[0m\u001b[1;33m=\u001b[0m\u001b[0mself\u001b[0m\u001b[1;33m.\u001b[0m\u001b[0m_num_outputs\u001b[0m\u001b[1;33m,\u001b[0m\u001b[1;33m\u001b[0m\u001b[1;33m\u001b[0m\u001b[0m\n",
      "\u001b[1;32m~\\AppData\\Roaming\\Python\\Python39\\site-packages\\tensorflow\\python\\eager\\execute.py\u001b[0m in \u001b[0;36mquick_execute\u001b[1;34m(op_name, num_outputs, inputs, attrs, ctx, name)\u001b[0m\n\u001b[0;32m     52\u001b[0m   \u001b[1;32mtry\u001b[0m\u001b[1;33m:\u001b[0m\u001b[1;33m\u001b[0m\u001b[1;33m\u001b[0m\u001b[0m\n\u001b[0;32m     53\u001b[0m     \u001b[0mctx\u001b[0m\u001b[1;33m.\u001b[0m\u001b[0mensure_initialized\u001b[0m\u001b[1;33m(\u001b[0m\u001b[1;33m)\u001b[0m\u001b[1;33m\u001b[0m\u001b[1;33m\u001b[0m\u001b[0m\n\u001b[1;32m---> 54\u001b[1;33m     tensors = pywrap_tfe.TFE_Py_Execute(ctx._handle, device_name, op_name,\n\u001b[0m\u001b[0;32m     55\u001b[0m                                         inputs, attrs, num_outputs)\n\u001b[0;32m     56\u001b[0m   \u001b[1;32mexcept\u001b[0m \u001b[0mcore\u001b[0m\u001b[1;33m.\u001b[0m\u001b[0m_NotOkStatusException\u001b[0m \u001b[1;32mas\u001b[0m \u001b[0me\u001b[0m\u001b[1;33m:\u001b[0m\u001b[1;33m\u001b[0m\u001b[1;33m\u001b[0m\u001b[0m\n",
      "\u001b[1;31mKeyboardInterrupt\u001b[0m: "
     ]
    }
   ],
   "source": [
    "vocabulary_size = len(tokenizer.word_counts)\n",
    "\n",
    "from keras import Sequential\n",
    "from keras.layers import Embedding, LSTM, Dense, Dropout\n",
    "\n",
    "# get time for saving the model\n",
    "\n",
    "dateTimeObj = datetime.now()\n",
    "save_time = str(dateTimeObj.year)+'-'+str(dateTimeObj.month)+'-'+str(dateTimeObj.day)+'-'+str(dateTimeObj.hour)+'-'+str(dateTimeObj.minute)+'-'+str(dateTimeObj.second)\n",
    "\n",
    "# define the model\n",
    "\n",
    "embedding_size=64\n",
    "embedding_size=200 # bigger = slower train\n",
    "model=Sequential()\n",
    "model.add(Embedding(vocabulary_size+1, embedding_size, input_length=maxlen))\n",
    "model.add(LSTM(100))\n",
    "model.add(Dense(1, activation='tanh')) # shape of the labels, if its 2, than the y_ labels has a x* 2 shape \n",
    "\n",
    "model.compile(loss='binary_crossentropy', \n",
    "             optimizer='adam', \n",
    "             metrics=['accuracy'])\n",
    "\n",
    "print(model.summary())\n",
    "\n",
    "# early stopping\n",
    "\n",
    "from keras.callbacks import ReduceLROnPlateau\n",
    "earlyStopping = EarlyStopping(monitor='val_loss', patience=2, verbose=0, mode='min')\n",
    "earlyStopping = EarlyStopping(monitor='val_accuracy', patience=2, verbose=0, mode='min')\n",
    "mcp_save = ModelCheckpoint('model/'+save_time+'-model.mdl_wts.hdf5', save_best_only=True, monitor='val_accuracy', mode='max')\n",
    "reduce_lr_loss = ReduceLROnPlateau(monitor='val_accuracy', factor=0.2, patience=1, verbose=1, mode='min') \n",
    "############x #factor for learning rate\n",
    "# patience: 10% of number of epochs. Anyway, it is just for stopping the validation, since we have model checkpoint its doesnt matter\n",
    "batch_size = 50 # lower = slower train, higher = faster train\n",
    "num_epochs = 10\n",
    "\n",
    "#X_valid, y_valid = X_train_k[batch_size:], y_train[batch_size:]\n",
    "history = model.fit(X_train_m, y_train_m, validation_data=(X_valid_m, y_valid_m), \n",
    "                    batch_size=batch_size, \n",
    "                    epochs=num_epochs,\n",
    "                   callbacks=[earlyStopping, mcp_save, reduce_lr_loss])  # for regularization)\n",
    "#history = model.fit(X_train_m, y_train_m, batch_size=batch_size, epochs=num_epochs)\n",
    "#model.fit(X_trainn, y_trainn, batch_size=batch_size, epochs=num_epochs)\n",
    "#model.fit(X_train_m, y_train_m, batch_size=batch_size, epochs=num_epochs)\n",
    "#mc = ModelCheckpoint('best_model.h5', monitor='val_accuracy', mode='max', verbose=1, save_best_only=True)\n",
    "plt.plot(history.history[\"accuracy\"], 'g--', label='train accuracy')\n",
    "plt.plot(history.history[\"loss\"], 'r--', label='train loss')\n",
    "plt.plot(history.history[\"val_loss\"], 'r:', label='validation loss')\n",
    "plt.plot(history.history[\"val_accuracy\"], 'g:', label='validation accuracy')\n",
    "plt.legend()\n",
    "plt.show()\n",
    "######### ------------------------- ################### save the model\n",
    "#model.save('model/'+save_time)"
   ]
  },
  {
   "cell_type": "code",
   "execution_count": 293,
   "id": "35b33f34",
   "metadata": {},
   "outputs": [
    {
     "data": {
      "text/plain": [
       "[<matplotlib.lines.Line2D at 0x236c1f6ebb0>]"
      ]
     },
     "execution_count": 293,
     "metadata": {},
     "output_type": "execute_result"
    },
    {
     "data": {
      "image/png": "[encoded data removed]",
      "text/plain": [
       "<Figure size 432x288 with 1 Axes>"
      ]
     },
     "metadata": {
      "needs_background": "light"
     },
     "output_type": "display_data"
    }
   ],
   "source": [
    "plt.plot(history.history[\"accuracy\"], 'g--', label='train accuracy')\n",
    "plt.plot(history.history[\"loss\"], 'r--', label='train loss')\n",
    "plt.plot(history.history[\"val_loss\"], 'r:', label='validation loss')\n",
    "plt.plot(history.history[\"val_accuracy\"], 'g:', label='validation accuracy')"
   ]
  },
  {
   "cell_type": "code",
   "execution_count": 37,
   "id": "c4e62e4c",
   "metadata": {},
   "outputs": [
    {
     "name": "stderr",
     "output_type": "stream",
     "text": [
      "WARNING:absl:Found untraced functions such as lstm_cell_4_layer_call_fn, lstm_cell_4_layer_call_and_return_conditional_losses while saving (showing 2 of 2). These functions will not be directly callable after loading.\n"
     ]
    },
    {
     "name": "stdout",
     "output_type": "stream",
     "text": [
      "INFO:tensorflow:Assets written to: model/2022-4-18-23-34-42\\assets\n"
     ]
    },
    {
     "name": "stderr",
     "output_type": "stream",
     "text": [
      "INFO:tensorflow:Assets written to: model/2022-4-18-23-34-42\\assets\n",
      "WARNING:absl:<keras.layers.recurrent.LSTMCell object at 0x0000017E8A108370> has the same name 'LSTMCell' as a built-in Keras object. Consider renaming <class 'keras.layers.recurrent.LSTMCell'> to avoid naming conflicts when loading with `tf.keras.models.load_model`. If renaming is not possible, pass the object in the `custom_objects` parameter of the load function.\n"
     ]
    }
   ],
   "source": [
    "model.save('model/'+save_time)"
   ]
  },
  {
   "cell_type": "markdown",
   "id": "4bef6d96",
   "metadata": {},
   "source": [
    "## Result"
   ]
  },
  {
   "cell_type": "code",
   "execution_count": 24,
   "id": "82bcbd8c",
   "metadata": {},
   "outputs": [
    {
     "data": {
      "text/plain": [
       "0.9009415064102564"
      ]
     },
     "execution_count": 24,
     "metadata": {},
     "output_type": "execute_result"
    }
   ],
   "source": [
    "#model.save('model/'+save_time)\n",
    "model = keras.models.load_model('model/'+save_time+'-model.mdl_wts.hdf5')\n",
    "result = np.round(model.predict(X_valid_m))\n",
    "accuracy_score(y_valid_m, result)"
   ]
  },
  {
   "cell_type": "markdown",
   "id": "8e53b244",
   "metadata": {},
   "source": [
    "## Sentiment results, Sampling some guess"
   ]
  },
  {
   "cell_type": "code",
   "execution_count": 32,
   "id": "c86dd305",
   "metadata": {},
   "outputs": [],
   "source": [
    "prediction = np.round(model.predict(X_test_p))"
   ]
  },
  {
   "cell_type": "code",
   "execution_count": 34,
   "id": "5583e069",
   "metadata": {},
   "outputs": [
    {
     "name": "stdout",
     "output_type": "stream",
     "text": [
      "index 8758\n",
      "#### positive --- ['I', 'love', 'song', '.', 'Can', 'understand', 'isn', 'getting', 'airplay', '.']\n",
      "index 4368\n",
      "#### positive --- ['Great', '!']\n",
      "index 9359\n",
      "#### negative --- ['Horrible']\n",
      "index 167\n",
      "#### positive --- ['I', 'heard', 'song', 'concert', 'determined', 'collection', '.', 'It', 'beautiful', 'relaxing', 'great', 'song', 'come', 'home', 'listen', 'work', '.']\n",
      "index 5115\n",
      "#### positive --- ['I', 'saw', 'On', 'Road', 'I', 'LOVED', 'music', '.', 'I', 'thought', 'represented', 'phase', 'early', 'upbeat', 'jazz', 'I', 'unfamiliar', 'really', 'liked', 'lot', '.', 'Ironically', 'I', 'found', 'early', 'jazz', 'I', 'thought', 'I', 'loved', 'album', 'actually', 'modern', 'compositions', 'Gustavo', 'Santaolalla', 'modern', 'soundtrack', 'guy', 'even', 'read', 'music', 'supposedly', '!', 'Great', 'album', 'parties', '.']\n"
     ]
    }
   ],
   "source": [
    "acc = 0\n",
    "acc_count = 0\n",
    "res_final = []\n",
    "for r in prediction:\n",
    "    acc_count+=1\n",
    "    if r==0:\n",
    "        res_final.append(\"negative\")\n",
    "    if r==1:\n",
    "        res_final.append(\"positive\")\n",
    "        \n",
    "for i in random.sample(range(0, 9993), 5):\n",
    "    print(\"index\", i)\n",
    "    print(\"####\", res_final[i], \"---\", test_sent[i])"
   ]
  },
  {
   "cell_type": "code",
   "execution_count": 35,
   "id": "4c2ed8ed",
   "metadata": {},
   "outputs": [
    {
     "name": "stdout",
     "output_type": "stream",
     "text": [
      "keep original\n",
      "90\n",
      "{'verified': False, 'reviewTime': '11 16, 2015', 'reviewerID': 'A1O7C6DFZ15E43', 'asin': 'B007Z2OQB0', 'summary': 'Five Stars', 'unixReviewTime': 1447632000, 'sentiment': '_', 'id': 90}\n",
      "keep original\n",
      "117\n",
      "{'verified': True, 'reviewTime': '07 31, 2017', 'reviewerID': 'AWGJYHMXOYCVI', 'asin': 'B007ZCH8R4', 'unixReviewTime': 1501459200, 'sentiment': '_', 'id': 117}\n",
      "keep original\n",
      "439\n",
      "{'verified': True, 'reviewTime': '08 16, 2016', 'reviewerID': 'A24YYQXR82CKHJ', 'asin': 'B008591TBW', 'style': {'Format:': ' MP3 Music'}, 'summary': 'Five Stars', 'unixReviewTime': 1471305600, 'sentiment': '_', 'id': 439}\n",
      "keep original\n",
      "2138\n",
      "{'verified': True, 'reviewTime': '09 13, 2016', 'reviewerID': 'A1ZBIIZLWE8NRE', 'asin': 'B00940XFTK', 'style': {'Format:': ' MP3 Music'}, 'summary': 'Five Stars', 'unixReviewTime': 1473724800, 'sentiment': '_', 'id': 2138}\n",
      "keep original\n",
      "4112\n",
      "{'verified': True, 'reviewTime': '07 4, 2018', 'reviewerID': 'A1K51YDXUGEEBG', 'asin': 'B000YIWSK8', 'unixReviewTime': 1530662400, 'sentiment': '_', 'id': 4112}\n",
      "keep original\n",
      "5364\n",
      "{'verified': True, 'reviewTime': '03 30, 2016', 'reviewerID': 'AD3XXTYLOEW4U', 'asin': 'B00AI3L45O', 'summary': 'Five Stars', 'unixReviewTime': 1459296000, 'sentiment': '_', 'id': 5364}\n",
      "keep original\n",
      "8210\n",
      "{'verified': True, 'reviewTime': '01 31, 2016', 'reviewerID': 'A2DGN8K8MUTAY2', 'asin': 'B000QMZUMU', 'summary': 'Four Stars', 'unixReviewTime': 1454198400, 'sentiment': '_', 'id': 8210}\n"
     ]
    }
   ],
   "source": [
    "from collections import defaultdict\n",
    "\n",
    "json_raw_data = []\n",
    "jsonfilename = 'dataset/classification/tt.gz'\n",
    "counter = 0\n",
    "list_of_skip_indexies = [90, 117, 439, 2138, 4112, 5364, 8210]\n",
    "res_count = 0\n",
    "for line in gzip.open('dataset/classification/t_masked.gz'):\n",
    "    review_data = json.loads(line)\n",
    "    tempdata = []\n",
    "    if counter in list_of_skip_indexies: # keep origin\n",
    "        print(\"keep original\")\n",
    "        print(counter)\n",
    "        print(review_data)\n",
    "        res_count -=1\n",
    "        for key in review_data:\n",
    "            #print(\"keep original\")\n",
    "            tempdata.append({\n",
    "            key: str(review_data[key])})\n",
    "    else:\n",
    "        def_dict = defaultdict(list)\n",
    "        def_dict = dict()\n",
    "        for key in review_data:\n",
    "            #print(key)\n",
    "            if key == \"sentiment\":\n",
    "                def_dict[key] = res_final[res_count]\n",
    "            else:\n",
    "                tempdata.append({\n",
    "                key: str(review_data[key])})\n",
    "                def_dict[key] = str(review_data[key])\n",
    "    counter += 1\n",
    "    res_count +=1\n",
    "    #print(counter)\n",
    "\n",
    "    #json_raw_data.append(def_dict)\n",
    "    json_raw_data.append(def_dict) # ok this is very good, itsa opening with json.load\n",
    "    \n",
    "outFile = open('music_reviews_test.json', 'w')\n",
    "for instance in json_raw_data:\n",
    "      outFile.write(json.dumps(instance) + '\\n')\n",
    "outFile.close()"
   ]
  },
  {
   "cell_type": "code",
   "execution_count": 36,
   "id": "b7b9f6b1",
   "metadata": {},
   "outputs": [
    {
     "ename": "FileNotFoundError",
     "evalue": "[Errno 2] No such file or directory: 'group16.json.gz'",
     "output_type": "error",
     "traceback": [
      "\u001b[1;31m---------------------------------------------------------------------------\u001b[0m",
      "\u001b[1;31mFileNotFoundError\u001b[0m                         Traceback (most recent call last)",
      "\u001b[1;32m~\\AppData\\Local\\Temp/ipykernel_14128/2391082266.py\u001b[0m in \u001b[0;36m<module>\u001b[1;34m\u001b[0m\n\u001b[1;32m----> 1\u001b[1;33m \u001b[1;32mfor\u001b[0m \u001b[0mline\u001b[0m \u001b[1;32min\u001b[0m \u001b[0mgzip\u001b[0m\u001b[1;33m.\u001b[0m\u001b[0mopen\u001b[0m\u001b[1;33m(\u001b[0m\u001b[1;34m'group16.json.gz'\u001b[0m\u001b[1;33m)\u001b[0m\u001b[1;33m:\u001b[0m\u001b[1;33m\u001b[0m\u001b[1;33m\u001b[0m\u001b[0m\n\u001b[0m\u001b[0;32m      2\u001b[0m     \u001b[0mreview_data\u001b[0m \u001b[1;33m=\u001b[0m \u001b[0mjson\u001b[0m\u001b[1;33m.\u001b[0m\u001b[0mloads\u001b[0m\u001b[1;33m(\u001b[0m\u001b[0mline\u001b[0m\u001b[1;33m)\u001b[0m\u001b[1;33m\u001b[0m\u001b[1;33m\u001b[0m\u001b[0m\n\u001b[0;32m      3\u001b[0m     \u001b[1;32mfor\u001b[0m \u001b[0mkey\u001b[0m \u001b[1;32min\u001b[0m \u001b[0mreview_data\u001b[0m\u001b[1;33m:\u001b[0m\u001b[1;33m\u001b[0m\u001b[1;33m\u001b[0m\u001b[0m\n\u001b[0;32m      4\u001b[0m         \u001b[0mprint\u001b[0m\u001b[1;33m(\u001b[0m\u001b[1;34m'\"'\u001b[0m \u001b[1;33m+\u001b[0m \u001b[0mkey\u001b[0m \u001b[1;33m+\u001b[0m\u001b[1;34m'\": '\u001b[0m \u001b[1;33m+\u001b[0m \u001b[0mstr\u001b[0m\u001b[1;33m(\u001b[0m\u001b[0mreview_data\u001b[0m\u001b[1;33m[\u001b[0m\u001b[0mkey\u001b[0m\u001b[1;33m]\u001b[0m\u001b[1;33m)\u001b[0m\u001b[1;33m)\u001b[0m\u001b[1;33m\u001b[0m\u001b[1;33m\u001b[0m\u001b[0m\n\u001b[0;32m      5\u001b[0m     \u001b[1;32mbreak\u001b[0m\u001b[1;33m\u001b[0m\u001b[1;33m\u001b[0m\u001b[0m\n",
      "\u001b[1;32mc:\\users\\music\\appdata\\local\\programs\\python\\python39\\lib\\gzip.py\u001b[0m in \u001b[0;36mopen\u001b[1;34m(filename, mode, compresslevel, encoding, errors, newline)\u001b[0m\n\u001b[0;32m     56\u001b[0m     \u001b[0mgz_mode\u001b[0m \u001b[1;33m=\u001b[0m \u001b[0mmode\u001b[0m\u001b[1;33m.\u001b[0m\u001b[0mreplace\u001b[0m\u001b[1;33m(\u001b[0m\u001b[1;34m\"t\"\u001b[0m\u001b[1;33m,\u001b[0m \u001b[1;34m\"\"\u001b[0m\u001b[1;33m)\u001b[0m\u001b[1;33m\u001b[0m\u001b[1;33m\u001b[0m\u001b[0m\n\u001b[0;32m     57\u001b[0m     \u001b[1;32mif\u001b[0m \u001b[0misinstance\u001b[0m\u001b[1;33m(\u001b[0m\u001b[0mfilename\u001b[0m\u001b[1;33m,\u001b[0m \u001b[1;33m(\u001b[0m\u001b[0mstr\u001b[0m\u001b[1;33m,\u001b[0m \u001b[0mbytes\u001b[0m\u001b[1;33m,\u001b[0m \u001b[0mos\u001b[0m\u001b[1;33m.\u001b[0m\u001b[0mPathLike\u001b[0m\u001b[1;33m)\u001b[0m\u001b[1;33m)\u001b[0m\u001b[1;33m:\u001b[0m\u001b[1;33m\u001b[0m\u001b[1;33m\u001b[0m\u001b[0m\n\u001b[1;32m---> 58\u001b[1;33m         \u001b[0mbinary_file\u001b[0m \u001b[1;33m=\u001b[0m \u001b[0mGzipFile\u001b[0m\u001b[1;33m(\u001b[0m\u001b[0mfilename\u001b[0m\u001b[1;33m,\u001b[0m \u001b[0mgz_mode\u001b[0m\u001b[1;33m,\u001b[0m \u001b[0mcompresslevel\u001b[0m\u001b[1;33m)\u001b[0m\u001b[1;33m\u001b[0m\u001b[1;33m\u001b[0m\u001b[0m\n\u001b[0m\u001b[0;32m     59\u001b[0m     \u001b[1;32melif\u001b[0m \u001b[0mhasattr\u001b[0m\u001b[1;33m(\u001b[0m\u001b[0mfilename\u001b[0m\u001b[1;33m,\u001b[0m \u001b[1;34m\"read\"\u001b[0m\u001b[1;33m)\u001b[0m \u001b[1;32mor\u001b[0m \u001b[0mhasattr\u001b[0m\u001b[1;33m(\u001b[0m\u001b[0mfilename\u001b[0m\u001b[1;33m,\u001b[0m \u001b[1;34m\"write\"\u001b[0m\u001b[1;33m)\u001b[0m\u001b[1;33m:\u001b[0m\u001b[1;33m\u001b[0m\u001b[1;33m\u001b[0m\u001b[0m\n\u001b[0;32m     60\u001b[0m         \u001b[0mbinary_file\u001b[0m \u001b[1;33m=\u001b[0m \u001b[0mGzipFile\u001b[0m\u001b[1;33m(\u001b[0m\u001b[1;32mNone\u001b[0m\u001b[1;33m,\u001b[0m \u001b[0mgz_mode\u001b[0m\u001b[1;33m,\u001b[0m \u001b[0mcompresslevel\u001b[0m\u001b[1;33m,\u001b[0m \u001b[0mfilename\u001b[0m\u001b[1;33m)\u001b[0m\u001b[1;33m\u001b[0m\u001b[1;33m\u001b[0m\u001b[0m\n",
      "\u001b[1;32mc:\\users\\music\\appdata\\local\\programs\\python\\python39\\lib\\gzip.py\u001b[0m in \u001b[0;36m__init__\u001b[1;34m(self, filename, mode, compresslevel, fileobj, mtime)\u001b[0m\n\u001b[0;32m    171\u001b[0m             \u001b[0mmode\u001b[0m \u001b[1;33m+=\u001b[0m \u001b[1;34m'b'\u001b[0m\u001b[1;33m\u001b[0m\u001b[1;33m\u001b[0m\u001b[0m\n\u001b[0;32m    172\u001b[0m         \u001b[1;32mif\u001b[0m \u001b[0mfileobj\u001b[0m \u001b[1;32mis\u001b[0m \u001b[1;32mNone\u001b[0m\u001b[1;33m:\u001b[0m\u001b[1;33m\u001b[0m\u001b[1;33m\u001b[0m\u001b[0m\n\u001b[1;32m--> 173\u001b[1;33m             \u001b[0mfileobj\u001b[0m \u001b[1;33m=\u001b[0m \u001b[0mself\u001b[0m\u001b[1;33m.\u001b[0m\u001b[0mmyfileobj\u001b[0m \u001b[1;33m=\u001b[0m \u001b[0mbuiltins\u001b[0m\u001b[1;33m.\u001b[0m\u001b[0mopen\u001b[0m\u001b[1;33m(\u001b[0m\u001b[0mfilename\u001b[0m\u001b[1;33m,\u001b[0m \u001b[0mmode\u001b[0m \u001b[1;32mor\u001b[0m \u001b[1;34m'rb'\u001b[0m\u001b[1;33m)\u001b[0m\u001b[1;33m\u001b[0m\u001b[1;33m\u001b[0m\u001b[0m\n\u001b[0m\u001b[0;32m    174\u001b[0m         \u001b[1;32mif\u001b[0m \u001b[0mfilename\u001b[0m \u001b[1;32mis\u001b[0m \u001b[1;32mNone\u001b[0m\u001b[1;33m:\u001b[0m\u001b[1;33m\u001b[0m\u001b[1;33m\u001b[0m\u001b[0m\n\u001b[0;32m    175\u001b[0m             \u001b[0mfilename\u001b[0m \u001b[1;33m=\u001b[0m \u001b[0mgetattr\u001b[0m\u001b[1;33m(\u001b[0m\u001b[0mfileobj\u001b[0m\u001b[1;33m,\u001b[0m \u001b[1;34m'name'\u001b[0m\u001b[1;33m,\u001b[0m \u001b[1;34m''\u001b[0m\u001b[1;33m)\u001b[0m\u001b[1;33m\u001b[0m\u001b[1;33m\u001b[0m\u001b[0m\n",
      "\u001b[1;31mFileNotFoundError\u001b[0m: [Errno 2] No such file or directory: 'group16.json.gz'"
     ]
    }
   ],
   "source": [
    "for line in gzip.open('group16.json.gz'):\n",
    "    review_data = json.loads(line)\n",
    "    for key in review_data:\n",
    "        print('\"' + key +'\": ' + str(review_data[key]))\n",
    "    break"
   ]
  },
  {
   "cell_type": "code",
   "execution_count": null,
   "id": "75461402",
   "metadata": {},
   "outputs": [],
   "source": []
  }
 ],
 "metadata": {
  "kernelspec": {
   "display_name": "Python 3 (ipykernel)",
   "language": "python",
   "name": "python3"
  },
  "language_info": {
   "codemirror_mode": {
    "name": "ipython",
    "version": 3
   },
   "file_extension": ".py",
   "mimetype": "text/x-python",
   "name": "python",
   "nbconvert_exporter": "python",
   "pygments_lexer": "ipython3",
   "version": "3.9.6"
  }
 },
 "nbformat": 4,
 "nbformat_minor": 5
}
